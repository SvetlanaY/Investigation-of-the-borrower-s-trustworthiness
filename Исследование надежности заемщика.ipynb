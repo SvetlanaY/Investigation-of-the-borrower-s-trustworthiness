{
 "cells": [
  {
   "cell_type": "markdown",
   "metadata": {},
   "source": [
    "# Исследование надёжности заёмщиков\n",
    "\n",
    "**Заказчик** — кредитный отдел банка. \n",
    "\n",
    "**Входные данные от банка** — статистика о платёжеспособности клиентов. \n",
    "\n",
    "\n",
    "**Цель исследования** ответить на вопрсы:  \n",
    "- Есть ли зависимость между наличием детей и возвратом кредита в срок?\n",
    "- Есть ли зависимость между семейным положением и возвратом кредита в срок?\n",
    "- Есть ли зависимость между уровнем дохода и возвратом кредита в срок?\n",
    "- Как разные цели кредита влияют на его возврат в срок?\n",
    "\n",
    "**Результаты исследования** будут учтены при построении модели *кредитного скоринга* — специальной системы, которая оценивает способность потенциального заёмщика вернуть кредит банку.  \n",
    "\n",
    "**Ход исследования**\n",
    "Данные о поведении пользователей получаем из файла `/datasets/data.csv` (данные Яндекс Практикума). О качестве данных ничего не известно. Поэтому перед проверкой гипотез понадобится обзор данных. \n",
    "Таким образом, исследование пройдёт по следующим этапам:\n",
    " 1. Обзор данных.\n",
    " 2. Предобработка данных.\n",
    " 3. Проверка гипотез.\n",
    " 4. Общий вывод\n"
   ]
  },
  {
   "cell_type": "markdown",
   "metadata": {},
   "source": [
    "## Обзор данных"
   ]
  },
  {
   "cell_type": "code",
   "execution_count": 74,
   "metadata": {},
   "outputs": [],
   "source": [
    "# импорт необходимых библиотек\n",
    "import matplotlib.pyplot as plt\n",
    "from pymystem3 import Mystem\n",
    "import pandas as pd\n",
    "import seaborn as sns"
   ]
  },
  {
   "cell_type": "code",
   "execution_count": 75,
   "metadata": {},
   "outputs": [],
   "source": [
    "# чтение файла с данными и сохранение в df\n",
    "df = pd.read_csv('***')"
   ]
  },
  {
   "cell_type": "code",
   "execution_count": 76,
   "metadata": {},
   "outputs": [
    {
     "data": {
      "text/html": [
       "<div>\n",
       "<style scoped>\n",
       "    .dataframe tbody tr th:only-of-type {\n",
       "        vertical-align: middle;\n",
       "    }\n",
       "\n",
       "    .dataframe tbody tr th {\n",
       "        vertical-align: top;\n",
       "    }\n",
       "\n",
       "    .dataframe thead th {\n",
       "        text-align: right;\n",
       "    }\n",
       "</style>\n",
       "<table border=\"1\" class=\"dataframe\">\n",
       "  <thead>\n",
       "    <tr style=\"text-align: right;\">\n",
       "      <th></th>\n",
       "      <th>children</th>\n",
       "      <th>days_employed</th>\n",
       "      <th>dob_years</th>\n",
       "      <th>education</th>\n",
       "      <th>education_id</th>\n",
       "      <th>family_status</th>\n",
       "      <th>family_status_id</th>\n",
       "      <th>gender</th>\n",
       "      <th>income_type</th>\n",
       "      <th>debt</th>\n",
       "      <th>total_income</th>\n",
       "      <th>purpose</th>\n",
       "    </tr>\n",
       "  </thead>\n",
       "  <tbody>\n",
       "    <tr>\n",
       "      <th>0</th>\n",
       "      <td>1</td>\n",
       "      <td>-8437.673028</td>\n",
       "      <td>42</td>\n",
       "      <td>высшее</td>\n",
       "      <td>0</td>\n",
       "      <td>женат / замужем</td>\n",
       "      <td>0</td>\n",
       "      <td>F</td>\n",
       "      <td>сотрудник</td>\n",
       "      <td>0</td>\n",
       "      <td>253875.639453</td>\n",
       "      <td>покупка жилья</td>\n",
       "    </tr>\n",
       "    <tr>\n",
       "      <th>1</th>\n",
       "      <td>1</td>\n",
       "      <td>-4024.803754</td>\n",
       "      <td>36</td>\n",
       "      <td>среднее</td>\n",
       "      <td>1</td>\n",
       "      <td>женат / замужем</td>\n",
       "      <td>0</td>\n",
       "      <td>F</td>\n",
       "      <td>сотрудник</td>\n",
       "      <td>0</td>\n",
       "      <td>112080.014102</td>\n",
       "      <td>приобретение автомобиля</td>\n",
       "    </tr>\n",
       "    <tr>\n",
       "      <th>2</th>\n",
       "      <td>0</td>\n",
       "      <td>-5623.422610</td>\n",
       "      <td>33</td>\n",
       "      <td>Среднее</td>\n",
       "      <td>1</td>\n",
       "      <td>женат / замужем</td>\n",
       "      <td>0</td>\n",
       "      <td>M</td>\n",
       "      <td>сотрудник</td>\n",
       "      <td>0</td>\n",
       "      <td>145885.952297</td>\n",
       "      <td>покупка жилья</td>\n",
       "    </tr>\n",
       "    <tr>\n",
       "      <th>3</th>\n",
       "      <td>3</td>\n",
       "      <td>-4124.747207</td>\n",
       "      <td>32</td>\n",
       "      <td>среднее</td>\n",
       "      <td>1</td>\n",
       "      <td>женат / замужем</td>\n",
       "      <td>0</td>\n",
       "      <td>M</td>\n",
       "      <td>сотрудник</td>\n",
       "      <td>0</td>\n",
       "      <td>267628.550329</td>\n",
       "      <td>дополнительное образование</td>\n",
       "    </tr>\n",
       "    <tr>\n",
       "      <th>4</th>\n",
       "      <td>0</td>\n",
       "      <td>340266.072047</td>\n",
       "      <td>53</td>\n",
       "      <td>среднее</td>\n",
       "      <td>1</td>\n",
       "      <td>гражданский брак</td>\n",
       "      <td>1</td>\n",
       "      <td>F</td>\n",
       "      <td>пенсионер</td>\n",
       "      <td>0</td>\n",
       "      <td>158616.077870</td>\n",
       "      <td>сыграть свадьбу</td>\n",
       "    </tr>\n",
       "    <tr>\n",
       "      <th>5</th>\n",
       "      <td>0</td>\n",
       "      <td>-926.185831</td>\n",
       "      <td>27</td>\n",
       "      <td>высшее</td>\n",
       "      <td>0</td>\n",
       "      <td>гражданский брак</td>\n",
       "      <td>1</td>\n",
       "      <td>M</td>\n",
       "      <td>компаньон</td>\n",
       "      <td>0</td>\n",
       "      <td>255763.565419</td>\n",
       "      <td>покупка жилья</td>\n",
       "    </tr>\n",
       "    <tr>\n",
       "      <th>6</th>\n",
       "      <td>0</td>\n",
       "      <td>-2879.202052</td>\n",
       "      <td>43</td>\n",
       "      <td>высшее</td>\n",
       "      <td>0</td>\n",
       "      <td>женат / замужем</td>\n",
       "      <td>0</td>\n",
       "      <td>F</td>\n",
       "      <td>компаньон</td>\n",
       "      <td>0</td>\n",
       "      <td>240525.971920</td>\n",
       "      <td>операции с жильем</td>\n",
       "    </tr>\n",
       "    <tr>\n",
       "      <th>7</th>\n",
       "      <td>0</td>\n",
       "      <td>-152.779569</td>\n",
       "      <td>50</td>\n",
       "      <td>СРЕДНЕЕ</td>\n",
       "      <td>1</td>\n",
       "      <td>женат / замужем</td>\n",
       "      <td>0</td>\n",
       "      <td>M</td>\n",
       "      <td>сотрудник</td>\n",
       "      <td>0</td>\n",
       "      <td>135823.934197</td>\n",
       "      <td>образование</td>\n",
       "    </tr>\n",
       "    <tr>\n",
       "      <th>8</th>\n",
       "      <td>2</td>\n",
       "      <td>-6929.865299</td>\n",
       "      <td>35</td>\n",
       "      <td>ВЫСШЕЕ</td>\n",
       "      <td>0</td>\n",
       "      <td>гражданский брак</td>\n",
       "      <td>1</td>\n",
       "      <td>F</td>\n",
       "      <td>сотрудник</td>\n",
       "      <td>0</td>\n",
       "      <td>95856.832424</td>\n",
       "      <td>на проведение свадьбы</td>\n",
       "    </tr>\n",
       "    <tr>\n",
       "      <th>9</th>\n",
       "      <td>0</td>\n",
       "      <td>-2188.756445</td>\n",
       "      <td>41</td>\n",
       "      <td>среднее</td>\n",
       "      <td>1</td>\n",
       "      <td>женат / замужем</td>\n",
       "      <td>0</td>\n",
       "      <td>M</td>\n",
       "      <td>сотрудник</td>\n",
       "      <td>0</td>\n",
       "      <td>144425.938277</td>\n",
       "      <td>покупка жилья для семьи</td>\n",
       "    </tr>\n",
       "  </tbody>\n",
       "</table>\n",
       "</div>"
      ],
      "text/plain": [
       "   children  days_employed  dob_years education  education_id  \\\n",
       "0         1   -8437.673028         42    высшее             0   \n",
       "1         1   -4024.803754         36   среднее             1   \n",
       "2         0   -5623.422610         33   Среднее             1   \n",
       "3         3   -4124.747207         32   среднее             1   \n",
       "4         0  340266.072047         53   среднее             1   \n",
       "5         0    -926.185831         27    высшее             0   \n",
       "6         0   -2879.202052         43    высшее             0   \n",
       "7         0    -152.779569         50   СРЕДНЕЕ             1   \n",
       "8         2   -6929.865299         35    ВЫСШЕЕ             0   \n",
       "9         0   -2188.756445         41   среднее             1   \n",
       "\n",
       "      family_status  family_status_id gender income_type  debt   total_income  \\\n",
       "0   женат / замужем                 0      F   сотрудник     0  253875.639453   \n",
       "1   женат / замужем                 0      F   сотрудник     0  112080.014102   \n",
       "2   женат / замужем                 0      M   сотрудник     0  145885.952297   \n",
       "3   женат / замужем                 0      M   сотрудник     0  267628.550329   \n",
       "4  гражданский брак                 1      F   пенсионер     0  158616.077870   \n",
       "5  гражданский брак                 1      M   компаньон     0  255763.565419   \n",
       "6   женат / замужем                 0      F   компаньон     0  240525.971920   \n",
       "7   женат / замужем                 0      M   сотрудник     0  135823.934197   \n",
       "8  гражданский брак                 1      F   сотрудник     0   95856.832424   \n",
       "9   женат / замужем                 0      M   сотрудник     0  144425.938277   \n",
       "\n",
       "                      purpose  \n",
       "0               покупка жилья  \n",
       "1     приобретение автомобиля  \n",
       "2               покупка жилья  \n",
       "3  дополнительное образование  \n",
       "4             сыграть свадьбу  \n",
       "5               покупка жилья  \n",
       "6           операции с жильем  \n",
       "7                 образование  \n",
       "8       на проведение свадьбы  \n",
       "9     покупка жилья для семьи  "
      ]
     },
     "execution_count": 76,
     "metadata": {},
     "output_type": "execute_result"
    }
   ],
   "source": [
    "# получение первых 10 строк таблицы df\n",
    "df.head(10)"
   ]
  },
  {
   "cell_type": "code",
   "execution_count": 77,
   "metadata": {},
   "outputs": [
    {
     "name": "stdout",
     "output_type": "stream",
     "text": [
      "<class 'pandas.core.frame.DataFrame'>\n",
      "RangeIndex: 21525 entries, 0 to 21524\n",
      "Data columns (total 12 columns):\n",
      " #   Column            Non-Null Count  Dtype  \n",
      "---  ------            --------------  -----  \n",
      " 0   children          21525 non-null  int64  \n",
      " 1   days_employed     19351 non-null  float64\n",
      " 2   dob_years         21525 non-null  int64  \n",
      " 3   education         21525 non-null  object \n",
      " 4   education_id      21525 non-null  int64  \n",
      " 5   family_status     21525 non-null  object \n",
      " 6   family_status_id  21525 non-null  int64  \n",
      " 7   gender            21525 non-null  object \n",
      " 8   income_type       21525 non-null  object \n",
      " 9   debt              21525 non-null  int64  \n",
      " 10  total_income      19351 non-null  float64\n",
      " 11  purpose           21525 non-null  object \n",
      "dtypes: float64(2), int64(5), object(5)\n",
      "memory usage: 2.0+ MB\n"
     ]
    }
   ],
   "source": [
    "# получение общей информации о данных в таблице df\n",
    "df.info()"
   ]
  },
  {
   "cell_type": "markdown",
   "metadata": {},
   "source": [
    "В таблице двенадцать столбцов.\n",
    "\n",
    "Согласно документации к данным:\n",
    "* `children` — количество детей в семье; Тип данных `int64`\n",
    "* `days_employed` — общий трудовой стаж в днях; Тип данных `float64`\n",
    "* `dob_years` — возраст клиента в годах; Тип данных `int64`\n",
    "* `education` — уровень образования клиента; Тип данных `object`\n",
    "* `education_id` — идентификатор уровня образования; Тип данных `int64`\n",
    "* `family_status` — семейное положение; Тип данных `object`\n",
    "* `family_status_id` — идентификатор семейного положения; Тип данных `int64`\n",
    "* `gender` — пол клиента; Тип данных `object`\n",
    "* `income_type` — тип занятости; Тип данных `object`\n",
    "* `debt` — имел ли задолженность по возврату кредитов; Тип данных `int64`\n",
    "* `total_income` — ежемесячный доход; Тип данных `float64`\n",
    "* `purpose` — цель получения кредита; Тип данных `object`\n",
    "\n",
    "В названиях колонок нарушений стиля нет. \n",
    "Названия колонок соответствуют документации.  \n",
    "Типы данных соответствуют содержимому столбца, указанному в документации, кроме столбца `days_employed`, надо заменить тип float64 на int64.  \n",
    "Количество значений в столбцах различается. Значит, в данных есть пропущенные значения.  \n",
    "В столбце `days_employed` встречаются отрицательные значения.  \n",
    "В столбце `education` необходимо привести все данные к нижнему регистру.  \n",
    "В столбце `purpose` необходимо провести лемматизацию целей кредита, в настоящее время одинаковые по смыслу цели зафиксированы разным текстом.\n"
   ]
  },
  {
   "cell_type": "markdown",
   "metadata": {},
   "source": [
    "**Выводы**\n",
    "\n",
    "В каждой строке таблицы — данные о клиенте.   \n",
    "Предварительно можно утверждать, что, данных достаточно для проверки гипотез. Но встречаются пропуски в данных. \n",
    "\n",
    "*Необходимо*:  \n",
    "\n",
    "    - проанализировать и заполнить пропуски в данных  \n",
    "    - проверить наличие дубликатов, при необходимости удалить  \n",
    "    - изменить тип данных по столбцу `days_employed`  \n",
    "    - лемантизировать столбец `purpose`  \n",
    "    - проанализировать данные на наличие артефактов.  \n",
    "    - оценить какие данные и как стоит категоризировать для достижения цели исследования  \n",
    "\n",
    "Чтобы двигаться дальше, нужно устранить проблемы в данных."
   ]
  },
  {
   "cell_type": "markdown",
   "metadata": {},
   "source": [
    "## Предобработка данных"
   ]
  },
  {
   "cell_type": "markdown",
   "metadata": {},
   "source": [
    "### Обработка пропусков и анализ отрицательных значений\n"
   ]
  },
  {
   "cell_type": "code",
   "execution_count": 78,
   "metadata": {},
   "outputs": [
    {
     "data": {
      "text/plain": [
       "children               0\n",
       "days_employed       2174\n",
       "dob_years              0\n",
       "education              0\n",
       "education_id           0\n",
       "family_status          0\n",
       "family_status_id       0\n",
       "gender                 0\n",
       "income_type            0\n",
       "debt                   0\n",
       "total_income        2174\n",
       "purpose                0\n",
       "dtype: int64"
      ]
     },
     "execution_count": 78,
     "metadata": {},
     "output_type": "execute_result"
    }
   ],
   "source": [
    "# подсчёт пропусков \n",
    "df.isna().sum()"
   ]
  },
  {
   "cell_type": "code",
   "execution_count": 79,
   "metadata": {},
   "outputs": [
    {
     "data": {
      "text/plain": [
       "children            0.000000\n",
       "days_employed       0.100999\n",
       "dob_years           0.000000\n",
       "education           0.000000\n",
       "education_id        0.000000\n",
       "family_status       0.000000\n",
       "family_status_id    0.000000\n",
       "gender              0.000000\n",
       "income_type         0.000000\n",
       "debt                0.000000\n",
       "total_income        0.100999\n",
       "purpose             0.000000\n",
       "dtype: float64"
      ]
     },
     "execution_count": 79,
     "metadata": {},
     "output_type": "execute_result"
    }
   ],
   "source": [
    "# доля пропусков\n",
    "df.isna().mean()"
   ]
  },
  {
   "cell_type": "code",
   "execution_count": 80,
   "metadata": {},
   "outputs": [
    {
     "data": {
      "text/plain": [
       "(2174, 12)"
      ]
     },
     "execution_count": 80,
     "metadata": {},
     "output_type": "execute_result"
    }
   ],
   "source": [
    "# создадим датафрейм, в котором пропущенны одновременно данные и по столбцу days_employed и по столбцу total_income.\n",
    "# посмотрим размер данного датафрейма\n",
    "df_nan = df[(df['days_employed'].isna()) & (df['total_income'].isna())]\n",
    "df_nan.shape"
   ]
  },
  {
   "cell_type": "markdown",
   "metadata": {},
   "source": [
    "Все пропущенные значения по столбцам `days_employed` и `total_income` совпадают построчно и соствляют 10% общего количества записей в исходных данных (2174 шт.).  \n",
    "Посмотрим пропуски в разрезе категорий количества детей, образования, семейного положения, пола, типа дохода, статуса возврата кредита."
   ]
  },
  {
   "cell_type": "code",
   "execution_count": 81,
   "metadata": {},
   "outputs": [
    {
     "data": {
      "text/plain": [
       "-1      6.382979\n",
       " 0     10.170330\n",
       " 1      9.858863\n",
       " 2      9.927007\n",
       " 3     10.909091\n",
       " 4     17.073171\n",
       " 5     11.111111\n",
       " 20    11.842105\n",
       "Name: children, dtype: float64"
      ]
     },
     "metadata": {},
     "output_type": "display_data"
    },
    {
     "name": "stdout",
     "output_type": "stream",
     "text": [
      "\n"
     ]
    },
    {
     "data": {
      "text/plain": [
       "0    10.342205\n",
       "1    10.109630\n",
       "2     9.274194\n",
       "3     7.446809\n",
       "4          NaN\n",
       "Name: education_id, dtype: float64"
      ]
     },
     "metadata": {},
     "output_type": "display_data"
    },
    {
     "name": "stdout",
     "output_type": "stream",
     "text": [
      "\n"
     ]
    },
    {
     "data": {
      "text/plain": [
       "0     9.991922\n",
       "1    10.581757\n",
       "4    10.238180\n",
       "3     9.372385\n",
       "2     9.895833\n",
       "Name: family_status_id, dtype: float64"
      ]
     },
     "metadata": {},
     "output_type": "display_data"
    },
    {
     "name": "stdout",
     "output_type": "stream",
     "text": [
      "\n"
     ]
    },
    {
     "data": {
      "text/plain": [
       "F      10.424276\n",
       "M       9.467618\n",
       "XNA          NaN\n",
       "Name: gender, dtype: float64"
      ]
     },
     "metadata": {},
     "output_type": "display_data"
    },
    {
     "name": "stdout",
     "output_type": "stream",
     "text": [
      "\n"
     ]
    },
    {
     "data": {
      "text/plain": [
       "безработный              NaN\n",
       "в декрете                NaN\n",
       "госслужащий        10.075394\n",
       "компаньон           9.990167\n",
       "пенсионер          10.710581\n",
       "предприниматель    50.000000\n",
       "сотрудник           9.937944\n",
       "студент                  NaN\n",
       "Name: income_type, dtype: float64"
      ]
     },
     "metadata": {},
     "output_type": "display_data"
    },
    {
     "name": "stdout",
     "output_type": "stream",
     "text": [
      "\n"
     ]
    },
    {
     "data": {
      "text/plain": [
       "0    10.129397\n",
       "1     9.764503\n",
       "Name: debt, dtype: float64"
      ]
     },
     "metadata": {},
     "output_type": "display_data"
    },
    {
     "name": "stdout",
     "output_type": "stream",
     "text": [
      "\n"
     ]
    }
   ],
   "source": [
    "# рассчитаем отношение количества пропусков в разрезе категорий к общему количеству данных в разрезе категорий.\n",
    "for i in['children', 'education_id', 'family_status_id', 'gender', 'income_type', 'debt']:  \n",
    "        display(df_nan[i].value_counts()/df[i].value_counts()*100)\n",
    "        print()"
   ]
  },
  {
   "cell_type": "markdown",
   "metadata": {},
   "source": [
    "По большинству категорий пропуски составляют около 10%, соответственно это не 'сбой'  по какойто конкретной категории, а все пропуски распределены пропорционально в разрезе категорий по всему ДатаФрейму.  \n",
    "Возможно один из источников данных не выгружает данные показатели или выгружает в ошибочном формате, что данные не сохранились, возможно эти данные закрыты правами доступа для выгрузки в данном источнике.  \n",
    "Необходимо проверить информацию по предпринимателям(пропуски составляю 50%)"
   ]
  },
  {
   "cell_type": "code",
   "execution_count": 82,
   "metadata": {},
   "outputs": [
    {
     "data": {
      "text/html": [
       "<div>\n",
       "<style scoped>\n",
       "    .dataframe tbody tr th:only-of-type {\n",
       "        vertical-align: middle;\n",
       "    }\n",
       "\n",
       "    .dataframe tbody tr th {\n",
       "        vertical-align: top;\n",
       "    }\n",
       "\n",
       "    .dataframe thead th {\n",
       "        text-align: right;\n",
       "    }\n",
       "</style>\n",
       "<table border=\"1\" class=\"dataframe\">\n",
       "  <thead>\n",
       "    <tr style=\"text-align: right;\">\n",
       "      <th></th>\n",
       "      <th>children</th>\n",
       "      <th>days_employed</th>\n",
       "      <th>dob_years</th>\n",
       "      <th>education</th>\n",
       "      <th>education_id</th>\n",
       "      <th>family_status</th>\n",
       "      <th>family_status_id</th>\n",
       "      <th>gender</th>\n",
       "      <th>income_type</th>\n",
       "      <th>debt</th>\n",
       "      <th>total_income</th>\n",
       "      <th>purpose</th>\n",
       "    </tr>\n",
       "  </thead>\n",
       "  <tbody>\n",
       "    <tr>\n",
       "      <th>5936</th>\n",
       "      <td>0</td>\n",
       "      <td>NaN</td>\n",
       "      <td>58</td>\n",
       "      <td>высшее</td>\n",
       "      <td>0</td>\n",
       "      <td>женат / замужем</td>\n",
       "      <td>0</td>\n",
       "      <td>M</td>\n",
       "      <td>предприниматель</td>\n",
       "      <td>0</td>\n",
       "      <td>NaN</td>\n",
       "      <td>покупка жилой недвижимости</td>\n",
       "    </tr>\n",
       "    <tr>\n",
       "      <th>18697</th>\n",
       "      <td>0</td>\n",
       "      <td>-520.848083</td>\n",
       "      <td>27</td>\n",
       "      <td>высшее</td>\n",
       "      <td>0</td>\n",
       "      <td>гражданский брак</td>\n",
       "      <td>1</td>\n",
       "      <td>F</td>\n",
       "      <td>предприниматель</td>\n",
       "      <td>0</td>\n",
       "      <td>499163.144947</td>\n",
       "      <td>на проведение свадьбы</td>\n",
       "    </tr>\n",
       "  </tbody>\n",
       "</table>\n",
       "</div>"
      ],
      "text/plain": [
       "       children  days_employed  dob_years education  education_id  \\\n",
       "5936          0            NaN         58    высшее             0   \n",
       "18697         0    -520.848083         27    высшее             0   \n",
       "\n",
       "          family_status  family_status_id gender      income_type  debt  \\\n",
       "5936    женат / замужем                 0      M  предприниматель     0   \n",
       "18697  гражданский брак                 1      F  предприниматель     0   \n",
       "\n",
       "        total_income                     purpose  \n",
       "5936             NaN  покупка жилой недвижимости  \n",
       "18697  499163.144947       на проведение свадьбы  "
      ]
     },
     "execution_count": 82,
     "metadata": {},
     "output_type": "execute_result"
    }
   ],
   "source": [
    "# посмотрим данные из исходного датафрейма только по предпринимателям\n",
    "df[df['income_type']=='предприниматель']"
   ]
  },
  {
   "cell_type": "markdown",
   "metadata": {},
   "source": [
    "Так как в базе всего 2 предпринимателя, по одному из них есть информация, по второму пропуск, то и появляется 50% пропуска.  \n",
    "Можно подтвердить вывод , что все пропуски распределены пропорционально в разрезе категорий по всему ДатаФрейму."
   ]
  },
  {
   "cell_type": "code",
   "execution_count": 83,
   "metadata": {},
   "outputs": [],
   "source": [
    "# функция для проверки наличия отрицательных значений в столбцах\n",
    "def check_negative(data):\n",
    "    count = 0\n",
    "    for i in data:\n",
    "        if i < 0:\n",
    "            count += 1\n",
    "    return count        \n",
    "            "
   ]
  },
  {
   "cell_type": "code",
   "execution_count": 84,
   "metadata": {},
   "outputs": [],
   "source": [
    "# список столбцов, по которым проверим наличие отрицательных значений\n",
    "check_list_negative = ['children', 'days_employed', 'dob_years', 'total_income']"
   ]
  },
  {
   "cell_type": "code",
   "execution_count": 85,
   "metadata": {},
   "outputs": [
    {
     "name": "stdout",
     "output_type": "stream",
     "text": [
      "Количество отрицательных значений в столбце children: 47\n",
      "Доля отрицательных значений в столбце children: 0.0\n",
      "Количество отрицательных значений в столбце days_employed: 15906\n",
      "Доля отрицательных значений в столбце days_employed: 0.74\n",
      "Количество отрицательных значений в столбце dob_years: 0\n",
      "Доля отрицательных значений в столбце dob_years: 0.0\n",
      "Количество отрицательных значений в столбце total_income: 0\n",
      "Доля отрицательных значений в столбце total_income: 0.0\n"
     ]
    }
   ],
   "source": [
    "# рассчитаем количество и долю отрицательных значений в столбцах из списка\n",
    "for i in check_list_negative:\n",
    "    print(f'Количество отрицательных значений в столбце {i}: {check_negative(df[i])}')\n",
    "    print(f'Доля отрицательных значений в столбце {i}: {round(check_negative(df[i])/df.shape[0],2)}')"
   ]
  },
  {
   "cell_type": "markdown",
   "metadata": {},
   "source": [
    "**Обратим внимание, что доля отрицательных значений в столбце days_employed: 0.74 , т.е. наибольшая часть данных по столбцу имеет отрицательное значение**"
   ]
  },
  {
   "cell_type": "code",
   "execution_count": 86,
   "metadata": {},
   "outputs": [
    {
     "data": {
      "image/png": "[encoded data removed]",
      "text/plain": [
       "<Figure size 432x288 with 1 Axes>"
      ]
     },
     "metadata": {
      "needs_background": "light"
     },
     "output_type": "display_data"
    }
   ],
   "source": [
    "# построим гистограмму распределения по столбцу 'days_employed' по положительным значениям\n",
    "%matplotlib inline\n",
    "\n",
    "df[df['days_employed'] > 0]['days_employed'].hist()\n",
    "plt.xlabel('days_employed')\n",
    "plt.ylabel('frequency')\n",
    "plt.title(\"Гистограмма days_employed > 0\")\n",
    "plt.show()"
   ]
  },
  {
   "cell_type": "code",
   "execution_count": 87,
   "metadata": {},
   "outputs": [
    {
     "data": {
      "image/png": "[encoded data removed]",
      "text/plain": [
       "<Figure size 432x288 with 1 Axes>"
      ]
     },
     "metadata": {
      "needs_background": "light"
     },
     "output_type": "display_data"
    }
   ],
   "source": [
    "# построим гистограмму распределения по столбцу 'days_employed' по отрицательным значениям \n",
    "\n",
    "df[df['days_employed'] < 0]['days_employed'].hist()\n",
    "plt.xlabel('days_employed')\n",
    "plt.ylabel('frequency')\n",
    "plt.title(\"Гистограмма days_employed < 0\")\n",
    "plt.show()"
   ]
  },
  {
   "cell_type": "markdown",
   "metadata": {},
   "source": [
    "Проверим гипотезу влиняия `income_type` на `days_employed` (тип занятости на трудовой стаж)"
   ]
  },
  {
   "cell_type": "code",
   "execution_count": 88,
   "metadata": {},
   "outputs": [
    {
     "data": {
      "text/plain": [
       "['сотрудник',\n",
       " 'пенсионер',\n",
       " 'компаньон',\n",
       " 'госслужащий',\n",
       " 'безработный',\n",
       " 'предприниматель',\n",
       " 'студент',\n",
       " 'в декрете']"
      ]
     },
     "execution_count": 88,
     "metadata": {},
     "output_type": "execute_result"
    }
   ],
   "source": [
    "# все возможные виды занятости\n",
    "list(df['income_type'].unique())"
   ]
  },
  {
   "cell_type": "code",
   "execution_count": 89,
   "metadata": {},
   "outputs": [
    {
     "data": {
      "text/plain": [
       "income_type\n",
       "в декрете              1\n",
       "госслужащий         1312\n",
       "компаньон           4577\n",
       "предприниматель        1\n",
       "сотрудник          10014\n",
       "студент                1\n",
       "Name: income_type, dtype: int64"
      ]
     },
     "execution_count": 89,
     "metadata": {},
     "output_type": "execute_result"
    }
   ],
   "source": [
    "# 6 типов занятости с отрицательным значением стажа\n",
    "df[df['days_employed'] < 0].groupby('income_type')['income_type'].count()"
   ]
  },
  {
   "cell_type": "code",
   "execution_count": 90,
   "metadata": {},
   "outputs": [
    {
     "data": {
      "text/plain": [
       "income_type\n",
       "безработный       2\n",
       "пенсионер      3443\n",
       "Name: income_type, dtype: int64"
      ]
     },
     "execution_count": 90,
     "metadata": {},
     "output_type": "execute_result"
    }
   ],
   "source": [
    "# 2 типа занятости с положительным значением стажа\n",
    "df[df['days_employed'] > 0].groupby('income_type')['income_type'].count()"
   ]
  },
  {
   "cell_type": "markdown",
   "metadata": {},
   "source": [
    "Похоже, что в предоставленных данных знак значения общего трудового стажа для пенсионеров и безработных положительный, а для тех , кто в настоящее время работает/учится ( в процессе накопления трудового стажа) , отрицательный. \n",
    "\n",
    "Посмотрим зависимсоть трудового стажа и возраста клиента в разрезе двух групп: пенсионеры-безработны и все остальные."
   ]
  },
  {
   "cell_type": "code",
   "execution_count": 91,
   "metadata": {},
   "outputs": [
    {
     "data": {
      "image/png": "[encoded data removed]",
      "text/plain": [
       "<Figure size 432x288 with 1 Axes>"
      ]
     },
     "metadata": {
      "needs_background": "light"
     },
     "output_type": "display_data"
    }
   ],
   "source": [
    "plt.title(\"Зависимость трудового стажа и возраста для пенсионеров и безработных\")\n",
    "sns.scatterplot(x=df[(df['income_type']=='пенсионер') | (df['income_type']=='безработный')]['dob_years'],\n",
    "                y=df[(df['income_type']=='пенсионер') | (df['income_type']=='безработный')]['days_employed'])\n",
    "plt.show()"
   ]
  },
  {
   "cell_type": "markdown",
   "metadata": {},
   "source": [
    "Судя по графику, по группе пенсионеры и безработные зависимости трудового стажа и возраста нет, поэтому для заполнения пропусков для категории пенсионеров и безработных берем среднее значение трудового стажа из положитеьных данных  "
   ]
  },
  {
   "cell_type": "code",
   "execution_count": 92,
   "metadata": {},
   "outputs": [
    {
     "data": {
      "image/png": "[encoded data removed]",
      "text/plain": [
       "<Figure size 432x288 with 1 Axes>"
      ]
     },
     "metadata": {
      "needs_background": "light"
     },
     "output_type": "display_data"
    }
   ],
   "source": [
    "plt.title(\"Зависимость трудового стажа и возраста для всех категоий, кроме пенсинеры и безработные\")\n",
    "sns.scatterplot(x=df[(df['income_type'] != 'пенсионер') & (df['income_type'] != 'безработный')]['dob_years'],\n",
    "                y=-df[(df['income_type'] != 'пенсионер') & (df['income_type'] != 'безработный')]['days_employed'])\n",
    "plt.show()"
   ]
  },
  {
   "cell_type": "markdown",
   "metadata": {},
   "source": [
    "По группе всех , у кого тип дохода не пенсионер и не безработный наблюдается зависимость , чем старше человек, тем шире диапозон возможных значений трудового стажа, поэтому при заполнении пропущенных значений правильнее разбить данные на категории по возрасту, и заполнять стаж, как среднее для конкретной категории возраста. В связи с тем , что среди целей исследования нет необходимости оценки влияния стажа на возврат кредита, заполним пропущенные значения средним значение трудового стажа из отрицательных данных, не учитывая влияние возраста."
   ]
  },
  {
   "cell_type": "markdown",
   "metadata": {},
   "source": [
    "Поэтому **для заполнения пропущенных значений по столбцу 'days_employed'**:  \n",
    "- для категории пенсионеров и безработных берем среднее значение трудового стажа из положитеьных данных столбца 'days_employed'\n",
    "- для прочих категорий среднее значение трудового стажа из отрицательных данных.\n",
    "Далее все отрицательные значения преобразуем в положительные."
   ]
  },
  {
   "cell_type": "code",
   "execution_count": 93,
   "metadata": {},
   "outputs": [],
   "source": [
    "# берем абсолютные значения признака\n",
    "df.days_employed = df.days_employed.abs()"
   ]
  },
  {
   "cell_type": "code",
   "execution_count": 94,
   "metadata": {},
   "outputs": [],
   "source": [
    "df.days_employed = df.days_employed.fillna(df.groupby('income_type')['days_employed'].transform('mean'))"
   ]
  },
  {
   "cell_type": "code",
   "execution_count": 95,
   "metadata": {},
   "outputs": [
    {
     "data": {
      "text/html": [
       "<div>\n",
       "<style scoped>\n",
       "    .dataframe tbody tr th:only-of-type {\n",
       "        vertical-align: middle;\n",
       "    }\n",
       "\n",
       "    .dataframe tbody tr th {\n",
       "        vertical-align: top;\n",
       "    }\n",
       "\n",
       "    .dataframe thead th {\n",
       "        text-align: right;\n",
       "    }\n",
       "</style>\n",
       "<table border=\"1\" class=\"dataframe\">\n",
       "  <thead>\n",
       "    <tr style=\"text-align: right;\">\n",
       "      <th></th>\n",
       "      <th>children</th>\n",
       "      <th>days_employed</th>\n",
       "      <th>dob_years</th>\n",
       "      <th>education</th>\n",
       "      <th>education_id</th>\n",
       "      <th>family_status</th>\n",
       "      <th>family_status_id</th>\n",
       "      <th>gender</th>\n",
       "      <th>income_type</th>\n",
       "      <th>debt</th>\n",
       "      <th>total_income</th>\n",
       "      <th>purpose</th>\n",
       "    </tr>\n",
       "  </thead>\n",
       "  <tbody>\n",
       "    <tr>\n",
       "      <th>12</th>\n",
       "      <td>0</td>\n",
       "      <td>365003.491245</td>\n",
       "      <td>65</td>\n",
       "      <td>среднее</td>\n",
       "      <td>1</td>\n",
       "      <td>гражданский брак</td>\n",
       "      <td>1</td>\n",
       "      <td>M</td>\n",
       "      <td>пенсионер</td>\n",
       "      <td>0</td>\n",
       "      <td>NaN</td>\n",
       "      <td>сыграть свадьбу</td>\n",
       "    </tr>\n",
       "    <tr>\n",
       "      <th>26</th>\n",
       "      <td>0</td>\n",
       "      <td>3399.896902</td>\n",
       "      <td>41</td>\n",
       "      <td>среднее</td>\n",
       "      <td>1</td>\n",
       "      <td>женат / замужем</td>\n",
       "      <td>0</td>\n",
       "      <td>M</td>\n",
       "      <td>госслужащий</td>\n",
       "      <td>0</td>\n",
       "      <td>NaN</td>\n",
       "      <td>образование</td>\n",
       "    </tr>\n",
       "  </tbody>\n",
       "</table>\n",
       "</div>"
      ],
      "text/plain": [
       "    children  days_employed  dob_years education  education_id  \\\n",
       "12         0  365003.491245         65   среднее             1   \n",
       "26         0    3399.896902         41   среднее             1   \n",
       "\n",
       "       family_status  family_status_id gender  income_type  debt  \\\n",
       "12  гражданский брак                 1      M    пенсионер     0   \n",
       "26   женат / замужем                 0      M  госслужащий     0   \n",
       "\n",
       "    total_income          purpose  \n",
       "12           NaN  сыграть свадьбу  \n",
       "26           NaN      образование  "
      ]
     },
     "execution_count": 95,
     "metadata": {},
     "output_type": "execute_result"
    }
   ],
   "source": [
    "# проверим 12,26 строчку\n",
    "df.iloc[[12,26],:]"
   ]
  },
  {
   "cell_type": "markdown",
   "metadata": {},
   "source": [
    "Согласно предоставленной документации столбец days_employed это общий трудовой стаж в днях, у пенсионеров и безработных среднее значение по данному столбцу составляет 365004 дня, это более 1000 лет, в случае необходимости дальнейшего изучения влияния стажа на возврат кредита **неободимо запросить дополнительную информацию** по заполнению данного столбца.\n",
    "\n",
    "\n"
   ]
  },
  {
   "cell_type": "markdown",
   "metadata": {},
   "source": [
    "Для заполнения пропущенных значений в столбце `total_income` рассмотрим влияние количества детей, возраста, наличия образования, семейного статуса, пола, типа дохода на данный столбец"
   ]
  },
  {
   "cell_type": "code",
   "execution_count": 96,
   "metadata": {},
   "outputs": [
    {
     "data": {
      "image/png": "[encoded data removed]",
      "text/plain": [
       "<Figure size 432x288 with 1 Axes>"
      ]
     },
     "metadata": {
      "needs_background": "light"
     },
     "output_type": "display_data"
    }
   ],
   "source": [
    "# построим гистограмму распределения дохода\n",
    "df['total_income'].hist()\n",
    "plt.xlabel('total_income')\n",
    "plt.ylabel('frequency')\n",
    "plt.title(\"Гистограмма total_income\")\n",
    "plt.show()"
   ]
  },
  {
   "cell_type": "markdown",
   "metadata": {},
   "source": [
    "у большинства клиентов доход до 250 тыс."
   ]
  },
  {
   "cell_type": "code",
   "execution_count": 97,
   "metadata": {},
   "outputs": [
    {
     "name": "stdout",
     "output_type": "stream",
     "text": [
      "children\n",
      "29403\n",
      "\n",
      "education_id\n",
      "74987\n",
      "\n",
      "family_status_id\n",
      "26282\n",
      "\n",
      "gender\n",
      "49807\n",
      "\n",
      "income_type\n",
      "445334\n",
      "\n"
     ]
    }
   ],
   "source": [
    "# расчет 'разброса' дохода по группировкам в разрезе перечисленных ниже столбцов\n",
    "# расчитываем среднии величины по доходу в разрезе категорий столбца, и из максимального значения \n",
    "# вычитаем минимальное, что бы выявить те столбцы, в рамках которых средний доход сильно \n",
    "# варьируется в зависимости от категории.\n",
    "for i in ['children','education_id','family_status_id','gender','income_type']: \n",
    "    print(i)\n",
    "    print(int((df.groupby(i)['total_income'].mean()).max()-(df.groupby(i)['total_income'].mean()).min()))\n",
    "    print()\n"
   ]
  },
  {
   "cell_type": "code",
   "execution_count": 98,
   "metadata": {},
   "outputs": [
    {
     "data": {
      "text/plain": [
       "income_type\n",
       "безработный        131339.751676\n",
       "в декрете           53829.130729\n",
       "госслужащий        170898.309923\n",
       "компаньон          202417.461462\n",
       "пенсионер          137127.465690\n",
       "предприниматель    499163.144947\n",
       "сотрудник          161380.260488\n",
       "студент             98201.625314\n",
       "Name: total_income, dtype: float64"
      ]
     },
     "execution_count": 98,
     "metadata": {},
     "output_type": "execute_result"
    }
   ],
   "source": [
    "df.groupby('income_type')['total_income'].mean()"
   ]
  },
  {
   "cell_type": "markdown",
   "metadata": {},
   "source": [
    "Согласно полученным данным, самое существенное влияние на доход имеет `income_type` 445 тыс.(в декрете средний доход 53,8 тыс, а у предпринимателя 499 тыс). Поэтому при расчете `total_income` нужно учитывать влияние `income_type`"
   ]
  },
  {
   "cell_type": "markdown",
   "metadata": {},
   "source": [
    "Для оценки влияния возраста разделим возраст на пять категорий:0-20, 21-40, 41-60, 61-80, 80 и старше"
   ]
  },
  {
   "cell_type": "code",
   "execution_count": 99,
   "metadata": {},
   "outputs": [],
   "source": [
    "# функция для категоризации по возрасту\n",
    "def old_cat(i):    \n",
    "    if i <= 20:\n",
    "        return 0\n",
    "    elif 21 <= i <= 40:\n",
    "        return 1\n",
    "    elif 41 <= i <= 60:\n",
    "        return 2\n",
    "    elif 61 <= i <= 80:\n",
    "        return 3\n",
    "    return 4"
   ]
  },
  {
   "cell_type": "code",
   "execution_count": 100,
   "metadata": {},
   "outputs": [
    {
     "data": {
      "text/html": [
       "<div>\n",
       "<style scoped>\n",
       "    .dataframe tbody tr th:only-of-type {\n",
       "        vertical-align: middle;\n",
       "    }\n",
       "\n",
       "    .dataframe tbody tr th {\n",
       "        vertical-align: top;\n",
       "    }\n",
       "\n",
       "    .dataframe thead th {\n",
       "        text-align: right;\n",
       "    }\n",
       "</style>\n",
       "<table border=\"1\" class=\"dataframe\">\n",
       "  <thead>\n",
       "    <tr style=\"text-align: right;\">\n",
       "      <th></th>\n",
       "      <th>children</th>\n",
       "      <th>days_employed</th>\n",
       "      <th>dob_years</th>\n",
       "      <th>education</th>\n",
       "      <th>education_id</th>\n",
       "      <th>family_status</th>\n",
       "      <th>family_status_id</th>\n",
       "      <th>gender</th>\n",
       "      <th>income_type</th>\n",
       "      <th>debt</th>\n",
       "      <th>total_income</th>\n",
       "      <th>purpose</th>\n",
       "      <th>dob_years_cat</th>\n",
       "    </tr>\n",
       "  </thead>\n",
       "  <tbody>\n",
       "    <tr>\n",
       "      <th>0</th>\n",
       "      <td>1</td>\n",
       "      <td>8437.673028</td>\n",
       "      <td>42</td>\n",
       "      <td>высшее</td>\n",
       "      <td>0</td>\n",
       "      <td>женат / замужем</td>\n",
       "      <td>0</td>\n",
       "      <td>F</td>\n",
       "      <td>сотрудник</td>\n",
       "      <td>0</td>\n",
       "      <td>253875.639453</td>\n",
       "      <td>покупка жилья</td>\n",
       "      <td>2</td>\n",
       "    </tr>\n",
       "    <tr>\n",
       "      <th>1</th>\n",
       "      <td>1</td>\n",
       "      <td>4024.803754</td>\n",
       "      <td>36</td>\n",
       "      <td>среднее</td>\n",
       "      <td>1</td>\n",
       "      <td>женат / замужем</td>\n",
       "      <td>0</td>\n",
       "      <td>F</td>\n",
       "      <td>сотрудник</td>\n",
       "      <td>0</td>\n",
       "      <td>112080.014102</td>\n",
       "      <td>приобретение автомобиля</td>\n",
       "      <td>1</td>\n",
       "    </tr>\n",
       "    <tr>\n",
       "      <th>2</th>\n",
       "      <td>0</td>\n",
       "      <td>5623.422610</td>\n",
       "      <td>33</td>\n",
       "      <td>Среднее</td>\n",
       "      <td>1</td>\n",
       "      <td>женат / замужем</td>\n",
       "      <td>0</td>\n",
       "      <td>M</td>\n",
       "      <td>сотрудник</td>\n",
       "      <td>0</td>\n",
       "      <td>145885.952297</td>\n",
       "      <td>покупка жилья</td>\n",
       "      <td>1</td>\n",
       "    </tr>\n",
       "    <tr>\n",
       "      <th>3</th>\n",
       "      <td>3</td>\n",
       "      <td>4124.747207</td>\n",
       "      <td>32</td>\n",
       "      <td>среднее</td>\n",
       "      <td>1</td>\n",
       "      <td>женат / замужем</td>\n",
       "      <td>0</td>\n",
       "      <td>M</td>\n",
       "      <td>сотрудник</td>\n",
       "      <td>0</td>\n",
       "      <td>267628.550329</td>\n",
       "      <td>дополнительное образование</td>\n",
       "      <td>1</td>\n",
       "    </tr>\n",
       "    <tr>\n",
       "      <th>4</th>\n",
       "      <td>0</td>\n",
       "      <td>340266.072047</td>\n",
       "      <td>53</td>\n",
       "      <td>среднее</td>\n",
       "      <td>1</td>\n",
       "      <td>гражданский брак</td>\n",
       "      <td>1</td>\n",
       "      <td>F</td>\n",
       "      <td>пенсионер</td>\n",
       "      <td>0</td>\n",
       "      <td>158616.077870</td>\n",
       "      <td>сыграть свадьбу</td>\n",
       "      <td>2</td>\n",
       "    </tr>\n",
       "  </tbody>\n",
       "</table>\n",
       "</div>"
      ],
      "text/plain": [
       "   children  days_employed  dob_years education  education_id  \\\n",
       "0         1    8437.673028         42    высшее             0   \n",
       "1         1    4024.803754         36   среднее             1   \n",
       "2         0    5623.422610         33   Среднее             1   \n",
       "3         3    4124.747207         32   среднее             1   \n",
       "4         0  340266.072047         53   среднее             1   \n",
       "\n",
       "      family_status  family_status_id gender income_type  debt   total_income  \\\n",
       "0   женат / замужем                 0      F   сотрудник     0  253875.639453   \n",
       "1   женат / замужем                 0      F   сотрудник     0  112080.014102   \n",
       "2   женат / замужем                 0      M   сотрудник     0  145885.952297   \n",
       "3   женат / замужем                 0      M   сотрудник     0  267628.550329   \n",
       "4  гражданский брак                 1      F   пенсионер     0  158616.077870   \n",
       "\n",
       "                      purpose  dob_years_cat  \n",
       "0               покупка жилья              2  \n",
       "1     приобретение автомобиля              1  \n",
       "2               покупка жилья              1  \n",
       "3  дополнительное образование              1  \n",
       "4             сыграть свадьбу              2  "
      ]
     },
     "execution_count": 100,
     "metadata": {},
     "output_type": "execute_result"
    }
   ],
   "source": [
    "# добавим категориальный столбец для возраста\n",
    "df['dob_years_cat'] = df['dob_years'].apply(old_cat)\n",
    "df.head(5)"
   ]
  },
  {
   "cell_type": "code",
   "execution_count": 101,
   "metadata": {},
   "outputs": [
    {
     "name": "stdout",
     "output_type": "stream",
     "text": [
      "27275\n"
     ]
    }
   ],
   "source": [
    "# расчитаем 'разброс' дохода по группировкам в разрезе возрастных категорий\n",
    "print(int((df.groupby('dob_years_cat')['total_income'].mean()).max()-(df.groupby('dob_years_cat')['total_income'].mean()).min()))"
   ]
  },
  {
   "cell_type": "markdown",
   "metadata": {},
   "source": [
    "'разброс' дохода по группировке в разрезе групп возраста составляет всего 27 тыс. Поэтому для расчета пропущенных значений по столбцу доходов будем учитывать только влияние столбца тип дохода.\n"
   ]
  },
  {
   "cell_type": "code",
   "execution_count": 102,
   "metadata": {},
   "outputs": [
    {
     "data": {
      "text/html": [
       "<div>\n",
       "<style scoped>\n",
       "    .dataframe tbody tr th:only-of-type {\n",
       "        vertical-align: middle;\n",
       "    }\n",
       "\n",
       "    .dataframe tbody tr th {\n",
       "        vertical-align: top;\n",
       "    }\n",
       "\n",
       "    .dataframe thead th {\n",
       "        text-align: right;\n",
       "    }\n",
       "</style>\n",
       "<table border=\"1\" class=\"dataframe\">\n",
       "  <thead>\n",
       "    <tr style=\"text-align: right;\">\n",
       "      <th></th>\n",
       "      <th>children</th>\n",
       "      <th>days_employed</th>\n",
       "      <th>dob_years</th>\n",
       "      <th>education</th>\n",
       "      <th>education_id</th>\n",
       "      <th>family_status</th>\n",
       "      <th>family_status_id</th>\n",
       "      <th>gender</th>\n",
       "      <th>income_type</th>\n",
       "      <th>debt</th>\n",
       "      <th>total_income</th>\n",
       "      <th>purpose</th>\n",
       "      <th>dob_years_cat</th>\n",
       "    </tr>\n",
       "  </thead>\n",
       "  <tbody>\n",
       "    <tr>\n",
       "      <th>12</th>\n",
       "      <td>0</td>\n",
       "      <td>365003.491245</td>\n",
       "      <td>65</td>\n",
       "      <td>среднее</td>\n",
       "      <td>1</td>\n",
       "      <td>гражданский брак</td>\n",
       "      <td>1</td>\n",
       "      <td>M</td>\n",
       "      <td>пенсионер</td>\n",
       "      <td>0</td>\n",
       "      <td>NaN</td>\n",
       "      <td>сыграть свадьбу</td>\n",
       "      <td>3</td>\n",
       "    </tr>\n",
       "    <tr>\n",
       "      <th>26</th>\n",
       "      <td>0</td>\n",
       "      <td>3399.896902</td>\n",
       "      <td>41</td>\n",
       "      <td>среднее</td>\n",
       "      <td>1</td>\n",
       "      <td>женат / замужем</td>\n",
       "      <td>0</td>\n",
       "      <td>M</td>\n",
       "      <td>госслужащий</td>\n",
       "      <td>0</td>\n",
       "      <td>NaN</td>\n",
       "      <td>образование</td>\n",
       "      <td>2</td>\n",
       "    </tr>\n",
       "    <tr>\n",
       "      <th>29</th>\n",
       "      <td>0</td>\n",
       "      <td>365003.491245</td>\n",
       "      <td>63</td>\n",
       "      <td>среднее</td>\n",
       "      <td>1</td>\n",
       "      <td>Не женат / не замужем</td>\n",
       "      <td>4</td>\n",
       "      <td>F</td>\n",
       "      <td>пенсионер</td>\n",
       "      <td>0</td>\n",
       "      <td>NaN</td>\n",
       "      <td>строительство жилой недвижимости</td>\n",
       "      <td>3</td>\n",
       "    </tr>\n",
       "    <tr>\n",
       "      <th>41</th>\n",
       "      <td>0</td>\n",
       "      <td>3399.896902</td>\n",
       "      <td>50</td>\n",
       "      <td>среднее</td>\n",
       "      <td>1</td>\n",
       "      <td>женат / замужем</td>\n",
       "      <td>0</td>\n",
       "      <td>F</td>\n",
       "      <td>госслужащий</td>\n",
       "      <td>0</td>\n",
       "      <td>NaN</td>\n",
       "      <td>сделка с подержанным автомобилем</td>\n",
       "      <td>2</td>\n",
       "    </tr>\n",
       "    <tr>\n",
       "      <th>55</th>\n",
       "      <td>0</td>\n",
       "      <td>365003.491245</td>\n",
       "      <td>54</td>\n",
       "      <td>среднее</td>\n",
       "      <td>1</td>\n",
       "      <td>гражданский брак</td>\n",
       "      <td>1</td>\n",
       "      <td>F</td>\n",
       "      <td>пенсионер</td>\n",
       "      <td>1</td>\n",
       "      <td>NaN</td>\n",
       "      <td>сыграть свадьбу</td>\n",
       "      <td>2</td>\n",
       "    </tr>\n",
       "  </tbody>\n",
       "</table>\n",
       "</div>"
      ],
      "text/plain": [
       "    children  days_employed  dob_years education  education_id  \\\n",
       "12         0  365003.491245         65   среднее             1   \n",
       "26         0    3399.896902         41   среднее             1   \n",
       "29         0  365003.491245         63   среднее             1   \n",
       "41         0    3399.896902         50   среднее             1   \n",
       "55         0  365003.491245         54   среднее             1   \n",
       "\n",
       "            family_status  family_status_id gender  income_type  debt  \\\n",
       "12       гражданский брак                 1      M    пенсионер     0   \n",
       "26        женат / замужем                 0      M  госслужащий     0   \n",
       "29  Не женат / не замужем                 4      F    пенсионер     0   \n",
       "41        женат / замужем                 0      F  госслужащий     0   \n",
       "55       гражданский брак                 1      F    пенсионер     1   \n",
       "\n",
       "    total_income                           purpose  dob_years_cat  \n",
       "12           NaN                   сыграть свадьбу              3  \n",
       "26           NaN                       образование              2  \n",
       "29           NaN  строительство жилой недвижимости              3  \n",
       "41           NaN  сделка с подержанным автомобилем              2  \n",
       "55           NaN                   сыграть свадьбу              2  "
      ]
     },
     "execution_count": 102,
     "metadata": {},
     "output_type": "execute_result"
    }
   ],
   "source": [
    "df[df['total_income'].isna()].head()"
   ]
  },
  {
   "cell_type": "code",
   "execution_count": 103,
   "metadata": {},
   "outputs": [],
   "source": [
    "# заполняем пропущенные значения средним значением дохода в разрезе категорий типа дохода\n",
    "for i in df['income_type'].unique():\n",
    "    df.loc[df['income_type'] == i,'total_income'] =  df.loc[df['income_type'] == i,'total_income'].fillna(df[df['income_type'] == i]['total_income'].mean())"
   ]
  },
  {
   "cell_type": "code",
   "execution_count": 104,
   "metadata": {},
   "outputs": [
    {
     "data": {
      "text/html": [
       "<div>\n",
       "<style scoped>\n",
       "    .dataframe tbody tr th:only-of-type {\n",
       "        vertical-align: middle;\n",
       "    }\n",
       "\n",
       "    .dataframe tbody tr th {\n",
       "        vertical-align: top;\n",
       "    }\n",
       "\n",
       "    .dataframe thead th {\n",
       "        text-align: right;\n",
       "    }\n",
       "</style>\n",
       "<table border=\"1\" class=\"dataframe\">\n",
       "  <thead>\n",
       "    <tr style=\"text-align: right;\">\n",
       "      <th></th>\n",
       "      <th>children</th>\n",
       "      <th>days_employed</th>\n",
       "      <th>dob_years</th>\n",
       "      <th>education</th>\n",
       "      <th>education_id</th>\n",
       "      <th>family_status</th>\n",
       "      <th>family_status_id</th>\n",
       "      <th>gender</th>\n",
       "      <th>income_type</th>\n",
       "      <th>debt</th>\n",
       "      <th>total_income</th>\n",
       "      <th>purpose</th>\n",
       "      <th>dob_years_cat</th>\n",
       "    </tr>\n",
       "  </thead>\n",
       "  <tbody>\n",
       "    <tr>\n",
       "      <th>12</th>\n",
       "      <td>0</td>\n",
       "      <td>365003.491245</td>\n",
       "      <td>65</td>\n",
       "      <td>среднее</td>\n",
       "      <td>1</td>\n",
       "      <td>гражданский брак</td>\n",
       "      <td>1</td>\n",
       "      <td>M</td>\n",
       "      <td>пенсионер</td>\n",
       "      <td>0</td>\n",
       "      <td>137127.465690</td>\n",
       "      <td>сыграть свадьбу</td>\n",
       "      <td>3</td>\n",
       "    </tr>\n",
       "    <tr>\n",
       "      <th>26</th>\n",
       "      <td>0</td>\n",
       "      <td>3399.896902</td>\n",
       "      <td>41</td>\n",
       "      <td>среднее</td>\n",
       "      <td>1</td>\n",
       "      <td>женат / замужем</td>\n",
       "      <td>0</td>\n",
       "      <td>M</td>\n",
       "      <td>госслужащий</td>\n",
       "      <td>0</td>\n",
       "      <td>170898.309923</td>\n",
       "      <td>образование</td>\n",
       "      <td>2</td>\n",
       "    </tr>\n",
       "    <tr>\n",
       "      <th>29</th>\n",
       "      <td>0</td>\n",
       "      <td>365003.491245</td>\n",
       "      <td>63</td>\n",
       "      <td>среднее</td>\n",
       "      <td>1</td>\n",
       "      <td>Не женат / не замужем</td>\n",
       "      <td>4</td>\n",
       "      <td>F</td>\n",
       "      <td>пенсионер</td>\n",
       "      <td>0</td>\n",
       "      <td>137127.465690</td>\n",
       "      <td>строительство жилой недвижимости</td>\n",
       "      <td>3</td>\n",
       "    </tr>\n",
       "    <tr>\n",
       "      <th>41</th>\n",
       "      <td>0</td>\n",
       "      <td>3399.896902</td>\n",
       "      <td>50</td>\n",
       "      <td>среднее</td>\n",
       "      <td>1</td>\n",
       "      <td>женат / замужем</td>\n",
       "      <td>0</td>\n",
       "      <td>F</td>\n",
       "      <td>госслужащий</td>\n",
       "      <td>0</td>\n",
       "      <td>170898.309923</td>\n",
       "      <td>сделка с подержанным автомобилем</td>\n",
       "      <td>2</td>\n",
       "    </tr>\n",
       "    <tr>\n",
       "      <th>55</th>\n",
       "      <td>0</td>\n",
       "      <td>365003.491245</td>\n",
       "      <td>54</td>\n",
       "      <td>среднее</td>\n",
       "      <td>1</td>\n",
       "      <td>гражданский брак</td>\n",
       "      <td>1</td>\n",
       "      <td>F</td>\n",
       "      <td>пенсионер</td>\n",
       "      <td>1</td>\n",
       "      <td>137127.465690</td>\n",
       "      <td>сыграть свадьбу</td>\n",
       "      <td>2</td>\n",
       "    </tr>\n",
       "  </tbody>\n",
       "</table>\n",
       "</div>"
      ],
      "text/plain": [
       "    children  days_employed  dob_years education  education_id  \\\n",
       "12         0  365003.491245         65   среднее             1   \n",
       "26         0    3399.896902         41   среднее             1   \n",
       "29         0  365003.491245         63   среднее             1   \n",
       "41         0    3399.896902         50   среднее             1   \n",
       "55         0  365003.491245         54   среднее             1   \n",
       "\n",
       "            family_status  family_status_id gender  income_type  debt  \\\n",
       "12       гражданский брак                 1      M    пенсионер     0   \n",
       "26        женат / замужем                 0      M  госслужащий     0   \n",
       "29  Не женат / не замужем                 4      F    пенсионер     0   \n",
       "41        женат / замужем                 0      F  госслужащий     0   \n",
       "55       гражданский брак                 1      F    пенсионер     1   \n",
       "\n",
       "     total_income                           purpose  dob_years_cat  \n",
       "12  137127.465690                   сыграть свадьбу              3  \n",
       "26  170898.309923                       образование              2  \n",
       "29  137127.465690  строительство жилой недвижимости              3  \n",
       "41  170898.309923  сделка с подержанным автомобилем              2  \n",
       "55  137127.465690                   сыграть свадьбу              2  "
      ]
     },
     "execution_count": 104,
     "metadata": {},
     "output_type": "execute_result"
    }
   ],
   "source": [
    "# проверяем несколько строк\n",
    "df.iloc[[12,26,29,41,55],:]"
   ]
  },
  {
   "cell_type": "code",
   "execution_count": 105,
   "metadata": {},
   "outputs": [
    {
     "data": {
      "text/plain": [
       "children            0\n",
       "days_employed       0\n",
       "dob_years           0\n",
       "education           0\n",
       "education_id        0\n",
       "family_status       0\n",
       "family_status_id    0\n",
       "gender              0\n",
       "income_type         0\n",
       "debt                0\n",
       "total_income        0\n",
       "purpose             0\n",
       "dob_years_cat       0\n",
       "dtype: int64"
      ]
     },
     "execution_count": 105,
     "metadata": {},
     "output_type": "execute_result"
    }
   ],
   "source": [
    "# проверим, что больше не осталось пустых значений\n",
    "df.isna().sum()"
   ]
  },
  {
   "cell_type": "markdown",
   "metadata": {},
   "source": [
    "В связи с тем, что одна из целей исследования влияние наличий детей на возврат кредита, необходимо проверить значения по столбцу `children`"
   ]
  },
  {
   "cell_type": "code",
   "execution_count": 106,
   "metadata": {},
   "outputs": [
    {
     "data": {
      "text/plain": [
       " 0     0.657329\n",
       " 1     0.223833\n",
       " 2     0.095470\n",
       " 3     0.015331\n",
       " 20    0.003531\n",
       "-1     0.002184\n",
       " 4     0.001905\n",
       " 5     0.000418\n",
       "Name: children, dtype: float64"
      ]
     },
     "execution_count": 106,
     "metadata": {},
     "output_type": "execute_result"
    }
   ],
   "source": [
    "# доля каждой категории в общем датафрейме\n",
    "df['children'].value_counts()/df.shape[0]"
   ]
  },
  {
   "cell_type": "markdown",
   "metadata": {},
   "source": [
    "значения 20 и -1 являются артефактами в данном датафрейме, доля данных категорий суммарно 0.57% в общем датафрейме, поэтому при расчете влияния наличия детей на возврат кредита данные строчки учитывать не надо."
   ]
  },
  {
   "cell_type": "code",
   "execution_count": 107,
   "metadata": {},
   "outputs": [
    {
     "data": {
      "text/plain": [
       "0.4692218350754936"
      ]
     },
     "execution_count": 107,
     "metadata": {},
     "output_type": "execute_result"
    }
   ],
   "source": [
    "# рассчитаем долю данных с нулевым возрастом в датафрейме\n",
    "df[df['dob_years']==0]['dob_years'].count()/df.shape[0]*100\n"
   ]
  },
  {
   "cell_type": "markdown",
   "metadata": {},
   "source": [
    "В процессе анализа были обнаружены данные с нулевым возрастом 0.47% в общем датафрейме. Влияние возраста на возврат кредита не является целью данного исследования, поэтому данный артефакт оставляем в датафрейме"
   ]
  },
  {
   "cell_type": "code",
   "execution_count": 108,
   "metadata": {},
   "outputs": [
    {
     "data": {
      "text/plain": [
       "среднее                13750\n",
       "высшее                  4718\n",
       "СРЕДНЕЕ                  772\n",
       "Среднее                  711\n",
       "неоконченное высшее      668\n",
       "ВЫСШЕЕ                   274\n",
       "Высшее                   268\n",
       "начальное                250\n",
       "Неоконченное высшее       47\n",
       "НЕОКОНЧЕННОЕ ВЫСШЕЕ       29\n",
       "НАЧАЛЬНОЕ                 17\n",
       "Начальное                 15\n",
       "ученая степень             4\n",
       "УЧЕНАЯ СТЕПЕНЬ             1\n",
       "Ученая степень             1\n",
       "Name: education, dtype: int64"
      ]
     },
     "execution_count": 108,
     "metadata": {},
     "output_type": "execute_result"
    }
   ],
   "source": [
    "# посмотрим значения в столбце образование\n",
    "df['education'].value_counts()"
   ]
  },
  {
   "cell_type": "code",
   "execution_count": 109,
   "metadata": {},
   "outputs": [],
   "source": [
    "# приведем все слова к нижнему регистру\n",
    "df['education'] = df['education'].str.lower()"
   ]
  },
  {
   "cell_type": "code",
   "execution_count": 110,
   "metadata": {},
   "outputs": [
    {
     "data": {
      "text/plain": [
       "среднее                15233\n",
       "высшее                  5260\n",
       "неоконченное высшее      744\n",
       "начальное                282\n",
       "ученая степень             6\n",
       "Name: education, dtype: int64"
      ]
     },
     "execution_count": 110,
     "metadata": {},
     "output_type": "execute_result"
    }
   ],
   "source": [
    "# проверим\n",
    "df['education'].value_counts()"
   ]
  },
  {
   "cell_type": "markdown",
   "metadata": {},
   "source": [
    "**Вывод**"
   ]
  },
  {
   "cell_type": "markdown",
   "metadata": {},
   "source": [
    "Для заполнения пропущенных значений по столбцу `days_employed`:\n",
    "\n",
    "- категории пенсионеров и безработных берем среднее значение трудового стажа из положитеьных данных столбца 'days_employed'\n",
    "- прочих категорий среднее значение трудового стажа из отрицательных данных. Далее все отрицательные значения были преобразованы в положительные.  \n",
    "\n",
    "Необходимо получить дополнительную консультацию у источника предоставления данных по данному столбцу, так как по категории пенсионеры и безработные стаж в днях при переводе в года составляет более 1000 лет. Для целей данного исследования данный столбец не актуален.\n",
    "\n",
    "Для расчета пропущенных значений по столбцу `total_income` учитывалось только влияние столбца тип дохода. Пропущенные значения заполнены средними значениями дохода в разрезе категорий столбца тип дохода.\n",
    "\n",
    "При расчете влияния наличия детей на возврат кредита значения по столбцу количество детей 20 и -1 не учитывать.  \n",
    "\n",
    "В процессе анализа были обнаружены данные с нулевым возрастом , так как влияние возраста на возврат кредита не является целью данного исследования, поэтому данный артефакт оставляем в датафрейме.\n",
    "\n",
    "Столбец `education` приведен к единому формату в нижнем регистре."
   ]
  },
  {
   "cell_type": "markdown",
   "metadata": {},
   "source": [
    "### Замена типа данных"
   ]
  },
  {
   "cell_type": "markdown",
   "metadata": {},
   "source": [
    "`days_employed` — общий трудовой стаж в днях; Тип данных `float64` необходимо заменить на int.  \n",
    "Применим метод .astype(). Данный метод позволяет четко указать тип данных, который мы хотим иметь в своем DataFrame или Series. Он очень универсален в том, что мы можем попробовать перейти от одного типа к другому."
   ]
  },
  {
   "cell_type": "code",
   "execution_count": 111,
   "metadata": {},
   "outputs": [],
   "source": [
    "df['days_employed'] = df['days_employed'].astype('int')"
   ]
  },
  {
   "cell_type": "code",
   "execution_count": 112,
   "metadata": {},
   "outputs": [],
   "source": [
    "df['total_income'] = df['total_income'].astype('int')"
   ]
  },
  {
   "cell_type": "code",
   "execution_count": 113,
   "metadata": {},
   "outputs": [
    {
     "name": "stdout",
     "output_type": "stream",
     "text": [
      "<class 'pandas.core.frame.DataFrame'>\n",
      "RangeIndex: 21525 entries, 0 to 21524\n",
      "Data columns (total 13 columns):\n",
      " #   Column            Non-Null Count  Dtype \n",
      "---  ------            --------------  ----- \n",
      " 0   children          21525 non-null  int64 \n",
      " 1   days_employed     21525 non-null  int64 \n",
      " 2   dob_years         21525 non-null  int64 \n",
      " 3   education         21525 non-null  object\n",
      " 4   education_id      21525 non-null  int64 \n",
      " 5   family_status     21525 non-null  object\n",
      " 6   family_status_id  21525 non-null  int64 \n",
      " 7   gender            21525 non-null  object\n",
      " 8   income_type       21525 non-null  object\n",
      " 9   debt              21525 non-null  int64 \n",
      " 10  total_income      21525 non-null  int64 \n",
      " 11  purpose           21525 non-null  object\n",
      " 12  dob_years_cat     21525 non-null  int64 \n",
      "dtypes: int64(8), object(5)\n",
      "memory usage: 2.1+ MB\n"
     ]
    }
   ],
   "source": [
    "# проверим, что тип данных в столбце days_employed изменился\n",
    "df.info()"
   ]
  },
  {
   "cell_type": "markdown",
   "metadata": {},
   "source": [
    "**Вывод**"
   ]
  },
  {
   "cell_type": "markdown",
   "metadata": {},
   "source": [
    "По столбцам `days_employed` и `total_income` изменен тип данных на целочисленный"
   ]
  },
  {
   "cell_type": "markdown",
   "metadata": {},
   "source": [
    "### Обработка дубликатов"
   ]
  },
  {
   "cell_type": "code",
   "execution_count": 114,
   "metadata": {},
   "outputs": [
    {
     "data": {
      "text/plain": [
       "71"
      ]
     },
     "execution_count": 114,
     "metadata": {},
     "output_type": "execute_result"
    }
   ],
   "source": [
    "# посчитаем количество явных дубликатов\n",
    "df.duplicated().sum()"
   ]
  },
  {
   "cell_type": "code",
   "execution_count": 115,
   "metadata": {},
   "outputs": [
    {
     "data": {
      "text/html": [
       "<div>\n",
       "<style scoped>\n",
       "    .dataframe tbody tr th:only-of-type {\n",
       "        vertical-align: middle;\n",
       "    }\n",
       "\n",
       "    .dataframe tbody tr th {\n",
       "        vertical-align: top;\n",
       "    }\n",
       "\n",
       "    .dataframe thead th {\n",
       "        text-align: right;\n",
       "    }\n",
       "</style>\n",
       "<table border=\"1\" class=\"dataframe\">\n",
       "  <thead>\n",
       "    <tr style=\"text-align: right;\">\n",
       "      <th></th>\n",
       "      <th>children</th>\n",
       "      <th>days_employed</th>\n",
       "      <th>dob_years</th>\n",
       "      <th>education</th>\n",
       "      <th>education_id</th>\n",
       "      <th>family_status</th>\n",
       "      <th>family_status_id</th>\n",
       "      <th>gender</th>\n",
       "      <th>income_type</th>\n",
       "      <th>debt</th>\n",
       "      <th>total_income</th>\n",
       "      <th>purpose</th>\n",
       "      <th>dob_years_cat</th>\n",
       "    </tr>\n",
       "  </thead>\n",
       "  <tbody>\n",
       "    <tr>\n",
       "      <th>0</th>\n",
       "      <td>1</td>\n",
       "      <td>8437</td>\n",
       "      <td>42</td>\n",
       "      <td>высшее</td>\n",
       "      <td>0</td>\n",
       "      <td>женат / замужем</td>\n",
       "      <td>0</td>\n",
       "      <td>F</td>\n",
       "      <td>сотрудник</td>\n",
       "      <td>0</td>\n",
       "      <td>253875</td>\n",
       "      <td>покупка жилья</td>\n",
       "      <td>2</td>\n",
       "    </tr>\n",
       "    <tr>\n",
       "      <th>1</th>\n",
       "      <td>1</td>\n",
       "      <td>4024</td>\n",
       "      <td>36</td>\n",
       "      <td>среднее</td>\n",
       "      <td>1</td>\n",
       "      <td>женат / замужем</td>\n",
       "      <td>0</td>\n",
       "      <td>F</td>\n",
       "      <td>сотрудник</td>\n",
       "      <td>0</td>\n",
       "      <td>112080</td>\n",
       "      <td>приобретение автомобиля</td>\n",
       "      <td>1</td>\n",
       "    </tr>\n",
       "    <tr>\n",
       "      <th>2</th>\n",
       "      <td>0</td>\n",
       "      <td>5623</td>\n",
       "      <td>33</td>\n",
       "      <td>среднее</td>\n",
       "      <td>1</td>\n",
       "      <td>женат / замужем</td>\n",
       "      <td>0</td>\n",
       "      <td>M</td>\n",
       "      <td>сотрудник</td>\n",
       "      <td>0</td>\n",
       "      <td>145885</td>\n",
       "      <td>покупка жилья</td>\n",
       "      <td>1</td>\n",
       "    </tr>\n",
       "    <tr>\n",
       "      <th>3</th>\n",
       "      <td>3</td>\n",
       "      <td>4124</td>\n",
       "      <td>32</td>\n",
       "      <td>среднее</td>\n",
       "      <td>1</td>\n",
       "      <td>женат / замужем</td>\n",
       "      <td>0</td>\n",
       "      <td>M</td>\n",
       "      <td>сотрудник</td>\n",
       "      <td>0</td>\n",
       "      <td>267628</td>\n",
       "      <td>дополнительное образование</td>\n",
       "      <td>1</td>\n",
       "    </tr>\n",
       "    <tr>\n",
       "      <th>4</th>\n",
       "      <td>0</td>\n",
       "      <td>340266</td>\n",
       "      <td>53</td>\n",
       "      <td>среднее</td>\n",
       "      <td>1</td>\n",
       "      <td>гражданский брак</td>\n",
       "      <td>1</td>\n",
       "      <td>F</td>\n",
       "      <td>пенсионер</td>\n",
       "      <td>0</td>\n",
       "      <td>158616</td>\n",
       "      <td>сыграть свадьбу</td>\n",
       "      <td>2</td>\n",
       "    </tr>\n",
       "    <tr>\n",
       "      <th>...</th>\n",
       "      <td>...</td>\n",
       "      <td>...</td>\n",
       "      <td>...</td>\n",
       "      <td>...</td>\n",
       "      <td>...</td>\n",
       "      <td>...</td>\n",
       "      <td>...</td>\n",
       "      <td>...</td>\n",
       "      <td>...</td>\n",
       "      <td>...</td>\n",
       "      <td>...</td>\n",
       "      <td>...</td>\n",
       "      <td>...</td>\n",
       "    </tr>\n",
       "    <tr>\n",
       "      <th>21449</th>\n",
       "      <td>1</td>\n",
       "      <td>4529</td>\n",
       "      <td>43</td>\n",
       "      <td>среднее</td>\n",
       "      <td>1</td>\n",
       "      <td>гражданский брак</td>\n",
       "      <td>1</td>\n",
       "      <td>F</td>\n",
       "      <td>компаньон</td>\n",
       "      <td>0</td>\n",
       "      <td>224791</td>\n",
       "      <td>операции с жильем</td>\n",
       "      <td>2</td>\n",
       "    </tr>\n",
       "    <tr>\n",
       "      <th>21450</th>\n",
       "      <td>0</td>\n",
       "      <td>343937</td>\n",
       "      <td>67</td>\n",
       "      <td>среднее</td>\n",
       "      <td>1</td>\n",
       "      <td>женат / замужем</td>\n",
       "      <td>0</td>\n",
       "      <td>F</td>\n",
       "      <td>пенсионер</td>\n",
       "      <td>0</td>\n",
       "      <td>155999</td>\n",
       "      <td>сделка с автомобилем</td>\n",
       "      <td>3</td>\n",
       "    </tr>\n",
       "    <tr>\n",
       "      <th>21451</th>\n",
       "      <td>1</td>\n",
       "      <td>2113</td>\n",
       "      <td>38</td>\n",
       "      <td>среднее</td>\n",
       "      <td>1</td>\n",
       "      <td>гражданский брак</td>\n",
       "      <td>1</td>\n",
       "      <td>M</td>\n",
       "      <td>сотрудник</td>\n",
       "      <td>1</td>\n",
       "      <td>89672</td>\n",
       "      <td>недвижимость</td>\n",
       "      <td>1</td>\n",
       "    </tr>\n",
       "    <tr>\n",
       "      <th>21452</th>\n",
       "      <td>3</td>\n",
       "      <td>3112</td>\n",
       "      <td>38</td>\n",
       "      <td>среднее</td>\n",
       "      <td>1</td>\n",
       "      <td>женат / замужем</td>\n",
       "      <td>0</td>\n",
       "      <td>M</td>\n",
       "      <td>сотрудник</td>\n",
       "      <td>1</td>\n",
       "      <td>244093</td>\n",
       "      <td>на покупку своего автомобиля</td>\n",
       "      <td>1</td>\n",
       "    </tr>\n",
       "    <tr>\n",
       "      <th>21453</th>\n",
       "      <td>2</td>\n",
       "      <td>1984</td>\n",
       "      <td>40</td>\n",
       "      <td>среднее</td>\n",
       "      <td>1</td>\n",
       "      <td>женат / замужем</td>\n",
       "      <td>0</td>\n",
       "      <td>F</td>\n",
       "      <td>сотрудник</td>\n",
       "      <td>0</td>\n",
       "      <td>82047</td>\n",
       "      <td>на покупку автомобиля</td>\n",
       "      <td>1</td>\n",
       "    </tr>\n",
       "  </tbody>\n",
       "</table>\n",
       "<p>21454 rows × 13 columns</p>\n",
       "</div>"
      ],
      "text/plain": [
       "       children  days_employed  dob_years education  education_id  \\\n",
       "0             1           8437         42    высшее             0   \n",
       "1             1           4024         36   среднее             1   \n",
       "2             0           5623         33   среднее             1   \n",
       "3             3           4124         32   среднее             1   \n",
       "4             0         340266         53   среднее             1   \n",
       "...         ...            ...        ...       ...           ...   \n",
       "21449         1           4529         43   среднее             1   \n",
       "21450         0         343937         67   среднее             1   \n",
       "21451         1           2113         38   среднее             1   \n",
       "21452         3           3112         38   среднее             1   \n",
       "21453         2           1984         40   среднее             1   \n",
       "\n",
       "          family_status  family_status_id gender income_type  debt  \\\n",
       "0       женат / замужем                 0      F   сотрудник     0   \n",
       "1       женат / замужем                 0      F   сотрудник     0   \n",
       "2       женат / замужем                 0      M   сотрудник     0   \n",
       "3       женат / замужем                 0      M   сотрудник     0   \n",
       "4      гражданский брак                 1      F   пенсионер     0   \n",
       "...                 ...               ...    ...         ...   ...   \n",
       "21449  гражданский брак                 1      F   компаньон     0   \n",
       "21450   женат / замужем                 0      F   пенсионер     0   \n",
       "21451  гражданский брак                 1      M   сотрудник     1   \n",
       "21452   женат / замужем                 0      M   сотрудник     1   \n",
       "21453   женат / замужем                 0      F   сотрудник     0   \n",
       "\n",
       "       total_income                       purpose  dob_years_cat  \n",
       "0            253875                 покупка жилья              2  \n",
       "1            112080       приобретение автомобиля              1  \n",
       "2            145885                 покупка жилья              1  \n",
       "3            267628    дополнительное образование              1  \n",
       "4            158616               сыграть свадьбу              2  \n",
       "...             ...                           ...            ...  \n",
       "21449        224791             операции с жильем              2  \n",
       "21450        155999          сделка с автомобилем              3  \n",
       "21451         89672                  недвижимость              1  \n",
       "21452        244093  на покупку своего автомобиля              1  \n",
       "21453         82047         на покупку автомобиля              1  \n",
       "\n",
       "[21454 rows x 13 columns]"
      ]
     },
     "execution_count": 115,
     "metadata": {},
     "output_type": "execute_result"
    }
   ],
   "source": [
    "# удалим дубликаты\n",
    "df = df.drop_duplicates().reset_index(drop=True)\n",
    "df"
   ]
  },
  {
   "cell_type": "code",
   "execution_count": 116,
   "metadata": {},
   "outputs": [
    {
     "data": {
      "text/plain": [
       "свадьба                                   791\n",
       "на проведение свадьбы                     768\n",
       "сыграть свадьбу                           765\n",
       "операции с недвижимостью                  675\n",
       "покупка коммерческой недвижимости         661\n",
       "операции с жильем                         652\n",
       "покупка жилья для сдачи                   651\n",
       "операции с коммерческой недвижимостью     650\n",
       "покупка жилья                             646\n",
       "жилье                                     646\n",
       "покупка жилья для семьи                   638\n",
       "строительство собственной недвижимости    635\n",
       "недвижимость                              633\n",
       "операции со своей недвижимостью           627\n",
       "строительство жилой недвижимости          624\n",
       "покупка недвижимости                      621\n",
       "покупка своего жилья                      620\n",
       "строительство недвижимости                619\n",
       "ремонт жилью                              607\n",
       "покупка жилой недвижимости                606\n",
       "на покупку своего автомобиля              505\n",
       "заняться высшим образованием              496\n",
       "автомобиль                                494\n",
       "сделка с подержанным автомобилем          486\n",
       "автомобили                                478\n",
       "свой автомобиль                           478\n",
       "на покупку подержанного автомобиля        478\n",
       "на покупку автомобиля                     471\n",
       "приобретение автомобиля                   461\n",
       "дополнительное образование                460\n",
       "сделка с автомобилем                      455\n",
       "высшее образование                        452\n",
       "образование                               447\n",
       "получение дополнительного образования     446\n",
       "получение образования                     442\n",
       "профильное образование                    436\n",
       "получение высшего образования             426\n",
       "заняться образованием                     408\n",
       "Name: purpose, dtype: int64"
      ]
     },
     "execution_count": 116,
     "metadata": {},
     "output_type": "execute_result"
    }
   ],
   "source": [
    "# посмотрим значения, которые указаны в столбце purpose\n",
    "df['purpose'].value_counts()"
   ]
  },
  {
   "cell_type": "markdown",
   "metadata": {},
   "source": [
    "**Вывод**"
   ]
  },
  {
   "cell_type": "markdown",
   "metadata": {},
   "source": [
    "Удален 71 явный дубликат\n",
    "Необходимо лемантизировать данные столбца `purpose` и повторно удалить дубликаты из датафрейма.  \n",
    "Причинами возникновения дубликатов может быть повторная выгрузка из одного и того же источника данных, пересечение информации в различных источниках данных, ошибка при слиянии нескольких источников в единый файл .csv"
   ]
  },
  {
   "cell_type": "markdown",
   "metadata": {},
   "source": [
    "### Лемматизация"
   ]
  },
  {
   "cell_type": "code",
   "execution_count": 117,
   "metadata": {},
   "outputs": [],
   "source": [
    "# создадим объект класса Mystem из библиотеки pymystem3\n",
    "m = Mystem()"
   ]
  },
  {
   "cell_type": "code",
   "execution_count": 118,
   "metadata": {},
   "outputs": [],
   "source": [
    "# лемматизируем столбец purpose\n",
    "df['purpose'] = df['purpose'].apply(m.lemmatize)"
   ]
  },
  {
   "cell_type": "code",
   "execution_count": 122,
   "metadata": {},
   "outputs": [
    {
     "data": {
      "text/plain": [
       "автомобиль \\n                                    972\n",
       "свадьба \\n                                       791\n",
       "на   проведение   свадьба \\n                     768\n",
       "сыграть   свадьба \\n                             765\n",
       "операция   с   недвижимость \\n                   675\n",
       "покупка   коммерческий   недвижимость \\n         661\n",
       "операция   с   жилье \\n                          652\n",
       "покупка   жилье   для   сдача \\n                 651\n",
       "операция   с   коммерческий   недвижимость \\n    650\n",
       "покупка   жилье \\n                               646\n",
       "жилье \\n                                         646\n",
       "покупка   жилье   для   семья \\n                 638\n",
       "строительство   собственный   недвижимость \\n    635\n",
       "недвижимость \\n                                  633\n",
       "операция   со   свой   недвижимость \\n           627\n",
       "строительство   жилой   недвижимость \\n          624\n",
       "покупка   недвижимость \\n                        621\n",
       "покупка   свой   жилье \\n                        620\n",
       "строительство   недвижимость \\n                  619\n",
       "ремонт   жилье \\n                                607\n",
       "покупка   жилой   недвижимость \\n                606\n",
       "на   покупка   свой   автомобиль \\n              505\n",
       "заниматься   высокий   образование \\n            496\n",
       "сделка   с   подержанный   автомобиль \\n         486\n",
       "свой   автомобиль \\n                             478\n",
       "на   покупка   подержать   автомобиль \\n         478\n",
       "на   покупка   автомобиль \\n                     471\n",
       "приобретение   автомобиль \\n                     461\n",
       "дополнительный   образование \\n                  460\n",
       "сделка   с   автомобиль \\n                       455\n",
       "высокий   образование \\n                         452\n",
       "образование \\n                                   447\n",
       "получение   дополнительный   образование \\n      446\n",
       "получение   образование \\n                       442\n",
       "профильный   образование \\n                      436\n",
       "получение   высокий   образование \\n             426\n",
       "заниматься   образование \\n                      408\n",
       "Name: purpose, dtype: int64"
      ]
     },
     "execution_count": 122,
     "metadata": {},
     "output_type": "execute_result"
    }
   ],
   "source": [
    "df['purpose'].apply(lambda x: ' '.join(x)).value_counts()"
   ]
  },
  {
   "cell_type": "code",
   "execution_count": 123,
   "metadata": {},
   "outputs": [],
   "source": [
    "# сформируем список целей кредита. Данный список будет является категориями столбца purpose,\n",
    "# кроме 'жилье'('жилье' и 'недвижимость' будет одной категорией)\n",
    "purpose_list = ['автомобиль','свадьба','строительство','ремонт','образование','жилье','недвижимость']"
   ]
  },
  {
   "cell_type": "code",
   "execution_count": 124,
   "metadata": {},
   "outputs": [],
   "source": [
    "# функция для преобразования списка лемматизированных слов в категорию для столбца purpose\n",
    "def purpose_update(arr):\n",
    "    purpose_list = ['автомобиль','свадьба','строительство','ремонт','образование','жилье','недвижимость']\n",
    "    for i in purpose_list:\n",
    "        if i in arr:\n",
    "            if i == 'жилье':\n",
    "                return 'недвижимость'\n",
    "            return i"
   ]
  },
  {
   "cell_type": "code",
   "execution_count": 125,
   "metadata": {},
   "outputs": [],
   "source": [
    "# применим функцию для категоризации столбца purpose\n",
    "df['purpose'] = df['purpose'].apply(purpose_update)"
   ]
  },
  {
   "cell_type": "code",
   "execution_count": 126,
   "metadata": {},
   "outputs": [
    {
     "data": {
      "text/html": [
       "<div>\n",
       "<style scoped>\n",
       "    .dataframe tbody tr th:only-of-type {\n",
       "        vertical-align: middle;\n",
       "    }\n",
       "\n",
       "    .dataframe tbody tr th {\n",
       "        vertical-align: top;\n",
       "    }\n",
       "\n",
       "    .dataframe thead th {\n",
       "        text-align: right;\n",
       "    }\n",
       "</style>\n",
       "<table border=\"1\" class=\"dataframe\">\n",
       "  <thead>\n",
       "    <tr style=\"text-align: right;\">\n",
       "      <th></th>\n",
       "      <th>children</th>\n",
       "      <th>days_employed</th>\n",
       "      <th>dob_years</th>\n",
       "      <th>education</th>\n",
       "      <th>education_id</th>\n",
       "      <th>family_status</th>\n",
       "      <th>family_status_id</th>\n",
       "      <th>gender</th>\n",
       "      <th>income_type</th>\n",
       "      <th>debt</th>\n",
       "      <th>total_income</th>\n",
       "      <th>purpose</th>\n",
       "      <th>dob_years_cat</th>\n",
       "    </tr>\n",
       "  </thead>\n",
       "  <tbody>\n",
       "    <tr>\n",
       "      <th>0</th>\n",
       "      <td>1</td>\n",
       "      <td>8437</td>\n",
       "      <td>42</td>\n",
       "      <td>высшее</td>\n",
       "      <td>0</td>\n",
       "      <td>женат / замужем</td>\n",
       "      <td>0</td>\n",
       "      <td>F</td>\n",
       "      <td>сотрудник</td>\n",
       "      <td>0</td>\n",
       "      <td>253875</td>\n",
       "      <td>недвижимость</td>\n",
       "      <td>2</td>\n",
       "    </tr>\n",
       "    <tr>\n",
       "      <th>1</th>\n",
       "      <td>1</td>\n",
       "      <td>4024</td>\n",
       "      <td>36</td>\n",
       "      <td>среднее</td>\n",
       "      <td>1</td>\n",
       "      <td>женат / замужем</td>\n",
       "      <td>0</td>\n",
       "      <td>F</td>\n",
       "      <td>сотрудник</td>\n",
       "      <td>0</td>\n",
       "      <td>112080</td>\n",
       "      <td>автомобиль</td>\n",
       "      <td>1</td>\n",
       "    </tr>\n",
       "    <tr>\n",
       "      <th>2</th>\n",
       "      <td>0</td>\n",
       "      <td>5623</td>\n",
       "      <td>33</td>\n",
       "      <td>среднее</td>\n",
       "      <td>1</td>\n",
       "      <td>женат / замужем</td>\n",
       "      <td>0</td>\n",
       "      <td>M</td>\n",
       "      <td>сотрудник</td>\n",
       "      <td>0</td>\n",
       "      <td>145885</td>\n",
       "      <td>недвижимость</td>\n",
       "      <td>1</td>\n",
       "    </tr>\n",
       "    <tr>\n",
       "      <th>3</th>\n",
       "      <td>3</td>\n",
       "      <td>4124</td>\n",
       "      <td>32</td>\n",
       "      <td>среднее</td>\n",
       "      <td>1</td>\n",
       "      <td>женат / замужем</td>\n",
       "      <td>0</td>\n",
       "      <td>M</td>\n",
       "      <td>сотрудник</td>\n",
       "      <td>0</td>\n",
       "      <td>267628</td>\n",
       "      <td>образование</td>\n",
       "      <td>1</td>\n",
       "    </tr>\n",
       "    <tr>\n",
       "      <th>4</th>\n",
       "      <td>0</td>\n",
       "      <td>340266</td>\n",
       "      <td>53</td>\n",
       "      <td>среднее</td>\n",
       "      <td>1</td>\n",
       "      <td>гражданский брак</td>\n",
       "      <td>1</td>\n",
       "      <td>F</td>\n",
       "      <td>пенсионер</td>\n",
       "      <td>0</td>\n",
       "      <td>158616</td>\n",
       "      <td>свадьба</td>\n",
       "      <td>2</td>\n",
       "    </tr>\n",
       "  </tbody>\n",
       "</table>\n",
       "</div>"
      ],
      "text/plain": [
       "   children  days_employed  dob_years education  education_id  \\\n",
       "0         1           8437         42    высшее             0   \n",
       "1         1           4024         36   среднее             1   \n",
       "2         0           5623         33   среднее             1   \n",
       "3         3           4124         32   среднее             1   \n",
       "4         0         340266         53   среднее             1   \n",
       "\n",
       "      family_status  family_status_id gender income_type  debt  total_income  \\\n",
       "0   женат / замужем                 0      F   сотрудник     0        253875   \n",
       "1   женат / замужем                 0      F   сотрудник     0        112080   \n",
       "2   женат / замужем                 0      M   сотрудник     0        145885   \n",
       "3   женат / замужем                 0      M   сотрудник     0        267628   \n",
       "4  гражданский брак                 1      F   пенсионер     0        158616   \n",
       "\n",
       "        purpose  dob_years_cat  \n",
       "0  недвижимость              2  \n",
       "1    автомобиль              1  \n",
       "2  недвижимость              1  \n",
       "3   образование              1  \n",
       "4       свадьба              2  "
      ]
     },
     "execution_count": 126,
     "metadata": {},
     "output_type": "execute_result"
    }
   ],
   "source": [
    "df.head()"
   ]
  },
  {
   "cell_type": "code",
   "execution_count": 127,
   "metadata": {},
   "outputs": [
    {
     "data": {
      "text/plain": [
       "недвижимость     8326\n",
       "автомобиль       4306\n",
       "образование      4013\n",
       "свадьба          2324\n",
       "строительство    1878\n",
       "ремонт            607\n",
       "Name: purpose, dtype: int64"
      ]
     },
     "execution_count": 127,
     "metadata": {},
     "output_type": "execute_result"
    }
   ],
   "source": [
    "# посмотрим на значения столбца purpose и количество наблюдений в разрезе данных значений\n",
    "df['purpose'].value_counts()"
   ]
  },
  {
   "cell_type": "code",
   "execution_count": 128,
   "metadata": {},
   "outputs": [
    {
     "data": {
      "text/plain": [
       "254"
      ]
     },
     "execution_count": 128,
     "metadata": {},
     "output_type": "execute_result"
    }
   ],
   "source": [
    "# проверим количество дубликатов после преобразования столбца цели кредита\n",
    "df.duplicated().sum()"
   ]
  },
  {
   "cell_type": "code",
   "execution_count": 129,
   "metadata": {},
   "outputs": [
    {
     "data": {
      "text/plain": [
       "(21200, 13)"
      ]
     },
     "execution_count": 129,
     "metadata": {},
     "output_type": "execute_result"
    }
   ],
   "source": [
    "# удалим дубликаты\n",
    "df = df.drop_duplicates().reset_index(drop=True)\n",
    "df.shape"
   ]
  },
  {
   "cell_type": "markdown",
   "metadata": {},
   "source": [
    "**Вывод**"
   ]
  },
  {
   "cell_type": "markdown",
   "metadata": {},
   "source": [
    "После лемматизации и унификации столбца `purpose` было выявлено и удалено еще 254 дубликата в датафрейме"
   ]
  },
  {
   "cell_type": "markdown",
   "metadata": {},
   "source": [
    "### Категоризация данных"
   ]
  },
  {
   "cell_type": "code",
   "execution_count": 130,
   "metadata": {},
   "outputs": [],
   "source": [
    "# создадим датафрейм соответствия education и education_id\n",
    "df_education = df.loc[:,['education','education_id']].drop_duplicates().reset_index(drop=True)"
   ]
  },
  {
   "cell_type": "code",
   "execution_count": 131,
   "metadata": {},
   "outputs": [
    {
     "data": {
      "text/html": [
       "<div>\n",
       "<style scoped>\n",
       "    .dataframe tbody tr th:only-of-type {\n",
       "        vertical-align: middle;\n",
       "    }\n",
       "\n",
       "    .dataframe tbody tr th {\n",
       "        vertical-align: top;\n",
       "    }\n",
       "\n",
       "    .dataframe thead th {\n",
       "        text-align: right;\n",
       "    }\n",
       "</style>\n",
       "<table border=\"1\" class=\"dataframe\">\n",
       "  <thead>\n",
       "    <tr style=\"text-align: right;\">\n",
       "      <th></th>\n",
       "      <th>education</th>\n",
       "      <th>education_id</th>\n",
       "    </tr>\n",
       "  </thead>\n",
       "  <tbody>\n",
       "    <tr>\n",
       "      <th>0</th>\n",
       "      <td>высшее</td>\n",
       "      <td>0</td>\n",
       "    </tr>\n",
       "    <tr>\n",
       "      <th>1</th>\n",
       "      <td>среднее</td>\n",
       "      <td>1</td>\n",
       "    </tr>\n",
       "    <tr>\n",
       "      <th>2</th>\n",
       "      <td>неоконченное высшее</td>\n",
       "      <td>2</td>\n",
       "    </tr>\n",
       "    <tr>\n",
       "      <th>3</th>\n",
       "      <td>начальное</td>\n",
       "      <td>3</td>\n",
       "    </tr>\n",
       "    <tr>\n",
       "      <th>4</th>\n",
       "      <td>ученая степень</td>\n",
       "      <td>4</td>\n",
       "    </tr>\n",
       "  </tbody>\n",
       "</table>\n",
       "</div>"
      ],
      "text/plain": [
       "             education  education_id\n",
       "0               высшее             0\n",
       "1              среднее             1\n",
       "2  неоконченное высшее             2\n",
       "3            начальное             3\n",
       "4       ученая степень             4"
      ]
     },
     "execution_count": 131,
     "metadata": {},
     "output_type": "execute_result"
    }
   ],
   "source": [
    "df_education"
   ]
  },
  {
   "cell_type": "code",
   "execution_count": 132,
   "metadata": {},
   "outputs": [],
   "source": [
    "# создадим датафрейм соответствия family_status и family_status_id\n",
    "df_family_status = df.loc[:,['family_status','family_status_id']].drop_duplicates().reset_index(drop=True)"
   ]
  },
  {
   "cell_type": "code",
   "execution_count": 133,
   "metadata": {},
   "outputs": [
    {
     "data": {
      "text/html": [
       "<div>\n",
       "<style scoped>\n",
       "    .dataframe tbody tr th:only-of-type {\n",
       "        vertical-align: middle;\n",
       "    }\n",
       "\n",
       "    .dataframe tbody tr th {\n",
       "        vertical-align: top;\n",
       "    }\n",
       "\n",
       "    .dataframe thead th {\n",
       "        text-align: right;\n",
       "    }\n",
       "</style>\n",
       "<table border=\"1\" class=\"dataframe\">\n",
       "  <thead>\n",
       "    <tr style=\"text-align: right;\">\n",
       "      <th></th>\n",
       "      <th>family_status</th>\n",
       "      <th>family_status_id</th>\n",
       "    </tr>\n",
       "  </thead>\n",
       "  <tbody>\n",
       "    <tr>\n",
       "      <th>0</th>\n",
       "      <td>женат / замужем</td>\n",
       "      <td>0</td>\n",
       "    </tr>\n",
       "    <tr>\n",
       "      <th>1</th>\n",
       "      <td>гражданский брак</td>\n",
       "      <td>1</td>\n",
       "    </tr>\n",
       "    <tr>\n",
       "      <th>2</th>\n",
       "      <td>вдовец / вдова</td>\n",
       "      <td>2</td>\n",
       "    </tr>\n",
       "    <tr>\n",
       "      <th>3</th>\n",
       "      <td>в разводе</td>\n",
       "      <td>3</td>\n",
       "    </tr>\n",
       "    <tr>\n",
       "      <th>4</th>\n",
       "      <td>Не женат / не замужем</td>\n",
       "      <td>4</td>\n",
       "    </tr>\n",
       "  </tbody>\n",
       "</table>\n",
       "</div>"
      ],
      "text/plain": [
       "           family_status  family_status_id\n",
       "0        женат / замужем                 0\n",
       "1       гражданский брак                 1\n",
       "2         вдовец / вдова                 2\n",
       "3              в разводе                 3\n",
       "4  Не женат / не замужем                 4"
      ]
     },
     "execution_count": 133,
     "metadata": {},
     "output_type": "execute_result"
    }
   ],
   "source": [
    "df_family_status\n"
   ]
  },
  {
   "cell_type": "markdown",
   "metadata": {},
   "source": [
    "Разобьем на категории уровень дохода\n"
   ]
  },
  {
   "cell_type": "code",
   "execution_count": 134,
   "metadata": {},
   "outputs": [
    {
     "data": {
      "text/plain": [
       "count      21200.00\n",
       "mean      167533.80\n",
       "std        98619.60\n",
       "min        20667.00\n",
       "25%       106967.25\n",
       "50%       151396.50\n",
       "75%       202417.00\n",
       "max      2265604.00\n",
       "Name: total_income, dtype: object"
      ]
     },
     "execution_count": 134,
     "metadata": {},
     "output_type": "execute_result"
    }
   ],
   "source": [
    "# посмотрим основные статистические показатели по столбцу total_income, для выделения оптимальных групп при категоризации\n",
    "df['total_income'].describe().apply(\"{0:.2f}\".format)"
   ]
  },
  {
   "cell_type": "code",
   "execution_count": 135,
   "metadata": {},
   "outputs": [],
   "source": [
    "# функция для категоризации дохода\n",
    "def income_cat(i):    \n",
    "    if i <= 95000:\n",
    "        return 'Доход менее 95 тыс.'\n",
    "    elif 95001 <= i <= 125000:\n",
    "        return 'Доход более 95 тыс. и менее 125 тыс.'\n",
    "    elif 125001 <= i <= 155000:\n",
    "        return 'Доход более 125 тыс. и менее 155 тыс.'\n",
    "    elif 155001 <= i <= 185000:\n",
    "        return 'Доход более 155 тыс. и менее 185 тыс.'\n",
    "    elif 185001 <= i <= 215000:\n",
    "        return 'Доход более 185 тыс. и менее 215 тыс.'\n",
    "    return 'Доход более 215 тыс.'"
   ]
  },
  {
   "cell_type": "code",
   "execution_count": 136,
   "metadata": {},
   "outputs": [],
   "source": [
    "# применим функцию категоризации дохода к столбцу total_income, создадим отдельный столбец, что бы не потерять данные о доходе\n",
    "df['total_income_cat'] = df['total_income'].apply(income_cat)"
   ]
  },
  {
   "cell_type": "code",
   "execution_count": 137,
   "metadata": {},
   "outputs": [
    {
     "data": {
      "text/plain": [
       "Доход более 215 тыс.                     4270\n",
       "Доход менее 95 тыс.                      3891\n",
       "Доход более 155 тыс. и менее 185 тыс.    3690\n",
       "Доход более 125 тыс. и менее 155 тыс.    3575\n",
       "Доход более 95 тыс. и менее 125 тыс.     3478\n",
       "Доход более 185 тыс. и менее 215 тыс.    2296\n",
       "Name: total_income_cat, dtype: int64"
      ]
     },
     "execution_count": 137,
     "metadata": {},
     "output_type": "execute_result"
    }
   ],
   "source": [
    "# посмотрим значение и количество наблюдений в разрезе каждой категории по доходу. проверим сопоставимость категорий.\n",
    "df['total_income_cat'].value_counts()"
   ]
  },
  {
   "cell_type": "markdown",
   "metadata": {},
   "source": [
    "Все категории примерно одного размера"
   ]
  },
  {
   "cell_type": "code",
   "execution_count": 138,
   "metadata": {},
   "outputs": [],
   "source": [
    "# создадим датафрейм для последующей работы, удалим из текущего дублирующиеся столбцы(education, family_status, total_income) \n",
    "data = df.loc[:,['children', 'days_employed', 'dob_years', 'education_id',\n",
    "       'family_status_id', 'gender', 'income_type', 'debt','total_income_cat', 'purpose',]]"
   ]
  },
  {
   "cell_type": "code",
   "execution_count": 139,
   "metadata": {},
   "outputs": [
    {
     "data": {
      "text/html": [
       "<div>\n",
       "<style scoped>\n",
       "    .dataframe tbody tr th:only-of-type {\n",
       "        vertical-align: middle;\n",
       "    }\n",
       "\n",
       "    .dataframe tbody tr th {\n",
       "        vertical-align: top;\n",
       "    }\n",
       "\n",
       "    .dataframe thead th {\n",
       "        text-align: right;\n",
       "    }\n",
       "</style>\n",
       "<table border=\"1\" class=\"dataframe\">\n",
       "  <thead>\n",
       "    <tr style=\"text-align: right;\">\n",
       "      <th></th>\n",
       "      <th>children</th>\n",
       "      <th>days_employed</th>\n",
       "      <th>dob_years</th>\n",
       "      <th>education_id</th>\n",
       "      <th>family_status_id</th>\n",
       "      <th>gender</th>\n",
       "      <th>income_type</th>\n",
       "      <th>debt</th>\n",
       "      <th>total_income_cat</th>\n",
       "      <th>purpose</th>\n",
       "    </tr>\n",
       "  </thead>\n",
       "  <tbody>\n",
       "    <tr>\n",
       "      <th>0</th>\n",
       "      <td>1</td>\n",
       "      <td>8437</td>\n",
       "      <td>42</td>\n",
       "      <td>0</td>\n",
       "      <td>0</td>\n",
       "      <td>F</td>\n",
       "      <td>сотрудник</td>\n",
       "      <td>0</td>\n",
       "      <td>Доход более 215 тыс.</td>\n",
       "      <td>недвижимость</td>\n",
       "    </tr>\n",
       "    <tr>\n",
       "      <th>1</th>\n",
       "      <td>1</td>\n",
       "      <td>4024</td>\n",
       "      <td>36</td>\n",
       "      <td>1</td>\n",
       "      <td>0</td>\n",
       "      <td>F</td>\n",
       "      <td>сотрудник</td>\n",
       "      <td>0</td>\n",
       "      <td>Доход более 95 тыс. и менее 125 тыс.</td>\n",
       "      <td>автомобиль</td>\n",
       "    </tr>\n",
       "    <tr>\n",
       "      <th>2</th>\n",
       "      <td>0</td>\n",
       "      <td>5623</td>\n",
       "      <td>33</td>\n",
       "      <td>1</td>\n",
       "      <td>0</td>\n",
       "      <td>M</td>\n",
       "      <td>сотрудник</td>\n",
       "      <td>0</td>\n",
       "      <td>Доход более 125 тыс. и менее 155 тыс.</td>\n",
       "      <td>недвижимость</td>\n",
       "    </tr>\n",
       "    <tr>\n",
       "      <th>3</th>\n",
       "      <td>3</td>\n",
       "      <td>4124</td>\n",
       "      <td>32</td>\n",
       "      <td>1</td>\n",
       "      <td>0</td>\n",
       "      <td>M</td>\n",
       "      <td>сотрудник</td>\n",
       "      <td>0</td>\n",
       "      <td>Доход более 215 тыс.</td>\n",
       "      <td>образование</td>\n",
       "    </tr>\n",
       "    <tr>\n",
       "      <th>4</th>\n",
       "      <td>0</td>\n",
       "      <td>340266</td>\n",
       "      <td>53</td>\n",
       "      <td>1</td>\n",
       "      <td>1</td>\n",
       "      <td>F</td>\n",
       "      <td>пенсионер</td>\n",
       "      <td>0</td>\n",
       "      <td>Доход более 155 тыс. и менее 185 тыс.</td>\n",
       "      <td>свадьба</td>\n",
       "    </tr>\n",
       "  </tbody>\n",
       "</table>\n",
       "</div>"
      ],
      "text/plain": [
       "   children  days_employed  dob_years  education_id  family_status_id gender  \\\n",
       "0         1           8437         42             0                 0      F   \n",
       "1         1           4024         36             1                 0      F   \n",
       "2         0           5623         33             1                 0      M   \n",
       "3         3           4124         32             1                 0      M   \n",
       "4         0         340266         53             1                 1      F   \n",
       "\n",
       "  income_type  debt                       total_income_cat       purpose  \n",
       "0   сотрудник     0                   Доход более 215 тыс.  недвижимость  \n",
       "1   сотрудник     0   Доход более 95 тыс. и менее 125 тыс.    автомобиль  \n",
       "2   сотрудник     0  Доход более 125 тыс. и менее 155 тыс.  недвижимость  \n",
       "3   сотрудник     0                   Доход более 215 тыс.   образование  \n",
       "4   пенсионер     0  Доход более 155 тыс. и менее 185 тыс.       свадьба  "
      ]
     },
     "execution_count": 139,
     "metadata": {},
     "output_type": "execute_result"
    }
   ],
   "source": [
    "data.head()"
   ]
  },
  {
   "cell_type": "markdown",
   "metadata": {},
   "source": [
    "**Вывод**"
   ]
  },
  {
   "cell_type": "markdown",
   "metadata": {},
   "source": [
    "Созданы таблицы соответствия образования и семейного положения(df_education, df_family_status).  \n",
    "Категоризирован уровень дохода, для дальнейшего использования при выявлении влияния дохода на возврат кредита.  \n",
    "Создан датафрейм для дальнейшей работы (data)"
   ]
  },
  {
   "cell_type": "markdown",
   "metadata": {},
   "source": [
    "## Шаг 3. Ответьте на вопросы"
   ]
  },
  {
   "cell_type": "markdown",
   "metadata": {},
   "source": [
    "- Есть ли зависимость между наличием детей и возвратом кредита в срок?"
   ]
  },
  {
   "cell_type": "code",
   "execution_count": 140,
   "metadata": {},
   "outputs": [
    {
     "data": {
      "text/plain": [
       "0    19460\n",
       "1     1740\n",
       "Name: debt, dtype: int64"
      ]
     },
     "execution_count": 140,
     "metadata": {},
     "output_type": "execute_result"
    }
   ],
   "source": [
    "# посмотрим статистику возврата кредитов\n",
    "data['debt'].value_counts()"
   ]
  },
  {
   "cell_type": "markdown",
   "metadata": {},
   "source": [
    "из 20 тыс наблюдений 19 тыс не имели задолженности по возврату кредита и у 1,7 тыс наблюдений были проблемы с возвратом кредита.\n",
    "Посмотри , как на возврат кредита влияет наличие детей"
   ]
  },
  {
   "cell_type": "code",
   "execution_count": 141,
   "metadata": {},
   "outputs": [],
   "source": [
    "# функция для определения наличия детей\n",
    "def children_status(num):\n",
    "    if num == 0:\n",
    "        return 'детей нет'\n",
    "    elif num == -1 or num == 20:\n",
    "        return 'ошибка'\n",
    "    return 'дети есть'"
   ]
  },
  {
   "cell_type": "code",
   "execution_count": 142,
   "metadata": {},
   "outputs": [],
   "source": [
    "# добавим столбец с признаком наличия детей\n",
    "data['children_status'] = data['children'].apply(children_status)"
   ]
  },
  {
   "cell_type": "code",
   "execution_count": 143,
   "metadata": {},
   "outputs": [],
   "source": [
    "# создадим функцию для группировки данных\n",
    "# сгруппируем данные по col и возврату/невозврату кредита.\n",
    "# count покажет общее количество наблюдений в данной категории \n",
    "# sum просуммирует все единички (т.е. невозвраты) и мы получим количество наблюдений, по которым был невозврт кредита.\n",
    "# сохраним полученные данные в ДатаФрейм\n",
    "# рассчитаем % невозврата в каждой группе gj col и сохраним результат в столбец debt_ratio\n",
    "# рачсчитаем % невозврата в разрезе групп col\n",
    "# для этого количество невозврата по данной группе разделим на общее количество невозратов\n",
    "def data_group(data,col):\n",
    "    data_debt = data.groupby(col)['debt'].agg(['count','sum'])\n",
    "    data_debt['debt_ratio'] = data_debt['sum']/data_debt['count']*100\n",
    "    data_debt['debt_group']=data_debt['sum']/data['debt'].sum()*100\n",
    "    return data_debt\n",
    "    "
   ]
  },
  {
   "cell_type": "code",
   "execution_count": 144,
   "metadata": {},
   "outputs": [],
   "source": [
    "data_children_debt = data_group(data,'children_status')"
   ]
  },
  {
   "cell_type": "code",
   "execution_count": 145,
   "metadata": {},
   "outputs": [
    {
     "data": {
      "text/html": [
       "<div>\n",
       "<style scoped>\n",
       "    .dataframe tbody tr th:only-of-type {\n",
       "        vertical-align: middle;\n",
       "    }\n",
       "\n",
       "    .dataframe tbody tr th {\n",
       "        vertical-align: top;\n",
       "    }\n",
       "\n",
       "    .dataframe thead th {\n",
       "        text-align: right;\n",
       "    }\n",
       "</style>\n",
       "<table border=\"1\" class=\"dataframe\">\n",
       "  <thead>\n",
       "    <tr style=\"text-align: right;\">\n",
       "      <th></th>\n",
       "      <th>count</th>\n",
       "      <th>sum</th>\n",
       "      <th>debt_ratio</th>\n",
       "      <th>debt_group</th>\n",
       "    </tr>\n",
       "    <tr>\n",
       "      <th>children_status</th>\n",
       "      <th></th>\n",
       "      <th></th>\n",
       "      <th></th>\n",
       "      <th></th>\n",
       "    </tr>\n",
       "  </thead>\n",
       "  <tbody>\n",
       "    <tr>\n",
       "      <th>детей нет</th>\n",
       "      <td>13889</td>\n",
       "      <td>1062</td>\n",
       "      <td>7.646339</td>\n",
       "      <td>61.034483</td>\n",
       "    </tr>\n",
       "    <tr>\n",
       "      <th>дети есть</th>\n",
       "      <td>7188</td>\n",
       "      <td>669</td>\n",
       "      <td>9.307179</td>\n",
       "      <td>38.448276</td>\n",
       "    </tr>\n",
       "    <tr>\n",
       "      <th>ошибка</th>\n",
       "      <td>123</td>\n",
       "      <td>9</td>\n",
       "      <td>7.317073</td>\n",
       "      <td>0.517241</td>\n",
       "    </tr>\n",
       "  </tbody>\n",
       "</table>\n",
       "</div>"
      ],
      "text/plain": [
       "                 count   sum  debt_ratio  debt_group\n",
       "children_status                                     \n",
       "детей нет        13889  1062    7.646339   61.034483\n",
       "дети есть         7188   669    9.307179   38.448276\n",
       "ошибка             123     9    7.317073    0.517241"
      ]
     },
     "execution_count": 145,
     "metadata": {},
     "output_type": "execute_result"
    }
   ],
   "source": [
    "data_children_debt"
   ]
  },
  {
   "cell_type": "markdown",
   "metadata": {},
   "source": [
    "**Вывод**"
   ]
  },
  {
   "cell_type": "markdown",
   "metadata": {},
   "source": [
    "**Существует небольшая зависимости между наличием детей и возвратом кредита в срок**, в группе \"детей нет\" не возвращают примерно 7,6 % , а в группе \"дети есть\" 9%. Т.е. наличие детей отрицательно сказывается на возвратность кредитов. 61% всех невозвратов приходится на группу \"детей нет\", но это связано с тем , что данная группа почти в 2 раза больше, чем группа \"дети есть\"."
   ]
  },
  {
   "cell_type": "markdown",
   "metadata": {},
   "source": [
    "- Есть ли зависимость между семейным положением и возвратом кредита в срок?"
   ]
  },
  {
   "cell_type": "code",
   "execution_count": 146,
   "metadata": {},
   "outputs": [],
   "source": [
    "data_family_status_debt = data_group(data,'family_status_id')"
   ]
  },
  {
   "cell_type": "code",
   "execution_count": 147,
   "metadata": {},
   "outputs": [
    {
     "data": {
      "text/html": [
       "<div>\n",
       "<style scoped>\n",
       "    .dataframe tbody tr th:only-of-type {\n",
       "        vertical-align: middle;\n",
       "    }\n",
       "\n",
       "    .dataframe tbody tr th {\n",
       "        vertical-align: top;\n",
       "    }\n",
       "\n",
       "    .dataframe thead th {\n",
       "        text-align: right;\n",
       "    }\n",
       "</style>\n",
       "<table border=\"1\" class=\"dataframe\">\n",
       "  <thead>\n",
       "    <tr style=\"text-align: right;\">\n",
       "      <th></th>\n",
       "      <th>count</th>\n",
       "      <th>sum</th>\n",
       "      <th>debt_ratio</th>\n",
       "      <th>debt_group</th>\n",
       "    </tr>\n",
       "    <tr>\n",
       "      <th>family_status_id</th>\n",
       "      <th></th>\n",
       "      <th></th>\n",
       "      <th></th>\n",
       "      <th></th>\n",
       "    </tr>\n",
       "  </thead>\n",
       "  <tbody>\n",
       "    <tr>\n",
       "      <th>0</th>\n",
       "      <td>12143</td>\n",
       "      <td>930</td>\n",
       "      <td>7.658733</td>\n",
       "      <td>53.448276</td>\n",
       "    </tr>\n",
       "    <tr>\n",
       "      <th>1</th>\n",
       "      <td>4125</td>\n",
       "      <td>388</td>\n",
       "      <td>9.406061</td>\n",
       "      <td>22.298851</td>\n",
       "    </tr>\n",
       "    <tr>\n",
       "      <th>2</th>\n",
       "      <td>948</td>\n",
       "      <td>63</td>\n",
       "      <td>6.645570</td>\n",
       "      <td>3.620690</td>\n",
       "    </tr>\n",
       "    <tr>\n",
       "      <th>3</th>\n",
       "      <td>1193</td>\n",
       "      <td>85</td>\n",
       "      <td>7.124895</td>\n",
       "      <td>4.885057</td>\n",
       "    </tr>\n",
       "    <tr>\n",
       "      <th>4</th>\n",
       "      <td>2791</td>\n",
       "      <td>274</td>\n",
       "      <td>9.817270</td>\n",
       "      <td>15.747126</td>\n",
       "    </tr>\n",
       "  </tbody>\n",
       "</table>\n",
       "</div>"
      ],
      "text/plain": [
       "                  count  sum  debt_ratio  debt_group\n",
       "family_status_id                                    \n",
       "0                 12143  930    7.658733   53.448276\n",
       "1                  4125  388    9.406061   22.298851\n",
       "2                   948   63    6.645570    3.620690\n",
       "3                  1193   85    7.124895    4.885057\n",
       "4                  2791  274    9.817270   15.747126"
      ]
     },
     "execution_count": 147,
     "metadata": {},
     "output_type": "execute_result"
    }
   ],
   "source": [
    "data_family_status_debt"
   ]
  },
  {
   "cell_type": "code",
   "execution_count": 148,
   "metadata": {},
   "outputs": [
    {
     "data": {
      "text/html": [
       "<div>\n",
       "<style scoped>\n",
       "    .dataframe tbody tr th:only-of-type {\n",
       "        vertical-align: middle;\n",
       "    }\n",
       "\n",
       "    .dataframe tbody tr th {\n",
       "        vertical-align: top;\n",
       "    }\n",
       "\n",
       "    .dataframe thead th {\n",
       "        text-align: right;\n",
       "    }\n",
       "</style>\n",
       "<table border=\"1\" class=\"dataframe\">\n",
       "  <thead>\n",
       "    <tr style=\"text-align: right;\">\n",
       "      <th></th>\n",
       "      <th>family_status</th>\n",
       "      <th>family_status_id</th>\n",
       "    </tr>\n",
       "  </thead>\n",
       "  <tbody>\n",
       "    <tr>\n",
       "      <th>0</th>\n",
       "      <td>женат / замужем</td>\n",
       "      <td>0</td>\n",
       "    </tr>\n",
       "    <tr>\n",
       "      <th>1</th>\n",
       "      <td>гражданский брак</td>\n",
       "      <td>1</td>\n",
       "    </tr>\n",
       "    <tr>\n",
       "      <th>2</th>\n",
       "      <td>вдовец / вдова</td>\n",
       "      <td>2</td>\n",
       "    </tr>\n",
       "    <tr>\n",
       "      <th>3</th>\n",
       "      <td>в разводе</td>\n",
       "      <td>3</td>\n",
       "    </tr>\n",
       "    <tr>\n",
       "      <th>4</th>\n",
       "      <td>Не женат / не замужем</td>\n",
       "      <td>4</td>\n",
       "    </tr>\n",
       "  </tbody>\n",
       "</table>\n",
       "</div>"
      ],
      "text/plain": [
       "           family_status  family_status_id\n",
       "0        женат / замужем                 0\n",
       "1       гражданский брак                 1\n",
       "2         вдовец / вдова                 2\n",
       "3              в разводе                 3\n",
       "4  Не женат / не замужем                 4"
      ]
     },
     "execution_count": 148,
     "metadata": {},
     "output_type": "execute_result"
    }
   ],
   "source": [
    "df_family_status"
   ]
  },
  {
   "cell_type": "markdown",
   "metadata": {},
   "source": [
    "**Вывод**"
   ]
  },
  {
   "cell_type": "markdown",
   "metadata": {},
   "source": [
    "Самыми благонадежными заемщиками являеся категория 'вдова/вдовец'(всего 6,6% невозврата в рамках категории), у категорий 'в разводе' и 'женат' данный показатель чуть больше 7% и самыми неблагонадежными являются ватегории 'не женат' и 'гражданский брак' (более 9%). Зависимость скорее всего существует, но показатель по категории вдова/вдовец скорее всего не репрезентативный, так как это самая малочисленная группа (всего 948 человек 21.2 тыс наблюдений)."
   ]
  },
  {
   "cell_type": "markdown",
   "metadata": {},
   "source": [
    "- Есть ли зависимость между уровнем дохода и возвратом кредита в срок?"
   ]
  },
  {
   "cell_type": "code",
   "execution_count": 149,
   "metadata": {},
   "outputs": [],
   "source": [
    "data_total_income_debt = data_group(data,'total_income_cat')"
   ]
  },
  {
   "cell_type": "code",
   "execution_count": 150,
   "metadata": {},
   "outputs": [
    {
     "data": {
      "text/html": [
       "<div>\n",
       "<style scoped>\n",
       "    .dataframe tbody tr th:only-of-type {\n",
       "        vertical-align: middle;\n",
       "    }\n",
       "\n",
       "    .dataframe tbody tr th {\n",
       "        vertical-align: top;\n",
       "    }\n",
       "\n",
       "    .dataframe thead th {\n",
       "        text-align: right;\n",
       "    }\n",
       "</style>\n",
       "<table border=\"1\" class=\"dataframe\">\n",
       "  <thead>\n",
       "    <tr style=\"text-align: right;\">\n",
       "      <th></th>\n",
       "      <th>count</th>\n",
       "      <th>sum</th>\n",
       "      <th>debt_ratio</th>\n",
       "      <th>debt_group</th>\n",
       "    </tr>\n",
       "    <tr>\n",
       "      <th>total_income_cat</th>\n",
       "      <th></th>\n",
       "      <th></th>\n",
       "      <th></th>\n",
       "      <th></th>\n",
       "    </tr>\n",
       "  </thead>\n",
       "  <tbody>\n",
       "    <tr>\n",
       "      <th>Доход более 125 тыс. и менее 155 тыс.</th>\n",
       "      <td>3575</td>\n",
       "      <td>313</td>\n",
       "      <td>8.755245</td>\n",
       "      <td>17.988506</td>\n",
       "    </tr>\n",
       "    <tr>\n",
       "      <th>Доход более 155 тыс. и менее 185 тыс.</th>\n",
       "      <td>3690</td>\n",
       "      <td>336</td>\n",
       "      <td>9.105691</td>\n",
       "      <td>19.310345</td>\n",
       "    </tr>\n",
       "    <tr>\n",
       "      <th>Доход более 185 тыс. и менее 215 тыс.</th>\n",
       "      <td>2296</td>\n",
       "      <td>184</td>\n",
       "      <td>8.013937</td>\n",
       "      <td>10.574713</td>\n",
       "    </tr>\n",
       "    <tr>\n",
       "      <th>Доход более 215 тыс.</th>\n",
       "      <td>4270</td>\n",
       "      <td>299</td>\n",
       "      <td>7.002342</td>\n",
       "      <td>17.183908</td>\n",
       "    </tr>\n",
       "    <tr>\n",
       "      <th>Доход более 95 тыс. и менее 125 тыс.</th>\n",
       "      <td>3478</td>\n",
       "      <td>296</td>\n",
       "      <td>8.510638</td>\n",
       "      <td>17.011494</td>\n",
       "    </tr>\n",
       "    <tr>\n",
       "      <th>Доход менее 95 тыс.</th>\n",
       "      <td>3891</td>\n",
       "      <td>312</td>\n",
       "      <td>8.018504</td>\n",
       "      <td>17.931034</td>\n",
       "    </tr>\n",
       "  </tbody>\n",
       "</table>\n",
       "</div>"
      ],
      "text/plain": [
       "                                       count  sum  debt_ratio  debt_group\n",
       "total_income_cat                                                         \n",
       "Доход более 125 тыс. и менее 155 тыс.   3575  313    8.755245   17.988506\n",
       "Доход более 155 тыс. и менее 185 тыс.   3690  336    9.105691   19.310345\n",
       "Доход более 185 тыс. и менее 215 тыс.   2296  184    8.013937   10.574713\n",
       "Доход более 215 тыс.                    4270  299    7.002342   17.183908\n",
       "Доход более 95 тыс. и менее 125 тыс.    3478  296    8.510638   17.011494\n",
       "Доход менее 95 тыс.                     3891  312    8.018504   17.931034"
      ]
     },
     "execution_count": 150,
     "metadata": {},
     "output_type": "execute_result"
    }
   ],
   "source": [
    "data_total_income_debt"
   ]
  },
  {
   "cell_type": "markdown",
   "metadata": {},
   "source": [
    "**Вывод**"
   ]
  },
  {
   "cell_type": "markdown",
   "metadata": {},
   "source": [
    "Существует незначительное влияние дохода на возрат кредита.  \n",
    "При росте дохода до 185 тыс растет процент невозрата с 8% (для дохода до 95 тыс.) до 8,7% (для дохода от 155 тыс до 185 тыс).  \n",
    "При дальнейшем росте дохода процент невозрата падает до 7% ( для дохода более 215 тыс)"
   ]
  },
  {
   "cell_type": "markdown",
   "metadata": {},
   "source": [
    "- Как разные цели кредита влияют на его возврат в срок?"
   ]
  },
  {
   "cell_type": "code",
   "execution_count": 151,
   "metadata": {},
   "outputs": [],
   "source": [
    "data_purpose_debt = data_group(data,'purpose')"
   ]
  },
  {
   "cell_type": "code",
   "execution_count": 152,
   "metadata": {},
   "outputs": [
    {
     "data": {
      "text/html": [
       "<div>\n",
       "<style scoped>\n",
       "    .dataframe tbody tr th:only-of-type {\n",
       "        vertical-align: middle;\n",
       "    }\n",
       "\n",
       "    .dataframe tbody tr th {\n",
       "        vertical-align: top;\n",
       "    }\n",
       "\n",
       "    .dataframe thead th {\n",
       "        text-align: right;\n",
       "    }\n",
       "</style>\n",
       "<table border=\"1\" class=\"dataframe\">\n",
       "  <thead>\n",
       "    <tr style=\"text-align: right;\">\n",
       "      <th></th>\n",
       "      <th>count</th>\n",
       "      <th>sum</th>\n",
       "      <th>debt_ratio</th>\n",
       "      <th>debt_group</th>\n",
       "    </tr>\n",
       "    <tr>\n",
       "      <th>purpose</th>\n",
       "      <th></th>\n",
       "      <th></th>\n",
       "      <th></th>\n",
       "      <th></th>\n",
       "    </tr>\n",
       "  </thead>\n",
       "  <tbody>\n",
       "    <tr>\n",
       "      <th>автомобиль</th>\n",
       "      <td>4272</td>\n",
       "      <td>402</td>\n",
       "      <td>9.410112</td>\n",
       "      <td>23.103448</td>\n",
       "    </tr>\n",
       "    <tr>\n",
       "      <th>недвижимость</th>\n",
       "      <td>8180</td>\n",
       "      <td>603</td>\n",
       "      <td>7.371638</td>\n",
       "      <td>34.655172</td>\n",
       "    </tr>\n",
       "    <tr>\n",
       "      <th>образование</th>\n",
       "      <td>3964</td>\n",
       "      <td>370</td>\n",
       "      <td>9.334006</td>\n",
       "      <td>21.264368</td>\n",
       "    </tr>\n",
       "    <tr>\n",
       "      <th>ремонт</th>\n",
       "      <td>607</td>\n",
       "      <td>35</td>\n",
       "      <td>5.766063</td>\n",
       "      <td>2.011494</td>\n",
       "    </tr>\n",
       "    <tr>\n",
       "      <th>свадьба</th>\n",
       "      <td>2306</td>\n",
       "      <td>186</td>\n",
       "      <td>8.065915</td>\n",
       "      <td>10.689655</td>\n",
       "    </tr>\n",
       "    <tr>\n",
       "      <th>строительство</th>\n",
       "      <td>1871</td>\n",
       "      <td>144</td>\n",
       "      <td>7.696419</td>\n",
       "      <td>8.275862</td>\n",
       "    </tr>\n",
       "  </tbody>\n",
       "</table>\n",
       "</div>"
      ],
      "text/plain": [
       "               count  sum  debt_ratio  debt_group\n",
       "purpose                                          \n",
       "автомобиль      4272  402    9.410112   23.103448\n",
       "недвижимость    8180  603    7.371638   34.655172\n",
       "образование     3964  370    9.334006   21.264368\n",
       "ремонт           607   35    5.766063    2.011494\n",
       "свадьба         2306  186    8.065915   10.689655\n",
       "строительство   1871  144    7.696419    8.275862"
      ]
     },
     "execution_count": 152,
     "metadata": {},
     "output_type": "execute_result"
    }
   ],
   "source": [
    "data_purpose_debt"
   ]
  },
  {
   "cell_type": "markdown",
   "metadata": {},
   "source": [
    "В связи с тем , что категория ремонт очень незначительна и по смыслу близка к категории строительство, попробуем их объединить и рассчитать процент невозврата кредита по полученной суммарной категрии."
   ]
  },
  {
   "cell_type": "code",
   "execution_count": 153,
   "metadata": {},
   "outputs": [
    {
     "data": {
      "text/plain": [
       "7.223567393058919"
      ]
     },
     "execution_count": 153,
     "metadata": {},
     "output_type": "execute_result"
    }
   ],
   "source": [
    "# рассчитаем процент невозврата кредита , если объединить категорию ремонт и строительство\n",
    "(data_purpose_debt.iloc[3,1]+data_purpose_debt.iloc[5,1])/(data_purpose_debt.iloc[3,0]+data_purpose_debt.iloc[5,0])*100"
   ]
  },
  {
   "cell_type": "markdown",
   "metadata": {},
   "source": [
    "**Вывод**"
   ]
  },
  {
   "cell_type": "markdown",
   "metadata": {},
   "source": [
    "Существует незначительное влияние цели кредита на его возрат. Для кредитов на недвижимость,ремонт,строительство невозвратность кредита составляет около 7%. Для кредитов на расходы на свадьбу 8%. Для автокредитов и кредитов на образование невозвратность составляет более 9%."
   ]
  },
  {
   "cell_type": "markdown",
   "metadata": {},
   "source": [
    "## Шаг 4. Общий вывод"
   ]
  },
  {
   "cell_type": "markdown",
   "metadata": {},
   "source": [
    "Проверены четыре гипотезы:\n",
    "1. *Есть ли зависимость между наличием детей и возвратом кредита в срок?*  \n",
    "Незначительная зависимость существует, наличие детей отрицательно сказывается на возвратность кредитов  \n",
    "\n",
    "2. *Есть ли зависимость между семейным положением и возвратом кредита в срок?*  \n",
    "Самыми благонадежными заемщиками являеся категория 'вдова/вдовец', 'в разводе', 'женат'(около 7% невозрата). Самыми неблагонадежными являются категории 'не женат' и 'гражданский брак' (более 9% невозвратов). \n",
    "\n",
    "3. *Есть ли зависимость между уровнем дохода и возвратом кредита в срок?*  \n",
    "При росте дохода до 185 тыс растет процент невозрата с 8% (для дохода до 95 тыс.) до 8,7% (для дохода от 155 тыс до 185 тыс).  \n",
    "При дальнейшем росте дохода процент невозрата падает до 7% ( для дохода более 215 тыс)\n",
    "\n",
    "4. *Как разные цели кредита влияют на его возврат в срок?*    \n",
    "Для кредитов на недвижимость, ремонт, строительство невозвратность кредита составляет около 7%. Для кредитов на расходы на свадьбу 8%. Для автокредитов и кредитов на образование невозвратность составляет более 9%\n",
    "\n",
    "**При построении модели кредитного скоринга рекомендуется учитывать все данные факторы, рассмотренные выше: наличие детей, семейное положение, уровень дохода, цель кредита.**"
   ]
  }
 ],
 "metadata": {
  "ExecuteTimeLog": [
   {
    "duration": 98,
    "start_time": "2021-11-12T08:26:01.656Z"
   },
   {
    "duration": 604,
    "start_time": "2021-11-12T08:31:00.654Z"
   },
   {
    "duration": 52,
    "start_time": "2021-11-12T08:36:47.602Z"
   },
   {
    "duration": 73,
    "start_time": "2021-11-12T08:36:52.066Z"
   },
   {
    "duration": 49,
    "start_time": "2021-11-12T08:37:29.347Z"
   },
   {
    "duration": 48,
    "start_time": "2021-11-12T08:37:35.891Z"
   },
   {
    "duration": 13,
    "start_time": "2021-11-12T08:37:36.356Z"
   },
   {
    "duration": 12,
    "start_time": "2021-11-12T08:37:59.890Z"
   },
   {
    "duration": 98,
    "start_time": "2021-11-12T08:46:43.985Z"
   },
   {
    "duration": 90,
    "start_time": "2021-11-12T09:06:55.960Z"
   },
   {
    "duration": 10,
    "start_time": "2021-11-12T09:39:27.360Z"
   },
   {
    "duration": 12,
    "start_time": "2021-11-12T09:40:01.712Z"
   },
   {
    "duration": 10,
    "start_time": "2021-11-12T09:40:17.056Z"
   },
   {
    "duration": 10,
    "start_time": "2021-11-12T09:40:52.993Z"
   },
   {
    "duration": 22,
    "start_time": "2021-11-12T09:41:38.849Z"
   },
   {
    "duration": 9,
    "start_time": "2021-11-12T09:42:02.601Z"
   },
   {
    "duration": 371,
    "start_time": "2021-11-12T09:42:07.329Z"
   },
   {
    "duration": 267,
    "start_time": "2021-11-12T09:42:12.626Z"
   },
   {
    "duration": 7099,
    "start_time": "2021-11-12T09:42:19.329Z"
   },
   {
    "duration": 98,
    "start_time": "2021-11-12T09:42:51.650Z"
   },
   {
    "duration": 131,
    "start_time": "2021-11-12T09:42:54.705Z"
   },
   {
    "duration": 8,
    "start_time": "2021-11-12T09:43:27.298Z"
   },
   {
    "duration": 8,
    "start_time": "2021-11-12T09:43:41.042Z"
   },
   {
    "duration": 9,
    "start_time": "2021-11-12T09:43:48.034Z"
   },
   {
    "duration": 20,
    "start_time": "2021-11-12T09:44:21.028Z"
   },
   {
    "duration": 24,
    "start_time": "2021-11-12T09:44:34.451Z"
   },
   {
    "duration": 22,
    "start_time": "2021-11-12T09:44:44.627Z"
   },
   {
    "duration": 8,
    "start_time": "2021-11-12T09:44:51.828Z"
   },
   {
    "duration": 14,
    "start_time": "2021-11-12T09:45:09.411Z"
   },
   {
    "duration": 10,
    "start_time": "2021-11-12T09:45:12.819Z"
   },
   {
    "duration": 4,
    "start_time": "2021-11-12T09:45:31.316Z"
   },
   {
    "duration": 22,
    "start_time": "2021-11-12T09:45:32.260Z"
   },
   {
    "duration": 22,
    "start_time": "2021-11-12T09:46:16.180Z"
   },
   {
    "duration": 16,
    "start_time": "2021-11-12T09:46:24.469Z"
   },
   {
    "duration": 17,
    "start_time": "2021-11-12T09:46:35.780Z"
   },
   {
    "duration": 16,
    "start_time": "2021-11-12T09:46:53.205Z"
   },
   {
    "duration": 15,
    "start_time": "2021-11-12T09:47:15.205Z"
   },
   {
    "duration": 17,
    "start_time": "2021-11-12T09:47:35.749Z"
   },
   {
    "duration": 23,
    "start_time": "2021-11-12T09:47:46.485Z"
   },
   {
    "duration": 5,
    "start_time": "2021-11-12T09:48:16.069Z"
   },
   {
    "duration": 23,
    "start_time": "2021-11-12T09:48:16.806Z"
   },
   {
    "duration": 503,
    "start_time": "2021-11-12T09:48:57.488Z"
   },
   {
    "duration": 7335,
    "start_time": "2021-11-12T09:49:06.790Z"
   },
   {
    "duration": 11,
    "start_time": "2021-11-12T09:49:21.142Z"
   },
   {
    "duration": 11,
    "start_time": "2021-11-12T09:49:21.974Z"
   },
   {
    "duration": 5,
    "start_time": "2021-11-12T09:49:23.078Z"
   },
   {
    "duration": 23,
    "start_time": "2021-11-12T09:49:23.830Z"
   },
   {
    "duration": 6916,
    "start_time": "2021-11-12T09:49:24.533Z"
   },
   {
    "duration": 16,
    "start_time": "2021-11-12T09:49:51.847Z"
   },
   {
    "duration": 10,
    "start_time": "2021-11-12T09:50:01.079Z"
   },
   {
    "duration": 9,
    "start_time": "2021-11-12T09:50:51.575Z"
   },
   {
    "duration": 240,
    "start_time": "2021-11-12T09:53:12.442Z"
   },
   {
    "duration": 15,
    "start_time": "2021-11-12T09:54:00.921Z"
   },
   {
    "duration": 628,
    "start_time": "2021-11-12T09:58:28.731Z"
   },
   {
    "duration": 64,
    "start_time": "2021-11-12T09:58:29.362Z"
   },
   {
    "duration": 21,
    "start_time": "2021-11-12T09:58:30.367Z"
   },
   {
    "duration": 11,
    "start_time": "2021-11-12T09:58:31.052Z"
   },
   {
    "duration": 10,
    "start_time": "2021-11-12T09:58:34.672Z"
   },
   {
    "duration": 12,
    "start_time": "2021-11-12T09:58:35.628Z"
   },
   {
    "duration": 97,
    "start_time": "2021-11-12T09:59:09.102Z"
   },
   {
    "duration": 321,
    "start_time": "2021-11-12T09:59:13.822Z"
   },
   {
    "duration": 26,
    "start_time": "2021-11-12T09:59:19.987Z"
   },
   {
    "duration": 24,
    "start_time": "2021-11-12T10:02:44.577Z"
   },
   {
    "duration": 3,
    "start_time": "2021-11-12T10:06:46.067Z"
   },
   {
    "duration": 3,
    "start_time": "2021-11-12T10:07:21.395Z"
   },
   {
    "duration": 26,
    "start_time": "2021-11-12T10:08:20.979Z"
   },
   {
    "duration": 10,
    "start_time": "2021-11-12T10:08:38.359Z"
   },
   {
    "duration": 7,
    "start_time": "2021-11-12T10:09:36.149Z"
   },
   {
    "duration": 7,
    "start_time": "2021-11-12T10:09:48.306Z"
   },
   {
    "duration": 5,
    "start_time": "2021-11-12T10:10:39.718Z"
   },
   {
    "duration": 3,
    "start_time": "2021-11-12T10:11:18.406Z"
   },
   {
    "duration": 3,
    "start_time": "2021-11-12T10:12:07.927Z"
   },
   {
    "duration": 11,
    "start_time": "2021-11-12T10:13:42.153Z"
   },
   {
    "duration": 3,
    "start_time": "2021-11-12T10:13:57.768Z"
   },
   {
    "duration": 2,
    "start_time": "2021-11-12T10:13:58.232Z"
   },
   {
    "duration": 16,
    "start_time": "2021-11-12T10:13:58.672Z"
   },
   {
    "duration": 284,
    "start_time": "2021-11-12T10:14:57.865Z"
   },
   {
    "duration": 298,
    "start_time": "2021-11-12T10:15:03.772Z"
   },
   {
    "duration": 229,
    "start_time": "2021-11-12T10:15:15.275Z"
   },
   {
    "duration": 279,
    "start_time": "2021-11-12T10:16:06.090Z"
   },
   {
    "duration": 269,
    "start_time": "2021-11-12T10:16:15.184Z"
   },
   {
    "duration": 226,
    "start_time": "2021-11-12T10:18:20.751Z"
   },
   {
    "duration": 226,
    "start_time": "2021-11-12T10:24:03.968Z"
   },
   {
    "duration": 236,
    "start_time": "2021-11-12T10:25:16.109Z"
   },
   {
    "duration": 188,
    "start_time": "2021-11-12T10:26:11.713Z"
   },
   {
    "duration": 6,
    "start_time": "2021-11-12T10:26:32.977Z"
   },
   {
    "duration": 170,
    "start_time": "2021-11-12T10:27:41.522Z"
   },
   {
    "duration": 176,
    "start_time": "2021-11-12T10:28:13.107Z"
   },
   {
    "duration": 5,
    "start_time": "2021-11-12T10:28:38.387Z"
   },
   {
    "duration": 5,
    "start_time": "2021-11-12T10:28:49.289Z"
   },
   {
    "duration": 989,
    "start_time": "2021-11-12T10:30:27.670Z"
   },
   {
    "duration": 187,
    "start_time": "2021-11-12T10:30:53.157Z"
   },
   {
    "duration": 3,
    "start_time": "2021-11-12T10:31:26.629Z"
   },
   {
    "duration": 52,
    "start_time": "2021-11-12T10:31:27.013Z"
   },
   {
    "duration": 14,
    "start_time": "2021-11-12T10:31:27.398Z"
   },
   {
    "duration": 12,
    "start_time": "2021-11-12T10:31:27.925Z"
   },
   {
    "duration": 10,
    "start_time": "2021-11-12T10:31:31.013Z"
   },
   {
    "duration": 14,
    "start_time": "2021-11-12T10:31:31.525Z"
   },
   {
    "duration": 23,
    "start_time": "2021-11-12T10:31:34.789Z"
   },
   {
    "duration": 96,
    "start_time": "2021-11-12T10:32:05.318Z"
   },
   {
    "duration": 96,
    "start_time": "2021-11-12T10:32:17.862Z"
   },
   {
    "duration": 92,
    "start_time": "2021-11-12T10:32:21.239Z"
   },
   {
    "duration": 111,
    "start_time": "2021-11-12T10:32:39.333Z"
   },
   {
    "duration": 170,
    "start_time": "2021-11-12T10:32:45.816Z"
   },
   {
    "duration": 176,
    "start_time": "2021-11-12T10:32:50.887Z"
   },
   {
    "duration": 8,
    "start_time": "2021-11-12T10:33:17.639Z"
   },
   {
    "duration": 5,
    "start_time": "2021-11-12T10:33:33.911Z"
   },
   {
    "duration": 11,
    "start_time": "2021-11-12T10:33:48.615Z"
   },
   {
    "duration": 6,
    "start_time": "2021-11-12T10:33:57.559Z"
   },
   {
    "duration": 171,
    "start_time": "2021-11-12T10:36:36.121Z"
   },
   {
    "duration": 173,
    "start_time": "2021-11-12T10:36:45.769Z"
   },
   {
    "duration": 273,
    "start_time": "2021-11-12T10:36:50.729Z"
   },
   {
    "duration": 93,
    "start_time": "2021-11-12T10:37:03.977Z"
   },
   {
    "duration": 182,
    "start_time": "2021-11-12T10:37:11.033Z"
   },
   {
    "duration": 184,
    "start_time": "2021-11-12T10:37:31.146Z"
   },
   {
    "duration": 7,
    "start_time": "2021-11-12T10:37:33.961Z"
   },
   {
    "duration": 4,
    "start_time": "2021-11-12T10:38:15.370Z"
   },
   {
    "duration": 3,
    "start_time": "2021-11-12T10:38:16.074Z"
   },
   {
    "duration": 12,
    "start_time": "2021-11-12T10:38:16.554Z"
   },
   {
    "duration": 6,
    "start_time": "2021-11-12T10:38:19.243Z"
   },
   {
    "duration": 179,
    "start_time": "2021-11-12T10:38:22.090Z"
   },
   {
    "duration": 194,
    "start_time": "2021-11-12T10:38:37.963Z"
   },
   {
    "duration": 173,
    "start_time": "2021-11-12T10:38:53.706Z"
   },
   {
    "duration": 239,
    "start_time": "2021-11-12T10:40:20.492Z"
   },
   {
    "duration": 267,
    "start_time": "2021-11-12T10:40:54.256Z"
   },
   {
    "duration": 269,
    "start_time": "2021-11-12T10:41:05.805Z"
   },
   {
    "duration": 174,
    "start_time": "2021-11-12T10:41:13.132Z"
   },
   {
    "duration": 177,
    "start_time": "2021-11-12T10:41:22.557Z"
   },
   {
    "duration": 179,
    "start_time": "2021-11-12T10:44:07.135Z"
   },
   {
    "duration": 182,
    "start_time": "2021-11-12T10:44:38.735Z"
   },
   {
    "duration": 184,
    "start_time": "2021-11-12T10:44:56.335Z"
   },
   {
    "duration": 185,
    "start_time": "2021-11-12T10:45:21.887Z"
   },
   {
    "duration": 3,
    "start_time": "2021-11-12T10:45:29.487Z"
   },
   {
    "duration": 182,
    "start_time": "2021-11-12T10:45:37.360Z"
   },
   {
    "duration": 176,
    "start_time": "2021-11-12T10:45:38.928Z"
   },
   {
    "duration": 176,
    "start_time": "2021-11-12T10:46:16.785Z"
   },
   {
    "duration": 6,
    "start_time": "2021-11-12T10:46:22.336Z"
   },
   {
    "duration": 180,
    "start_time": "2021-11-12T10:46:25.632Z"
   },
   {
    "duration": 248,
    "start_time": "2021-11-12T10:46:43.665Z"
   },
   {
    "duration": 8,
    "start_time": "2021-11-12T10:47:04.321Z"
   },
   {
    "duration": 12,
    "start_time": "2021-11-12T10:48:06.209Z"
   },
   {
    "duration": 5,
    "start_time": "2021-11-12T10:48:35.089Z"
   },
   {
    "duration": 6,
    "start_time": "2021-11-12T10:48:48.436Z"
   },
   {
    "duration": 7,
    "start_time": "2021-11-12T10:50:05.027Z"
   },
   {
    "duration": 7,
    "start_time": "2021-11-12T10:50:20.675Z"
   },
   {
    "duration": 9,
    "start_time": "2021-11-12T10:50:46.131Z"
   },
   {
    "duration": 6,
    "start_time": "2021-11-12T10:52:46.838Z"
   },
   {
    "duration": 17,
    "start_time": "2021-11-12T10:53:44.316Z"
   },
   {
    "duration": 5,
    "start_time": "2021-11-12T10:54:22.536Z"
   },
   {
    "duration": 98,
    "start_time": "2021-11-12T10:54:33.542Z"
   },
   {
    "duration": 10,
    "start_time": "2021-11-12T11:01:46.381Z"
   },
   {
    "duration": 8,
    "start_time": "2021-11-12T11:01:55.740Z"
   },
   {
    "duration": 7,
    "start_time": "2021-11-12T11:02:49.181Z"
   },
   {
    "duration": 7,
    "start_time": "2021-11-12T11:03:06.718Z"
   },
   {
    "duration": 8,
    "start_time": "2021-11-12T11:04:10.989Z"
   },
   {
    "duration": 10,
    "start_time": "2021-11-12T11:04:55.413Z"
   },
   {
    "duration": 8,
    "start_time": "2021-11-12T11:05:02.877Z"
   },
   {
    "duration": 7,
    "start_time": "2021-11-12T11:07:27.280Z"
   },
   {
    "duration": 9,
    "start_time": "2021-11-12T11:07:31.968Z"
   },
   {
    "duration": 8,
    "start_time": "2021-11-12T11:07:34.703Z"
   },
   {
    "duration": 24,
    "start_time": "2021-11-12T11:22:39.689Z"
   },
   {
    "duration": 12,
    "start_time": "2021-11-12T11:30:36.769Z"
   },
   {
    "duration": 22,
    "start_time": "2021-11-12T11:30:58.783Z"
   },
   {
    "duration": 20,
    "start_time": "2021-11-12T11:31:09.472Z"
   },
   {
    "duration": 4,
    "start_time": "2021-11-12T11:56:50.914Z"
   },
   {
    "duration": 3,
    "start_time": "2021-11-12T11:56:51.363Z"
   },
   {
    "duration": 20,
    "start_time": "2021-11-12T11:56:51.779Z"
   },
   {
    "duration": 102,
    "start_time": "2021-11-12T11:58:16.931Z"
   },
   {
    "duration": 7,
    "start_time": "2021-11-12T11:59:57.701Z"
   },
   {
    "duration": 8,
    "start_time": "2021-11-12T12:00:09.813Z"
   },
   {
    "duration": 8,
    "start_time": "2021-11-12T12:00:32.102Z"
   },
   {
    "duration": 8,
    "start_time": "2021-11-12T12:00:32.516Z"
   },
   {
    "duration": 9,
    "start_time": "2021-11-12T12:00:38.341Z"
   },
   {
    "duration": 9,
    "start_time": "2021-11-12T12:06:28.729Z"
   },
   {
    "duration": 293,
    "start_time": "2021-11-12T12:07:34.266Z"
   },
   {
    "duration": 5,
    "start_time": "2021-11-12T12:07:40.410Z"
   },
   {
    "duration": 398,
    "start_time": "2021-11-12T12:07:46.778Z"
   },
   {
    "duration": 5,
    "start_time": "2021-11-12T12:07:51.099Z"
   },
   {
    "duration": 5,
    "start_time": "2021-11-12T12:07:57.067Z"
   },
   {
    "duration": 5,
    "start_time": "2021-11-12T12:08:01.275Z"
   },
   {
    "duration": 5,
    "start_time": "2021-11-12T12:08:17.755Z"
   },
   {
    "duration": 5,
    "start_time": "2021-11-12T12:08:21.339Z"
   },
   {
    "duration": 410,
    "start_time": "2021-11-12T12:08:24.188Z"
   },
   {
    "duration": 5,
    "start_time": "2021-11-12T12:08:27.307Z"
   },
   {
    "duration": 277,
    "start_time": "2021-11-12T12:22:48.134Z"
   },
   {
    "duration": 264,
    "start_time": "2021-11-12T12:27:32.409Z"
   },
   {
    "duration": 16,
    "start_time": "2021-11-12T12:27:39.913Z"
   },
   {
    "duration": 22,
    "start_time": "2021-11-12T12:27:52.393Z"
   },
   {
    "duration": 1893,
    "start_time": "2021-11-12T12:28:15.369Z"
   },
   {
    "duration": 11,
    "start_time": "2021-11-12T12:28:24.298Z"
   },
   {
    "duration": 298,
    "start_time": "2021-11-12T12:28:52.954Z"
   },
   {
    "duration": 287,
    "start_time": "2021-11-12T12:49:31.065Z"
   },
   {
    "duration": 12,
    "start_time": "2021-11-12T12:49:58.729Z"
   },
   {
    "duration": 273,
    "start_time": "2021-11-12T14:48:03.293Z"
   },
   {
    "duration": 8,
    "start_time": "2021-11-12T14:48:55.197Z"
   },
   {
    "duration": 114,
    "start_time": "2021-11-12T14:49:58.750Z"
   },
   {
    "duration": 8,
    "start_time": "2021-11-12T14:51:22.640Z"
   },
   {
    "duration": 24,
    "start_time": "2021-11-12T14:51:33.999Z"
   },
   {
    "duration": 14,
    "start_time": "2021-11-12T14:51:51.519Z"
   },
   {
    "duration": 13,
    "start_time": "2021-11-12T14:52:03.360Z"
   },
   {
    "duration": 4,
    "start_time": "2021-11-12T14:52:29.728Z"
   },
   {
    "duration": 4,
    "start_time": "2021-11-12T14:52:38.239Z"
   },
   {
    "duration": 4,
    "start_time": "2021-11-12T14:53:28.545Z"
   },
   {
    "duration": 5,
    "start_time": "2021-11-12T14:57:08.275Z"
   },
   {
    "duration": 7,
    "start_time": "2021-11-12T14:57:28.468Z"
   },
   {
    "duration": 6,
    "start_time": "2021-11-12T14:57:36.084Z"
   },
   {
    "duration": 12,
    "start_time": "2021-11-12T14:57:56.132Z"
   },
   {
    "duration": 59,
    "start_time": "2021-11-12T15:00:04.069Z"
   },
   {
    "duration": 12,
    "start_time": "2021-11-12T15:00:21.781Z"
   },
   {
    "duration": 54,
    "start_time": "2021-11-12T15:00:34.341Z"
   },
   {
    "duration": 14,
    "start_time": "2021-11-12T15:00:37.221Z"
   },
   {
    "duration": 3,
    "start_time": "2021-11-12T15:01:11.429Z"
   },
   {
    "duration": 50,
    "start_time": "2021-11-12T15:01:11.782Z"
   },
   {
    "duration": 13,
    "start_time": "2021-11-12T15:01:12.121Z"
   },
   {
    "duration": 10,
    "start_time": "2021-11-12T15:01:12.486Z"
   },
   {
    "duration": 10,
    "start_time": "2021-11-12T15:01:14.565Z"
   },
   {
    "duration": 10,
    "start_time": "2021-11-12T15:01:14.949Z"
   },
   {
    "duration": 21,
    "start_time": "2021-11-12T15:01:15.845Z"
   },
   {
    "duration": 4,
    "start_time": "2021-11-12T15:01:17.845Z"
   },
   {
    "duration": 3,
    "start_time": "2021-11-12T15:01:18.405Z"
   },
   {
    "duration": 22,
    "start_time": "2021-11-12T15:01:18.981Z"
   },
   {
    "duration": 168,
    "start_time": "2021-11-12T15:01:21.605Z"
   },
   {
    "duration": 173,
    "start_time": "2021-11-12T15:01:22.246Z"
   },
   {
    "duration": 7,
    "start_time": "2021-11-12T15:01:22.886Z"
   },
   {
    "duration": 6,
    "start_time": "2021-11-12T15:01:24.117Z"
   },
   {
    "duration": 12,
    "start_time": "2021-11-12T15:01:24.613Z"
   },
   {
    "duration": 8,
    "start_time": "2021-11-12T15:01:25.158Z"
   },
   {
    "duration": 292,
    "start_time": "2021-11-12T15:04:25.000Z"
   },
   {
    "duration": 12,
    "start_time": "2021-11-12T15:05:17.289Z"
   },
   {
    "duration": 11,
    "start_time": "2021-11-12T15:05:27.561Z"
   },
   {
    "duration": 9,
    "start_time": "2021-11-12T15:05:58.217Z"
   },
   {
    "duration": 12,
    "start_time": "2021-11-12T15:06:02.361Z"
   },
   {
    "duration": 12,
    "start_time": "2021-11-12T15:06:10.217Z"
   },
   {
    "duration": 8,
    "start_time": "2021-11-12T15:07:23.771Z"
   },
   {
    "duration": 3,
    "start_time": "2021-11-12T15:07:29.658Z"
   },
   {
    "duration": 3,
    "start_time": "2021-11-12T15:07:50.194Z"
   },
   {
    "duration": 10,
    "start_time": "2021-11-12T15:08:08.763Z"
   },
   {
    "duration": 14,
    "start_time": "2021-11-12T15:09:34.620Z"
   },
   {
    "duration": 11,
    "start_time": "2021-11-12T15:09:37.789Z"
   },
   {
    "duration": 13,
    "start_time": "2021-11-12T15:09:58.365Z"
   },
   {
    "duration": 13,
    "start_time": "2021-11-12T15:10:01.500Z"
   },
   {
    "duration": 9,
    "start_time": "2021-11-12T15:10:20.990Z"
   },
   {
    "duration": 11,
    "start_time": "2021-11-12T15:10:22.108Z"
   },
   {
    "duration": 12,
    "start_time": "2021-11-12T15:10:25.852Z"
   },
   {
    "duration": 10,
    "start_time": "2021-11-12T15:10:49.997Z"
   },
   {
    "duration": 12,
    "start_time": "2021-11-12T15:10:54.445Z"
   },
   {
    "duration": 6,
    "start_time": "2021-11-12T15:11:04.734Z"
   },
   {
    "duration": 6,
    "start_time": "2021-11-12T15:11:25.758Z"
   },
   {
    "duration": 3,
    "start_time": "2021-11-12T15:11:30.429Z"
   },
   {
    "duration": 50,
    "start_time": "2021-11-12T15:11:30.717Z"
   },
   {
    "duration": 14,
    "start_time": "2021-11-12T15:11:31.023Z"
   },
   {
    "duration": 12,
    "start_time": "2021-11-12T15:11:31.338Z"
   },
   {
    "duration": 10,
    "start_time": "2021-11-12T15:11:33.326Z"
   },
   {
    "duration": 11,
    "start_time": "2021-11-12T15:11:33.838Z"
   },
   {
    "duration": 21,
    "start_time": "2021-11-12T15:11:35.438Z"
   },
   {
    "duration": 3,
    "start_time": "2021-11-12T15:11:38.061Z"
   },
   {
    "duration": 2,
    "start_time": "2021-11-12T15:11:38.525Z"
   },
   {
    "duration": 21,
    "start_time": "2021-11-12T15:11:38.973Z"
   },
   {
    "duration": 174,
    "start_time": "2021-11-12T15:11:40.125Z"
   },
   {
    "duration": 175,
    "start_time": "2021-11-12T15:11:40.669Z"
   },
   {
    "duration": 6,
    "start_time": "2021-11-12T15:11:41.405Z"
   },
   {
    "duration": 6,
    "start_time": "2021-11-12T15:11:43.309Z"
   },
   {
    "duration": 13,
    "start_time": "2021-11-12T15:11:43.757Z"
   },
   {
    "duration": 8,
    "start_time": "2021-11-12T15:11:44.318Z"
   },
   {
    "duration": 14,
    "start_time": "2021-11-12T15:12:13.438Z"
   },
   {
    "duration": 12,
    "start_time": "2021-11-12T15:12:16.574Z"
   },
   {
    "duration": 6,
    "start_time": "2021-11-12T15:12:23.566Z"
   },
   {
    "duration": 15,
    "start_time": "2021-11-12T15:13:03.504Z"
   },
   {
    "duration": 11,
    "start_time": "2021-11-12T15:13:05.998Z"
   },
   {
    "duration": 83,
    "start_time": "2021-11-12T15:13:51.774Z"
   },
   {
    "duration": 4,
    "start_time": "2021-11-12T15:14:00.448Z"
   },
   {
    "duration": 4,
    "start_time": "2021-11-12T15:14:20.592Z"
   },
   {
    "duration": 3,
    "start_time": "2021-11-12T15:16:54.738Z"
   },
   {
    "duration": 4,
    "start_time": "2021-11-12T15:17:06.833Z"
   },
   {
    "duration": 21,
    "start_time": "2021-11-12T15:17:39.501Z"
   },
   {
    "duration": 4,
    "start_time": "2021-11-12T15:18:14.741Z"
   },
   {
    "duration": 4,
    "start_time": "2021-11-12T15:18:27.812Z"
   },
   {
    "duration": 96,
    "start_time": "2021-11-12T15:18:38.627Z"
   },
   {
    "duration": 4,
    "start_time": "2021-11-12T15:18:42.242Z"
   },
   {
    "duration": 15,
    "start_time": "2021-11-12T15:19:02.228Z"
   },
   {
    "duration": 4,
    "start_time": "2021-11-12T15:19:14.421Z"
   },
   {
    "duration": 6,
    "start_time": "2021-11-12T15:19:33.139Z"
   },
   {
    "duration": 12,
    "start_time": "2021-11-12T15:20:33.174Z"
   },
   {
    "duration": 12,
    "start_time": "2021-11-12T15:22:14.886Z"
   },
   {
    "duration": 87,
    "start_time": "2021-11-12T15:30:23.964Z"
   },
   {
    "duration": 11,
    "start_time": "2021-11-12T15:30:54.683Z"
   },
   {
    "duration": 8,
    "start_time": "2021-11-12T15:31:12.236Z"
   },
   {
    "duration": 13,
    "start_time": "2021-11-12T15:31:28.220Z"
   },
   {
    "duration": 4,
    "start_time": "2021-11-12T15:31:54.572Z"
   },
   {
    "duration": 7,
    "start_time": "2021-11-12T15:48:04.040Z"
   },
   {
    "duration": 7,
    "start_time": "2021-11-12T15:48:07.769Z"
   },
   {
    "duration": 7,
    "start_time": "2021-11-12T15:48:16.280Z"
   },
   {
    "duration": 76,
    "start_time": "2021-11-12T15:50:25.417Z"
   },
   {
    "duration": 33,
    "start_time": "2021-11-12T15:50:32.122Z"
   },
   {
    "duration": 28,
    "start_time": "2021-11-12T15:50:58.138Z"
   },
   {
    "duration": 193,
    "start_time": "2021-11-12T15:50:59.066Z"
   },
   {
    "duration": 33,
    "start_time": "2021-11-12T15:51:08.347Z"
   },
   {
    "duration": 28,
    "start_time": "2021-11-12T15:51:39.931Z"
   },
   {
    "duration": 27,
    "start_time": "2021-11-12T15:52:10.669Z"
   },
   {
    "duration": 31,
    "start_time": "2021-11-12T15:53:36.076Z"
   },
   {
    "duration": 27,
    "start_time": "2021-11-12T15:56:51.982Z"
   },
   {
    "duration": 28,
    "start_time": "2021-11-12T15:57:41.999Z"
   },
   {
    "duration": 28,
    "start_time": "2021-11-12T15:58:01.583Z"
   },
   {
    "duration": 92,
    "start_time": "2021-11-12T15:58:24.240Z"
   },
   {
    "duration": 30,
    "start_time": "2021-11-12T15:58:27.296Z"
   },
   {
    "duration": 1400,
    "start_time": "2021-11-12T16:01:42.210Z"
   },
   {
    "duration": 1871,
    "start_time": "2021-11-12T16:02:46.275Z"
   },
   {
    "duration": 381,
    "start_time": "2021-11-12T16:03:40.563Z"
   },
   {
    "duration": 27,
    "start_time": "2021-11-12T16:04:21.396Z"
   },
   {
    "duration": 8,
    "start_time": "2021-11-12T16:04:48.773Z"
   },
   {
    "duration": 27,
    "start_time": "2021-11-12T16:05:05.781Z"
   },
   {
    "duration": 6,
    "start_time": "2021-11-12T16:05:49.286Z"
   },
   {
    "duration": 6,
    "start_time": "2021-11-12T16:06:02.644Z"
   },
   {
    "duration": 6,
    "start_time": "2021-11-12T16:06:15.172Z"
   },
   {
    "duration": 368,
    "start_time": "2021-11-12T16:10:09.528Z"
   },
   {
    "duration": 16,
    "start_time": "2021-11-12T16:11:32.313Z"
   },
   {
    "duration": 17,
    "start_time": "2021-11-12T16:12:03.562Z"
   },
   {
    "duration": 328,
    "start_time": "2021-11-12T16:20:32.688Z"
   },
   {
    "duration": 324,
    "start_time": "2021-11-12T16:20:45.247Z"
   },
   {
    "duration": 4,
    "start_time": "2021-11-12T16:21:04.514Z"
   },
   {
    "duration": 4,
    "start_time": "2021-11-12T16:21:07.936Z"
   },
   {
    "duration": 307,
    "start_time": "2021-11-12T16:21:29.568Z"
   },
   {
    "duration": 346,
    "start_time": "2021-11-12T16:21:57.904Z"
   },
   {
    "duration": 367,
    "start_time": "2021-11-12T16:23:17.217Z"
   },
   {
    "duration": 331,
    "start_time": "2021-11-12T16:23:35.555Z"
   },
   {
    "duration": 335,
    "start_time": "2021-11-12T16:23:41.346Z"
   },
   {
    "duration": 336,
    "start_time": "2021-11-12T16:23:53.266Z"
   },
   {
    "duration": 335,
    "start_time": "2021-11-12T16:24:01.089Z"
   },
   {
    "duration": 328,
    "start_time": "2021-11-12T16:24:11.650Z"
   },
   {
    "duration": 88,
    "start_time": "2021-11-12T16:24:25.218Z"
   },
   {
    "duration": 361,
    "start_time": "2021-11-12T16:24:28.434Z"
   },
   {
    "duration": 330,
    "start_time": "2021-11-12T16:24:35.747Z"
   },
   {
    "duration": 25,
    "start_time": "2021-11-12T16:25:20.632Z"
   },
   {
    "duration": 10,
    "start_time": "2021-11-12T16:25:46.276Z"
   },
   {
    "duration": 10,
    "start_time": "2021-11-12T16:25:53.828Z"
   },
   {
    "duration": 10,
    "start_time": "2021-11-12T16:26:00.068Z"
   },
   {
    "duration": 3,
    "start_time": "2021-11-12T16:29:40.150Z"
   },
   {
    "duration": 326,
    "start_time": "2021-11-12T16:30:13.991Z"
   },
   {
    "duration": 153,
    "start_time": "2021-11-12T16:32:52.281Z"
   },
   {
    "duration": 465,
    "start_time": "2021-11-12T16:33:03.881Z"
   },
   {
    "duration": 449,
    "start_time": "2021-11-12T16:34:09.146Z"
   },
   {
    "duration": 459,
    "start_time": "2021-11-12T16:34:23.674Z"
   },
   {
    "duration": 14,
    "start_time": "2021-11-12T16:38:59.663Z"
   },
   {
    "duration": 16,
    "start_time": "2021-11-12T16:39:00.669Z"
   },
   {
    "duration": 12,
    "start_time": "2021-11-12T16:39:02.301Z"
   },
   {
    "duration": 491,
    "start_time": "2021-11-12T16:39:21.262Z"
   },
   {
    "duration": 182,
    "start_time": "2021-11-12T16:41:53.042Z"
   },
   {
    "duration": 171,
    "start_time": "2021-11-12T16:42:03.103Z"
   },
   {
    "duration": 7,
    "start_time": "2021-11-12T16:42:18.079Z"
   },
   {
    "duration": 3,
    "start_time": "2021-11-12T17:06:36.848Z"
   },
   {
    "duration": 3,
    "start_time": "2021-11-12T17:06:41.537Z"
   },
   {
    "duration": 691,
    "start_time": "2021-11-12T17:07:15.569Z"
   },
   {
    "duration": 489,
    "start_time": "2021-11-12T17:07:23.777Z"
   },
   {
    "duration": 451,
    "start_time": "2021-11-12T17:07:57.362Z"
   },
   {
    "duration": 461,
    "start_time": "2021-11-12T17:08:28.131Z"
   },
   {
    "duration": 470,
    "start_time": "2021-11-12T17:09:29.363Z"
   },
   {
    "duration": 483,
    "start_time": "2021-11-12T17:11:25.606Z"
   },
   {
    "duration": 493,
    "start_time": "2021-11-12T17:11:56.181Z"
   },
   {
    "duration": 363,
    "start_time": "2021-11-12T17:12:59.445Z"
   },
   {
    "duration": 346,
    "start_time": "2021-11-12T17:13:06.981Z"
   },
   {
    "duration": 368,
    "start_time": "2021-11-12T17:15:27.543Z"
   },
   {
    "duration": 474,
    "start_time": "2021-11-12T17:15:37.511Z"
   },
   {
    "duration": 13,
    "start_time": "2021-11-12T17:22:06.747Z"
   },
   {
    "duration": 15,
    "start_time": "2021-11-12T17:22:07.979Z"
   },
   {
    "duration": 11,
    "start_time": "2021-11-12T17:22:10.219Z"
   },
   {
    "duration": 9,
    "start_time": "2021-11-12T17:28:43.888Z"
   },
   {
    "duration": 13,
    "start_time": "2021-11-12T17:30:09.154Z"
   },
   {
    "duration": 12,
    "start_time": "2021-11-12T17:30:09.969Z"
   },
   {
    "duration": 12,
    "start_time": "2021-11-12T17:31:11.761Z"
   },
   {
    "duration": 14,
    "start_time": "2021-11-12T17:31:14.193Z"
   },
   {
    "duration": 14,
    "start_time": "2021-11-12T17:31:14.737Z"
   },
   {
    "duration": 11,
    "start_time": "2021-11-12T17:31:15.281Z"
   },
   {
    "duration": 3,
    "start_time": "2021-11-12T17:32:07.827Z"
   },
   {
    "duration": 49,
    "start_time": "2021-11-12T17:32:08.153Z"
   },
   {
    "duration": 13,
    "start_time": "2021-11-12T17:32:08.467Z"
   },
   {
    "duration": 11,
    "start_time": "2021-11-12T17:32:08.786Z"
   },
   {
    "duration": 10,
    "start_time": "2021-11-12T17:32:10.578Z"
   },
   {
    "duration": 10,
    "start_time": "2021-11-12T17:32:10.945Z"
   },
   {
    "duration": 22,
    "start_time": "2021-11-12T17:32:11.314Z"
   },
   {
    "duration": 3,
    "start_time": "2021-11-12T17:32:12.417Z"
   },
   {
    "duration": 3,
    "start_time": "2021-11-12T17:32:12.785Z"
   },
   {
    "duration": 20,
    "start_time": "2021-11-12T17:32:13.122Z"
   },
   {
    "duration": 182,
    "start_time": "2021-11-12T17:32:13.922Z"
   },
   {
    "duration": 183,
    "start_time": "2021-11-12T17:32:14.386Z"
   },
   {
    "duration": 6,
    "start_time": "2021-11-12T17:32:15.601Z"
   },
   {
    "duration": 10,
    "start_time": "2021-11-12T17:32:16.001Z"
   },
   {
    "duration": 8,
    "start_time": "2021-11-12T17:32:16.418Z"
   },
   {
    "duration": 350,
    "start_time": "2021-11-12T17:32:17.521Z"
   },
   {
    "duration": 598,
    "start_time": "2021-11-12T17:32:19.218Z"
   },
   {
    "duration": 13,
    "start_time": "2021-11-12T17:32:21.234Z"
   },
   {
    "duration": 15,
    "start_time": "2021-11-12T17:32:21.714Z"
   },
   {
    "duration": 14,
    "start_time": "2021-11-12T17:32:22.354Z"
   },
   {
    "duration": 12,
    "start_time": "2021-11-12T17:32:23.170Z"
   },
   {
    "duration": 441,
    "start_time": "2021-11-12T17:33:49.732Z"
   },
   {
    "duration": 449,
    "start_time": "2021-11-12T17:34:07.108Z"
   },
   {
    "duration": 502,
    "start_time": "2021-11-12T17:34:26.308Z"
   },
   {
    "duration": 591,
    "start_time": "2021-11-12T17:34:47.109Z"
   },
   {
    "duration": 465,
    "start_time": "2021-11-12T17:34:54.312Z"
   },
   {
    "duration": 824,
    "start_time": "2021-11-12T17:35:17.861Z"
   },
   {
    "duration": 552,
    "start_time": "2021-11-12T17:35:25.220Z"
   },
   {
    "duration": 503,
    "start_time": "2021-11-12T17:35:31.941Z"
   },
   {
    "duration": 743,
    "start_time": "2021-11-12T20:15:07.285Z"
   },
   {
    "duration": 272,
    "start_time": "2021-11-12T20:16:08.055Z"
   },
   {
    "duration": 1260,
    "start_time": "2021-11-12T20:16:13.878Z"
   },
   {
    "duration": 1202,
    "start_time": "2021-11-12T20:17:05.608Z"
   },
   {
    "duration": 1039,
    "start_time": "2021-11-12T20:17:37.176Z"
   },
   {
    "duration": 1402,
    "start_time": "2021-11-12T20:17:55.768Z"
   },
   {
    "duration": 478,
    "start_time": "2021-11-12T20:18:42.505Z"
   },
   {
    "duration": 790,
    "start_time": "2021-11-12T20:18:53.897Z"
   },
   {
    "duration": 480,
    "start_time": "2021-11-12T20:19:10.083Z"
   },
   {
    "duration": 602,
    "start_time": "2021-11-12T20:19:28.089Z"
   },
   {
    "duration": 2024,
    "start_time": "2021-11-12T20:19:44.571Z"
   },
   {
    "duration": 481,
    "start_time": "2021-11-12T20:20:07.737Z"
   },
   {
    "duration": 529,
    "start_time": "2021-11-12T20:20:24.666Z"
   },
   {
    "duration": 411,
    "start_time": "2021-11-12T20:20:34.506Z"
   },
   {
    "duration": 13,
    "start_time": "2021-11-12T20:21:04.522Z"
   },
   {
    "duration": 600,
    "start_time": "2021-11-12T20:21:39.018Z"
   },
   {
    "duration": 255,
    "start_time": "2021-11-12T20:22:04.683Z"
   },
   {
    "duration": 6403,
    "start_time": "2021-11-12T20:22:11.404Z"
   },
   {
    "duration": 90,
    "start_time": "2021-11-12T20:22:45.595Z"
   },
   {
    "duration": 86,
    "start_time": "2021-11-12T20:22:52.875Z"
   },
   {
    "duration": 614,
    "start_time": "2021-11-12T20:23:00.412Z"
   },
   {
    "duration": 459,
    "start_time": "2021-11-12T20:23:17.403Z"
   },
   {
    "duration": 838,
    "start_time": "2021-11-12T20:24:26.493Z"
   },
   {
    "duration": 1044,
    "start_time": "2021-11-12T20:25:07.981Z"
   },
   {
    "duration": 1353,
    "start_time": "2021-11-12T20:25:41.983Z"
   },
   {
    "duration": 1247,
    "start_time": "2021-11-12T20:26:19.134Z"
   },
   {
    "duration": 20,
    "start_time": "2021-11-12T20:28:43.872Z"
   },
   {
    "duration": 15,
    "start_time": "2021-11-12T20:29:26.321Z"
   },
   {
    "duration": 18,
    "start_time": "2021-11-12T20:30:51.234Z"
   },
   {
    "duration": 13,
    "start_time": "2021-11-12T20:31:44.514Z"
   },
   {
    "duration": 2001,
    "start_time": "2021-11-12T20:32:42.995Z"
   },
   {
    "duration": 252,
    "start_time": "2021-11-12T20:33:20.600Z"
   },
   {
    "duration": 2168,
    "start_time": "2021-11-12T20:35:02.500Z"
   },
   {
    "duration": 578,
    "start_time": "2021-11-12T20:36:39.895Z"
   },
   {
    "duration": 3,
    "start_time": "2021-11-12T20:37:00.406Z"
   },
   {
    "duration": 550,
    "start_time": "2021-11-12T20:37:09.622Z"
   },
   {
    "duration": 534,
    "start_time": "2021-11-12T20:40:57.688Z"
   },
   {
    "duration": 726,
    "start_time": "2021-11-12T20:41:16.968Z"
   },
   {
    "duration": 657,
    "start_time": "2021-11-12T20:42:08.714Z"
   },
   {
    "duration": 548,
    "start_time": "2021-11-12T20:42:39.658Z"
   },
   {
    "duration": 678,
    "start_time": "2021-11-12T20:43:14.395Z"
   },
   {
    "duration": 580,
    "start_time": "2021-11-12T20:43:32.234Z"
   },
   {
    "duration": 538,
    "start_time": "2021-11-12T20:43:40.859Z"
   },
   {
    "duration": 567,
    "start_time": "2021-11-12T20:44:40.860Z"
   },
   {
    "duration": 521,
    "start_time": "2021-11-12T20:45:15.820Z"
   },
   {
    "duration": 497,
    "start_time": "2021-11-12T20:45:20.602Z"
   },
   {
    "duration": 531,
    "start_time": "2021-11-12T20:45:36.700Z"
   },
   {
    "duration": 724,
    "start_time": "2021-11-12T20:46:09.198Z"
   },
   {
    "duration": 486,
    "start_time": "2021-11-12T20:46:32.077Z"
   },
   {
    "duration": 514,
    "start_time": "2021-11-12T20:46:39.085Z"
   },
   {
    "duration": 502,
    "start_time": "2021-11-12T20:46:50.125Z"
   },
   {
    "duration": 406,
    "start_time": "2021-11-12T20:47:20.580Z"
   },
   {
    "duration": 410,
    "start_time": "2021-11-12T20:47:32.846Z"
   },
   {
    "duration": 13,
    "start_time": "2021-11-12T20:48:06.429Z"
   },
   {
    "duration": 5,
    "start_time": "2021-11-12T20:50:08.286Z"
   },
   {
    "duration": 11,
    "start_time": "2021-11-12T20:50:37.936Z"
   },
   {
    "duration": 6,
    "start_time": "2021-11-12T20:51:09.216Z"
   },
   {
    "duration": 419,
    "start_time": "2021-11-12T20:51:25.648Z"
   },
   {
    "duration": 483,
    "start_time": "2021-11-12T20:51:39.632Z"
   },
   {
    "duration": 468,
    "start_time": "2021-11-12T20:51:52.592Z"
   },
   {
    "duration": 397,
    "start_time": "2021-11-12T20:51:59.649Z"
   },
   {
    "duration": 33,
    "start_time": "2021-11-12T20:52:35.249Z"
   },
   {
    "duration": 89,
    "start_time": "2021-11-12T20:53:27.396Z"
   },
   {
    "duration": 9,
    "start_time": "2021-11-12T20:53:31.489Z"
   },
   {
    "duration": 476,
    "start_time": "2021-11-12T20:54:34.435Z"
   },
   {
    "duration": 491,
    "start_time": "2021-11-12T20:54:49.378Z"
   },
   {
    "duration": 466,
    "start_time": "2021-11-12T20:55:20.995Z"
   },
   {
    "duration": 453,
    "start_time": "2021-11-12T20:55:28.595Z"
   },
   {
    "duration": 448,
    "start_time": "2021-11-12T20:55:40.820Z"
   },
   {
    "duration": 407,
    "start_time": "2021-11-12T20:55:59.331Z"
   },
   {
    "duration": 393,
    "start_time": "2021-11-12T20:56:36.660Z"
   },
   {
    "duration": 425,
    "start_time": "2021-11-12T20:56:46.500Z"
   },
   {
    "duration": 443,
    "start_time": "2021-11-12T20:56:50.388Z"
   },
   {
    "duration": 403,
    "start_time": "2021-11-12T20:56:58.565Z"
   },
   {
    "duration": 452,
    "start_time": "2021-11-12T20:57:51.077Z"
   },
   {
    "duration": 432,
    "start_time": "2021-11-12T20:57:57.061Z"
   },
   {
    "duration": 502,
    "start_time": "2021-11-12T20:58:04.389Z"
   },
   {
    "duration": 83,
    "start_time": "2021-11-12T21:01:07.928Z"
   },
   {
    "duration": 90,
    "start_time": "2021-11-12T21:02:47.881Z"
   },
   {
    "duration": 85,
    "start_time": "2021-11-12T21:03:41.610Z"
   },
   {
    "duration": 6,
    "start_time": "2021-11-12T21:04:51.435Z"
   },
   {
    "duration": 497,
    "start_time": "2021-11-12T21:06:41.308Z"
   },
   {
    "duration": 7,
    "start_time": "2021-11-12T21:07:30.108Z"
   },
   {
    "duration": 20,
    "start_time": "2021-11-12T21:10:00.414Z"
   },
   {
    "duration": 12,
    "start_time": "2021-11-12T21:10:08.862Z"
   },
   {
    "duration": 12,
    "start_time": "2021-11-12T21:10:19.134Z"
   },
   {
    "duration": 15,
    "start_time": "2021-11-12T21:10:33.966Z"
   },
   {
    "duration": 14,
    "start_time": "2021-11-12T21:10:43.230Z"
   },
   {
    "duration": 3,
    "start_time": "2021-11-12T21:19:17.604Z"
   },
   {
    "duration": 1350,
    "start_time": "2021-11-12T21:19:38.693Z"
   },
   {
    "duration": 1076,
    "start_time": "2021-11-12T21:19:57.093Z"
   },
   {
    "duration": 603,
    "start_time": "2021-11-12T21:20:14.805Z"
   },
   {
    "duration": 4,
    "start_time": "2021-11-12T21:20:41.989Z"
   },
   {
    "duration": 1194,
    "start_time": "2021-11-12T21:20:42.806Z"
   },
   {
    "duration": 281,
    "start_time": "2021-11-12T21:21:06.982Z"
   },
   {
    "duration": 521,
    "start_time": "2021-11-12T21:23:02.295Z"
   },
   {
    "duration": 1466,
    "start_time": "2021-11-12T21:28:03.227Z"
   },
   {
    "duration": 3,
    "start_time": "2021-11-12T21:28:26.668Z"
   },
   {
    "duration": 12,
    "start_time": "2021-11-12T21:28:27.323Z"
   },
   {
    "duration": 32,
    "start_time": "2021-11-12T21:28:42.252Z"
   },
   {
    "duration": 22,
    "start_time": "2021-11-12T21:29:11.164Z"
   },
   {
    "duration": 8,
    "start_time": "2021-11-12T21:29:42.204Z"
   },
   {
    "duration": 3,
    "start_time": "2021-11-12T21:31:11.037Z"
   },
   {
    "duration": 27,
    "start_time": "2021-11-12T21:31:13.118Z"
   },
   {
    "duration": 6,
    "start_time": "2021-11-12T21:31:27.949Z"
   },
   {
    "duration": 312,
    "start_time": "2021-11-12T21:32:23.518Z"
   },
   {
    "duration": 21,
    "start_time": "2021-11-12T21:32:34.687Z"
   },
   {
    "duration": 3,
    "start_time": "2021-11-12T21:33:36.079Z"
   },
   {
    "duration": 20,
    "start_time": "2021-11-12T21:33:37.487Z"
   },
   {
    "duration": 6,
    "start_time": "2021-11-12T21:33:47.967Z"
   },
   {
    "duration": 22,
    "start_time": "2021-11-12T21:33:51.503Z"
   },
   {
    "duration": 24,
    "start_time": "2021-11-12T21:33:56.031Z"
   },
   {
    "duration": 23,
    "start_time": "2021-11-12T21:34:01.359Z"
   },
   {
    "duration": 22,
    "start_time": "2021-11-12T21:34:08.112Z"
   },
   {
    "duration": 23,
    "start_time": "2021-11-12T21:34:15.167Z"
   },
   {
    "duration": 22,
    "start_time": "2021-11-12T21:34:21.232Z"
   },
   {
    "duration": 4,
    "start_time": "2021-11-12T21:35:06.432Z"
   },
   {
    "duration": 20,
    "start_time": "2021-11-12T21:35:07.168Z"
   },
   {
    "duration": 6,
    "start_time": "2021-11-12T21:35:08.000Z"
   },
   {
    "duration": 99,
    "start_time": "2021-11-12T21:35:10.080Z"
   },
   {
    "duration": 3,
    "start_time": "2021-11-12T21:36:04.369Z"
   },
   {
    "duration": 21,
    "start_time": "2021-11-12T21:36:04.881Z"
   },
   {
    "duration": 6,
    "start_time": "2021-11-12T21:36:05.793Z"
   },
   {
    "duration": 84,
    "start_time": "2021-11-12T21:36:06.929Z"
   },
   {
    "duration": 21,
    "start_time": "2021-11-12T21:36:17.842Z"
   },
   {
    "duration": 3,
    "start_time": "2021-11-12T21:36:26.097Z"
   },
   {
    "duration": 20,
    "start_time": "2021-11-12T21:36:26.612Z"
   },
   {
    "duration": 6,
    "start_time": "2021-11-12T21:36:27.185Z"
   },
   {
    "duration": 9,
    "start_time": "2021-11-12T21:36:29.696Z"
   },
   {
    "duration": 14,
    "start_time": "2021-11-12T21:38:16.230Z"
   },
   {
    "duration": 21,
    "start_time": "2021-11-12T21:38:59.092Z"
   },
   {
    "duration": 22,
    "start_time": "2021-11-12T21:39:30.084Z"
   },
   {
    "duration": 107,
    "start_time": "2021-11-12T21:39:45.236Z"
   },
   {
    "duration": 21,
    "start_time": "2021-11-12T21:39:50.660Z"
   },
   {
    "duration": 20,
    "start_time": "2021-11-12T21:41:33.398Z"
   },
   {
    "duration": 3,
    "start_time": "2021-11-12T21:43:22.967Z"
   },
   {
    "duration": 31,
    "start_time": "2021-11-12T21:43:23.670Z"
   },
   {
    "duration": 7,
    "start_time": "2021-11-12T21:43:24.534Z"
   },
   {
    "duration": 6,
    "start_time": "2021-11-12T21:43:57.240Z"
   },
   {
    "duration": 9,
    "start_time": "2021-11-12T21:45:25.608Z"
   },
   {
    "duration": 4,
    "start_time": "2021-11-12T21:45:35.304Z"
   },
   {
    "duration": 255,
    "start_time": "2021-11-12T21:46:20.904Z"
   },
   {
    "duration": 265,
    "start_time": "2021-11-12T21:46:34.777Z"
   },
   {
    "duration": 7,
    "start_time": "2021-11-12T21:46:47.881Z"
   },
   {
    "duration": 36,
    "start_time": "2021-11-12T21:51:06.878Z"
   },
   {
    "duration": 5,
    "start_time": "2021-11-12T21:51:36.098Z"
   },
   {
    "duration": 9,
    "start_time": "2021-11-12T21:51:56.204Z"
   },
   {
    "duration": 5,
    "start_time": "2021-11-12T21:52:21.501Z"
   },
   {
    "duration": 5,
    "start_time": "2021-11-12T21:52:46.142Z"
   },
   {
    "duration": 5,
    "start_time": "2021-11-12T21:52:54.381Z"
   },
   {
    "duration": 178,
    "start_time": "2021-11-12T21:55:01.343Z"
   },
   {
    "duration": 152,
    "start_time": "2021-11-12T21:56:18.672Z"
   },
   {
    "duration": 199,
    "start_time": "2021-11-12T21:56:22.543Z"
   },
   {
    "duration": 192,
    "start_time": "2021-11-12T21:56:36.464Z"
   },
   {
    "duration": 171,
    "start_time": "2021-11-12T21:56:41.583Z"
   },
   {
    "duration": 181,
    "start_time": "2021-11-12T21:57:50.289Z"
   },
   {
    "duration": 3,
    "start_time": "2021-11-12T21:59:29.841Z"
   },
   {
    "duration": 20,
    "start_time": "2021-11-12T21:59:30.322Z"
   },
   {
    "duration": 7,
    "start_time": "2021-11-12T21:59:30.994Z"
   },
   {
    "duration": 183,
    "start_time": "2021-11-12T21:59:33.041Z"
   },
   {
    "duration": 7,
    "start_time": "2021-11-12T22:01:17.651Z"
   },
   {
    "duration": 23,
    "start_time": "2021-11-12T22:04:18.197Z"
   },
   {
    "duration": 16,
    "start_time": "2021-11-12T22:04:30.214Z"
   },
   {
    "duration": 804,
    "start_time": "2021-11-12T22:05:44.487Z"
   },
   {
    "duration": 273,
    "start_time": "2021-11-12T22:06:09.462Z"
   },
   {
    "duration": 5,
    "start_time": "2021-11-12T22:06:12.726Z"
   },
   {
    "duration": 80014,
    "start_time": "2021-11-12T22:06:16.534Z"
   },
   {
    "duration": 3,
    "start_time": "2021-11-12T22:18:08.334Z"
   },
   {
    "duration": 55,
    "start_time": "2021-11-12T22:18:08.783Z"
   },
   {
    "duration": 13,
    "start_time": "2021-11-12T22:18:09.407Z"
   },
   {
    "duration": 11,
    "start_time": "2021-11-12T22:18:09.903Z"
   },
   {
    "duration": 9,
    "start_time": "2021-11-12T22:18:12.351Z"
   },
   {
    "duration": 10,
    "start_time": "2021-11-12T22:18:12.847Z"
   },
   {
    "duration": 22,
    "start_time": "2021-11-12T22:18:13.410Z"
   },
   {
    "duration": 3,
    "start_time": "2021-11-12T22:18:15.039Z"
   },
   {
    "duration": 3,
    "start_time": "2021-11-12T22:18:15.552Z"
   },
   {
    "duration": 20,
    "start_time": "2021-11-12T22:18:16.064Z"
   },
   {
    "duration": 201,
    "start_time": "2021-11-12T22:18:17.055Z"
   },
   {
    "duration": 159,
    "start_time": "2021-11-12T22:18:17.535Z"
   },
   {
    "duration": 5,
    "start_time": "2021-11-12T22:18:18.719Z"
   },
   {
    "duration": 10,
    "start_time": "2021-11-12T22:18:19.167Z"
   },
   {
    "duration": 8,
    "start_time": "2021-11-12T22:18:19.775Z"
   },
   {
    "duration": 328,
    "start_time": "2021-11-12T22:18:20.847Z"
   },
   {
    "duration": 449,
    "start_time": "2021-11-12T22:18:22.127Z"
   },
   {
    "duration": 14,
    "start_time": "2021-11-12T22:18:26.047Z"
   },
   {
    "duration": 13,
    "start_time": "2021-11-12T22:18:26.575Z"
   },
   {
    "duration": 12,
    "start_time": "2021-11-12T22:18:27.951Z"
   },
   {
    "duration": 12,
    "start_time": "2021-11-12T22:18:28.559Z"
   },
   {
    "duration": 187,
    "start_time": "2021-11-12T22:18:30.431Z"
   },
   {
    "duration": 90,
    "start_time": "2021-11-12T22:18:32.175Z"
   },
   {
    "duration": 21,
    "start_time": "2021-11-12T22:18:33.135Z"
   },
   {
    "duration": 21,
    "start_time": "2021-11-12T22:18:41.455Z"
   },
   {
    "duration": 3,
    "start_time": "2021-11-12T22:18:54.640Z"
   },
   {
    "duration": 24,
    "start_time": "2021-11-12T22:18:55.072Z"
   },
   {
    "duration": 4,
    "start_time": "2021-11-12T22:19:45.872Z"
   },
   {
    "duration": 24,
    "start_time": "2021-11-12T22:19:46.416Z"
   },
   {
    "duration": 8,
    "start_time": "2021-11-12T22:19:47.680Z"
   },
   {
    "duration": 7,
    "start_time": "2021-11-12T22:19:49.584Z"
   },
   {
    "duration": 8,
    "start_time": "2021-11-12T22:20:09.729Z"
   },
   {
    "duration": 16,
    "start_time": "2021-11-12T22:20:11.985Z"
   },
   {
    "duration": 15,
    "start_time": "2021-11-12T22:20:18.690Z"
   },
   {
    "duration": 104,
    "start_time": "2021-11-12T22:20:47.761Z"
   },
   {
    "duration": 2657,
    "start_time": "2021-11-12T22:20:50.913Z"
   },
   {
    "duration": 86,
    "start_time": "2021-11-12T22:20:59.681Z"
   },
   {
    "duration": 4,
    "start_time": "2021-11-12T22:21:03.249Z"
   },
   {
    "duration": 54,
    "start_time": "2021-11-12T22:21:18.194Z"
   },
   {
    "duration": 12,
    "start_time": "2021-11-12T22:21:27.314Z"
   },
   {
    "duration": 1807,
    "start_time": "2021-11-12T22:22:17.970Z"
   },
   {
    "duration": 88,
    "start_time": "2021-11-12T22:22:38.963Z"
   },
   {
    "duration": 13,
    "start_time": "2021-11-12T22:22:45.763Z"
   },
   {
    "duration": 11,
    "start_time": "2021-11-12T22:23:11.331Z"
   },
   {
    "duration": 19,
    "start_time": "2021-11-12T22:23:21.267Z"
   },
   {
    "duration": 11,
    "start_time": "2021-11-12T22:23:27.459Z"
   },
   {
    "duration": 9,
    "start_time": "2021-11-12T22:23:51.155Z"
   },
   {
    "duration": 6,
    "start_time": "2021-11-12T22:25:42.790Z"
   },
   {
    "duration": 7,
    "start_time": "2021-11-12T22:28:02.998Z"
   },
   {
    "duration": 87,
    "start_time": "2021-11-12T22:31:37.274Z"
   },
   {
    "duration": 4,
    "start_time": "2021-11-12T22:31:50.313Z"
   },
   {
    "duration": 4,
    "start_time": "2021-11-12T22:32:00.057Z"
   },
   {
    "duration": 7,
    "start_time": "2021-11-12T22:40:08.527Z"
   },
   {
    "duration": 6,
    "start_time": "2021-11-12T22:40:17.535Z"
   },
   {
    "duration": 20,
    "start_time": "2021-11-12T22:40:43.312Z"
   },
   {
    "duration": 5,
    "start_time": "2021-11-12T22:41:58.081Z"
   },
   {
    "duration": 6,
    "start_time": "2021-11-12T22:42:12.529Z"
   },
   {
    "duration": 1062,
    "start_time": "2021-11-13T09:46:02.553Z"
   },
   {
    "duration": 51,
    "start_time": "2021-11-13T09:46:03.616Z"
   },
   {
    "duration": 15,
    "start_time": "2021-11-13T09:46:04.697Z"
   },
   {
    "duration": 11,
    "start_time": "2021-11-13T09:46:05.321Z"
   },
   {
    "duration": 9,
    "start_time": "2021-11-13T09:46:08.247Z"
   },
   {
    "duration": 10,
    "start_time": "2021-11-13T09:46:08.809Z"
   },
   {
    "duration": 21,
    "start_time": "2021-11-13T09:46:09.433Z"
   },
   {
    "duration": 3,
    "start_time": "2021-11-13T09:46:11.992Z"
   },
   {
    "duration": 2,
    "start_time": "2021-11-13T09:46:12.684Z"
   },
   {
    "duration": 19,
    "start_time": "2021-11-13T09:46:13.224Z"
   },
   {
    "duration": 185,
    "start_time": "2021-11-13T09:46:14.328Z"
   },
   {
    "duration": 179,
    "start_time": "2021-11-13T09:46:14.920Z"
   },
   {
    "duration": 5,
    "start_time": "2021-11-13T09:46:16.104Z"
   },
   {
    "duration": 9,
    "start_time": "2021-11-13T09:46:16.649Z"
   },
   {
    "duration": 8,
    "start_time": "2021-11-13T09:46:17.225Z"
   },
   {
    "duration": 358,
    "start_time": "2021-11-13T09:46:18.458Z"
   },
   {
    "duration": 461,
    "start_time": "2021-11-13T09:46:20.152Z"
   },
   {
    "duration": 14,
    "start_time": "2021-11-13T09:46:23.464Z"
   },
   {
    "duration": 14,
    "start_time": "2021-11-13T09:46:23.928Z"
   },
   {
    "duration": 13,
    "start_time": "2021-11-13T09:46:24.472Z"
   },
   {
    "duration": 11,
    "start_time": "2021-11-13T09:46:25.113Z"
   },
   {
    "duration": 201,
    "start_time": "2021-11-13T09:46:26.792Z"
   },
   {
    "duration": 20,
    "start_time": "2021-11-13T09:46:28.120Z"
   },
   {
    "duration": 4,
    "start_time": "2021-11-13T09:46:29.945Z"
   },
   {
    "duration": 21,
    "start_time": "2021-11-13T09:46:30.524Z"
   },
   {
    "duration": 9,
    "start_time": "2021-11-13T09:46:31.113Z"
   },
   {
    "duration": 8,
    "start_time": "2021-11-13T09:46:32.392Z"
   },
   {
    "duration": 14,
    "start_time": "2021-11-13T09:46:33.032Z"
   },
   {
    "duration": 53,
    "start_time": "2021-11-13T09:46:33.624Z"
   },
   {
    "duration": 13,
    "start_time": "2021-11-13T09:46:34.232Z"
   },
   {
    "duration": 11,
    "start_time": "2021-11-13T09:46:34.696Z"
   },
   {
    "duration": 8,
    "start_time": "2021-11-13T09:46:35.977Z"
   },
   {
    "duration": 6,
    "start_time": "2021-11-13T09:46:37.976Z"
   },
   {
    "duration": 7,
    "start_time": "2021-11-13T09:46:42.535Z"
   },
   {
    "duration": 4,
    "start_time": "2021-11-13T09:56:20.487Z"
   },
   {
    "duration": 12,
    "start_time": "2021-11-13T09:56:29.876Z"
   },
   {
    "duration": 20,
    "start_time": "2021-11-13T09:57:51.457Z"
   },
   {
    "duration": 16,
    "start_time": "2021-11-13T10:02:29.813Z"
   },
   {
    "duration": 257,
    "start_time": "2021-11-13T10:03:07.125Z"
   },
   {
    "duration": 32,
    "start_time": "2021-11-13T10:03:48.118Z"
   },
   {
    "duration": 15,
    "start_time": "2021-11-13T10:07:07.521Z"
   },
   {
    "duration": 11,
    "start_time": "2021-11-13T10:09:33.451Z"
   },
   {
    "duration": 4,
    "start_time": "2021-11-13T10:14:34.078Z"
   },
   {
    "duration": 12,
    "start_time": "2021-11-13T10:14:43.406Z"
   },
   {
    "duration": 14,
    "start_time": "2021-11-13T10:15:06.958Z"
   },
   {
    "duration": 7,
    "start_time": "2021-11-13T10:15:33.238Z"
   },
   {
    "duration": 23,
    "start_time": "2021-11-13T10:17:45.617Z"
   },
   {
    "duration": 7,
    "start_time": "2021-11-13T10:41:19.297Z"
   },
   {
    "duration": 7,
    "start_time": "2021-11-13T10:41:43.889Z"
   },
   {
    "duration": 8,
    "start_time": "2021-11-13T10:42:20.161Z"
   },
   {
    "duration": 11,
    "start_time": "2021-11-13T10:42:57.810Z"
   },
   {
    "duration": 13,
    "start_time": "2021-11-13T10:43:23.714Z"
   },
   {
    "duration": 8,
    "start_time": "2021-11-13T10:43:44.755Z"
   },
   {
    "duration": 8,
    "start_time": "2021-11-13T10:43:58.130Z"
   },
   {
    "duration": 8,
    "start_time": "2021-11-13T10:44:17.618Z"
   },
   {
    "duration": 3,
    "start_time": "2021-11-13T10:45:54.996Z"
   },
   {
    "duration": 48,
    "start_time": "2021-11-13T10:45:55.331Z"
   },
   {
    "duration": 13,
    "start_time": "2021-11-13T10:45:55.691Z"
   },
   {
    "duration": 11,
    "start_time": "2021-11-13T10:45:56.003Z"
   },
   {
    "duration": 10,
    "start_time": "2021-11-13T10:45:57.603Z"
   },
   {
    "duration": 10,
    "start_time": "2021-11-13T10:45:57.923Z"
   },
   {
    "duration": 22,
    "start_time": "2021-11-13T10:45:58.243Z"
   },
   {
    "duration": 3,
    "start_time": "2021-11-13T10:45:59.235Z"
   },
   {
    "duration": 3,
    "start_time": "2021-11-13T10:45:59.619Z"
   },
   {
    "duration": 21,
    "start_time": "2021-11-13T10:45:59.987Z"
   },
   {
    "duration": 190,
    "start_time": "2021-11-13T10:46:00.646Z"
   },
   {
    "duration": 245,
    "start_time": "2021-11-13T10:46:01.002Z"
   },
   {
    "duration": 5,
    "start_time": "2021-11-13T10:46:01.667Z"
   },
   {
    "duration": 10,
    "start_time": "2021-11-13T10:46:01.987Z"
   },
   {
    "duration": 8,
    "start_time": "2021-11-13T10:46:02.307Z"
   },
   {
    "duration": 357,
    "start_time": "2021-11-13T10:46:02.995Z"
   },
   {
    "duration": 465,
    "start_time": "2021-11-13T10:46:03.731Z"
   },
   {
    "duration": 12,
    "start_time": "2021-11-13T10:46:04.788Z"
   },
   {
    "duration": 14,
    "start_time": "2021-11-13T10:46:05.203Z"
   },
   {
    "duration": 11,
    "start_time": "2021-11-13T10:46:05.541Z"
   },
   {
    "duration": 11,
    "start_time": "2021-11-13T10:46:05.924Z"
   },
   {
    "duration": 202,
    "start_time": "2021-11-13T10:46:07.012Z"
   },
   {
    "duration": 20,
    "start_time": "2021-11-13T10:46:07.796Z"
   },
   {
    "duration": 3,
    "start_time": "2021-11-13T10:46:09.092Z"
   },
   {
    "duration": 20,
    "start_time": "2021-11-13T10:46:09.476Z"
   },
   {
    "duration": 7,
    "start_time": "2021-11-13T10:46:09.876Z"
   },
   {
    "duration": 7,
    "start_time": "2021-11-13T10:46:10.723Z"
   },
   {
    "duration": 12,
    "start_time": "2021-11-13T10:46:11.172Z"
   },
   {
    "duration": 50,
    "start_time": "2021-11-13T10:46:11.572Z"
   },
   {
    "duration": 13,
    "start_time": "2021-11-13T10:46:12.020Z"
   },
   {
    "duration": 10,
    "start_time": "2021-11-13T10:46:12.404Z"
   },
   {
    "duration": 6,
    "start_time": "2021-11-13T10:46:13.253Z"
   },
   {
    "duration": 7,
    "start_time": "2021-11-13T10:46:14.195Z"
   },
   {
    "duration": 7,
    "start_time": "2021-11-13T10:46:15.955Z"
   },
   {
    "duration": 11,
    "start_time": "2021-11-13T10:46:16.340Z"
   },
   {
    "duration": 9,
    "start_time": "2021-11-13T10:46:16.804Z"
   },
   {
    "duration": 4,
    "start_time": "2021-11-13T10:46:19.171Z"
   },
   {
    "duration": 11,
    "start_time": "2021-11-13T10:46:19.604Z"
   },
   {
    "duration": 16,
    "start_time": "2021-11-13T10:46:21.860Z"
   },
   {
    "duration": 39,
    "start_time": "2021-11-13T10:46:50.053Z"
   },
   {
    "duration": 8,
    "start_time": "2021-11-13T10:46:55.924Z"
   },
   {
    "duration": 4,
    "start_time": "2021-11-13T10:48:45.893Z"
   },
   {
    "duration": 3,
    "start_time": "2021-11-13T10:49:04.069Z"
   },
   {
    "duration": 2,
    "start_time": "2021-11-13T10:49:46.999Z"
   },
   {
    "duration": 7,
    "start_time": "2021-11-13T10:52:30.200Z"
   },
   {
    "duration": 7,
    "start_time": "2021-11-13T10:52:35.897Z"
   },
   {
    "duration": 3,
    "start_time": "2021-11-13T11:33:22.823Z"
   },
   {
    "duration": 3,
    "start_time": "2021-11-13T11:33:23.285Z"
   },
   {
    "duration": 3270,
    "start_time": "2021-11-13T11:33:24.038Z"
   },
   {
    "duration": 23,
    "start_time": "2021-11-13T11:33:45.511Z"
   },
   {
    "duration": 3,
    "start_time": "2021-11-13T12:52:27.903Z"
   },
   {
    "duration": 3,
    "start_time": "2021-11-13T12:52:28.399Z"
   },
   {
    "duration": 15,
    "start_time": "2021-11-13T12:52:28.897Z"
   },
   {
    "duration": 23,
    "start_time": "2021-11-13T12:52:29.710Z"
   },
   {
    "duration": 3,
    "start_time": "2021-11-13T12:54:10.208Z"
   },
   {
    "duration": 16,
    "start_time": "2021-11-13T12:54:10.960Z"
   },
   {
    "duration": 20,
    "start_time": "2021-11-13T12:54:11.447Z"
   },
   {
    "duration": 12,
    "start_time": "2021-11-13T12:54:30.833Z"
   },
   {
    "duration": 7,
    "start_time": "2021-11-13T12:54:55.222Z"
   },
   {
    "duration": 3,
    "start_time": "2021-11-13T12:56:05.873Z"
   },
   {
    "duration": 48,
    "start_time": "2021-11-13T12:56:06.209Z"
   },
   {
    "duration": 13,
    "start_time": "2021-11-13T12:56:06.545Z"
   },
   {
    "duration": 11,
    "start_time": "2021-11-13T12:56:06.898Z"
   },
   {
    "duration": 9,
    "start_time": "2021-11-13T12:56:08.641Z"
   },
   {
    "duration": 9,
    "start_time": "2021-11-13T12:56:08.993Z"
   },
   {
    "duration": 22,
    "start_time": "2021-11-13T12:56:09.347Z"
   },
   {
    "duration": 3,
    "start_time": "2021-11-13T12:56:10.433Z"
   },
   {
    "duration": 2,
    "start_time": "2021-11-13T12:56:10.786Z"
   },
   {
    "duration": 20,
    "start_time": "2021-11-13T12:56:11.121Z"
   },
   {
    "duration": 184,
    "start_time": "2021-11-13T12:56:11.809Z"
   },
   {
    "duration": 172,
    "start_time": "2021-11-13T12:56:12.209Z"
   },
   {
    "duration": 5,
    "start_time": "2021-11-13T12:56:13.041Z"
   },
   {
    "duration": 10,
    "start_time": "2021-11-13T12:56:13.411Z"
   },
   {
    "duration": 8,
    "start_time": "2021-11-13T12:56:13.780Z"
   },
   {
    "duration": 422,
    "start_time": "2021-11-13T12:56:14.549Z"
   },
   {
    "duration": 445,
    "start_time": "2021-11-13T12:56:15.281Z"
   },
   {
    "duration": 14,
    "start_time": "2021-11-13T12:56:16.416Z"
   },
   {
    "duration": 14,
    "start_time": "2021-11-13T12:56:16.737Z"
   },
   {
    "duration": 12,
    "start_time": "2021-11-13T12:56:17.121Z"
   },
   {
    "duration": 12,
    "start_time": "2021-11-13T12:56:17.457Z"
   },
   {
    "duration": 272,
    "start_time": "2021-11-13T12:56:19.121Z"
   },
   {
    "duration": 22,
    "start_time": "2021-11-13T12:56:20.017Z"
   },
   {
    "duration": 4,
    "start_time": "2021-11-13T12:56:21.345Z"
   },
   {
    "duration": 21,
    "start_time": "2021-11-13T12:56:21.794Z"
   },
   {
    "duration": 9,
    "start_time": "2021-11-13T12:56:22.289Z"
   },
   {
    "duration": 7,
    "start_time": "2021-11-13T12:56:23.233Z"
   },
   {
    "duration": 16,
    "start_time": "2021-11-13T12:56:23.699Z"
   },
   {
    "duration": 52,
    "start_time": "2021-11-13T12:56:24.160Z"
   },
   {
    "duration": 13,
    "start_time": "2021-11-13T12:56:24.609Z"
   },
   {
    "duration": 9,
    "start_time": "2021-11-13T12:56:25.090Z"
   },
   {
    "duration": 7,
    "start_time": "2021-11-13T12:56:26.161Z"
   },
   {
    "duration": 6,
    "start_time": "2021-11-13T12:56:27.115Z"
   },
   {
    "duration": 7,
    "start_time": "2021-11-13T12:56:28.018Z"
   },
   {
    "duration": 11,
    "start_time": "2021-11-13T12:56:28.497Z"
   },
   {
    "duration": 8,
    "start_time": "2021-11-13T12:56:28.945Z"
   },
   {
    "duration": 4,
    "start_time": "2021-11-13T12:56:31.361Z"
   },
   {
    "duration": 12,
    "start_time": "2021-11-13T12:56:31.953Z"
   },
   {
    "duration": 16,
    "start_time": "2021-11-13T12:56:33.937Z"
   },
   {
    "duration": 14,
    "start_time": "2021-11-13T12:56:45.857Z"
   },
   {
    "duration": 31,
    "start_time": "2021-11-13T12:56:46.212Z"
   },
   {
    "duration": 7,
    "start_time": "2021-11-13T12:56:46.577Z"
   },
   {
    "duration": 21,
    "start_time": "2021-11-13T12:56:48.193Z"
   },
   {
    "duration": 2,
    "start_time": "2021-11-13T12:56:48.595Z"
   },
   {
    "duration": 3235,
    "start_time": "2021-11-13T12:56:48.980Z"
   },
   {
    "duration": 23,
    "start_time": "2021-11-13T12:56:52.218Z"
   },
   {
    "duration": 5,
    "start_time": "2021-11-13T12:56:52.243Z"
   },
   {
    "duration": 5,
    "start_time": "2021-11-13T12:56:52.249Z"
   },
   {
    "duration": 35,
    "start_time": "2021-11-13T12:56:52.256Z"
   },
   {
    "duration": 12,
    "start_time": "2021-11-13T12:56:52.293Z"
   },
   {
    "duration": 8,
    "start_time": "2021-11-13T12:56:53.377Z"
   },
   {
    "duration": 3,
    "start_time": "2021-11-13T12:57:47.571Z"
   },
   {
    "duration": 48,
    "start_time": "2021-11-13T12:57:47.938Z"
   },
   {
    "duration": 13,
    "start_time": "2021-11-13T12:57:48.243Z"
   },
   {
    "duration": 12,
    "start_time": "2021-11-13T12:57:48.562Z"
   },
   {
    "duration": 10,
    "start_time": "2021-11-13T12:57:50.258Z"
   },
   {
    "duration": 10,
    "start_time": "2021-11-13T12:57:50.594Z"
   },
   {
    "duration": 22,
    "start_time": "2021-11-13T12:57:50.914Z"
   },
   {
    "duration": 3,
    "start_time": "2021-11-13T12:57:52.017Z"
   },
   {
    "duration": 3,
    "start_time": "2021-11-13T12:57:52.482Z"
   },
   {
    "duration": 20,
    "start_time": "2021-11-13T12:57:52.963Z"
   },
   {
    "duration": 193,
    "start_time": "2021-11-13T12:57:53.585Z"
   },
   {
    "duration": 173,
    "start_time": "2021-11-13T12:57:53.955Z"
   },
   {
    "duration": 5,
    "start_time": "2021-11-13T12:57:54.753Z"
   },
   {
    "duration": 10,
    "start_time": "2021-11-13T12:57:55.122Z"
   },
   {
    "duration": 9,
    "start_time": "2021-11-13T12:57:55.474Z"
   },
   {
    "duration": 418,
    "start_time": "2021-11-13T12:57:56.341Z"
   },
   {
    "duration": 454,
    "start_time": "2021-11-13T12:57:57.058Z"
   },
   {
    "duration": 15,
    "start_time": "2021-11-13T12:57:58.385Z"
   },
   {
    "duration": 15,
    "start_time": "2021-11-13T12:57:58.898Z"
   },
   {
    "duration": 12,
    "start_time": "2021-11-13T12:57:59.362Z"
   },
   {
    "duration": 11,
    "start_time": "2021-11-13T12:57:59.842Z"
   },
   {
    "duration": 192,
    "start_time": "2021-11-13T12:58:01.122Z"
   },
   {
    "duration": 22,
    "start_time": "2021-11-13T12:58:02.051Z"
   },
   {
    "duration": 3,
    "start_time": "2021-11-13T12:58:03.346Z"
   },
   {
    "duration": 20,
    "start_time": "2021-11-13T12:58:03.747Z"
   },
   {
    "duration": 8,
    "start_time": "2021-11-13T12:58:04.194Z"
   },
   {
    "duration": 7,
    "start_time": "2021-11-13T12:58:05.010Z"
   },
   {
    "duration": 13,
    "start_time": "2021-11-13T12:58:05.458Z"
   },
   {
    "duration": 51,
    "start_time": "2021-11-13T12:58:05.890Z"
   },
   {
    "duration": 13,
    "start_time": "2021-11-13T12:58:06.306Z"
   },
   {
    "duration": 10,
    "start_time": "2021-11-13T12:58:06.754Z"
   },
   {
    "duration": 6,
    "start_time": "2021-11-13T12:58:07.618Z"
   },
   {
    "duration": 6,
    "start_time": "2021-11-13T12:58:08.482Z"
   },
   {
    "duration": 7,
    "start_time": "2021-11-13T12:58:09.378Z"
   },
   {
    "duration": 12,
    "start_time": "2021-11-13T12:58:09.810Z"
   },
   {
    "duration": 9,
    "start_time": "2021-11-13T12:58:10.242Z"
   },
   {
    "duration": 4,
    "start_time": "2021-11-13T12:58:14.002Z"
   },
   {
    "duration": 12,
    "start_time": "2021-11-13T12:58:14.418Z"
   },
   {
    "duration": 16,
    "start_time": "2021-11-13T12:58:16.146Z"
   },
   {
    "duration": 33,
    "start_time": "2021-11-13T12:58:16.578Z"
   },
   {
    "duration": 7,
    "start_time": "2021-11-13T12:58:16.994Z"
   },
   {
    "duration": 21,
    "start_time": "2021-11-13T12:58:18.900Z"
   },
   {
    "duration": 2,
    "start_time": "2021-11-13T12:58:19.347Z"
   },
   {
    "duration": 3414,
    "start_time": "2021-11-13T12:58:19.794Z"
   },
   {
    "duration": 26,
    "start_time": "2021-11-13T12:58:23.210Z"
   },
   {
    "duration": 7,
    "start_time": "2021-11-13T12:58:23.238Z"
   },
   {
    "duration": 7,
    "start_time": "2021-11-13T12:58:23.246Z"
   },
   {
    "duration": 21,
    "start_time": "2021-11-13T12:58:23.254Z"
   },
   {
    "duration": 24,
    "start_time": "2021-11-13T12:58:23.277Z"
   },
   {
    "duration": 13,
    "start_time": "2021-11-13T12:58:23.303Z"
   },
   {
    "duration": 18,
    "start_time": "2021-11-13T13:00:23.668Z"
   },
   {
    "duration": 14,
    "start_time": "2021-11-13T13:00:28.340Z"
   },
   {
    "duration": 36,
    "start_time": "2021-11-13T13:01:28.469Z"
   },
   {
    "duration": 25,
    "start_time": "2021-11-13T13:02:05.062Z"
   },
   {
    "duration": 1340,
    "start_time": "2021-11-13T13:26:16.168Z"
   },
   {
    "duration": 12,
    "start_time": "2021-11-13T13:26:23.432Z"
   },
   {
    "duration": 12,
    "start_time": "2021-11-13T13:27:05.640Z"
   },
   {
    "duration": 7,
    "start_time": "2021-11-13T13:27:28.729Z"
   },
   {
    "duration": 6,
    "start_time": "2021-11-13T13:27:39.625Z"
   },
   {
    "duration": 7,
    "start_time": "2021-11-13T13:28:07.484Z"
   },
   {
    "duration": 6,
    "start_time": "2021-11-13T13:28:16.105Z"
   },
   {
    "duration": 4,
    "start_time": "2021-11-13T13:32:00.668Z"
   },
   {
    "duration": 5,
    "start_time": "2021-11-13T13:32:47.648Z"
   },
   {
    "duration": 11,
    "start_time": "2021-11-13T13:32:55.580Z"
   },
   {
    "duration": 14,
    "start_time": "2021-11-13T13:34:56.338Z"
   },
   {
    "duration": 12,
    "start_time": "2021-11-13T13:35:01.550Z"
   },
   {
    "duration": 268,
    "start_time": "2021-11-13T13:35:47.214Z"
   },
   {
    "duration": 198,
    "start_time": "2021-11-13T13:35:55.679Z"
   },
   {
    "duration": 486,
    "start_time": "2021-11-13T13:36:11.985Z"
   },
   {
    "duration": 197,
    "start_time": "2021-11-13T13:37:06.113Z"
   },
   {
    "duration": 179,
    "start_time": "2021-11-13T13:37:13.280Z"
   },
   {
    "duration": 187,
    "start_time": "2021-11-13T13:37:21.711Z"
   },
   {
    "duration": 10,
    "start_time": "2021-11-13T13:37:29.264Z"
   },
   {
    "duration": 4,
    "start_time": "2021-11-13T13:38:04.772Z"
   },
   {
    "duration": 4,
    "start_time": "2021-11-13T13:38:16.784Z"
   },
   {
    "duration": 7,
    "start_time": "2021-11-13T13:38:35.377Z"
   },
   {
    "duration": 4,
    "start_time": "2021-11-13T13:38:58.017Z"
   },
   {
    "duration": 6,
    "start_time": "2021-11-13T13:39:23.970Z"
   },
   {
    "duration": 69,
    "start_time": "2021-11-13T13:42:52.198Z"
   },
   {
    "duration": 186,
    "start_time": "2021-11-13T13:43:15.547Z"
   },
   {
    "duration": 185,
    "start_time": "2021-11-13T13:43:24.532Z"
   },
   {
    "duration": 197,
    "start_time": "2021-11-13T13:43:37.188Z"
   },
   {
    "duration": 65,
    "start_time": "2021-11-13T13:43:51.509Z"
   },
   {
    "duration": 188,
    "start_time": "2021-11-13T13:44:20.549Z"
   },
   {
    "duration": 11,
    "start_time": "2021-11-13T13:45:19.957Z"
   },
   {
    "duration": 10,
    "start_time": "2021-11-13T13:46:33.158Z"
   },
   {
    "duration": 212,
    "start_time": "2021-11-13T13:49:37.342Z"
   },
   {
    "duration": 200,
    "start_time": "2021-11-13T13:51:28.282Z"
   },
   {
    "duration": 7,
    "start_time": "2021-11-13T13:51:32.538Z"
   },
   {
    "duration": 4,
    "start_time": "2021-11-13T13:51:33.546Z"
   },
   {
    "duration": 8,
    "start_time": "2021-11-13T13:51:40.427Z"
   },
   {
    "duration": 9,
    "start_time": "2021-11-13T13:51:51.722Z"
   },
   {
    "duration": 4,
    "start_time": "2021-11-13T13:52:34.363Z"
   },
   {
    "duration": 9,
    "start_time": "2021-11-13T13:52:39.355Z"
   },
   {
    "duration": 4,
    "start_time": "2021-11-13T13:52:44.138Z"
   },
   {
    "duration": 8,
    "start_time": "2021-11-13T13:52:44.538Z"
   },
   {
    "duration": 4,
    "start_time": "2021-11-13T13:53:11.293Z"
   },
   {
    "duration": 6,
    "start_time": "2021-11-13T14:15:43.382Z"
   },
   {
    "duration": 190,
    "start_time": "2021-11-13T14:18:46.572Z"
   },
   {
    "duration": 3,
    "start_time": "2021-11-13T14:18:50.541Z"
   },
   {
    "duration": 7,
    "start_time": "2021-11-13T14:18:51.372Z"
   },
   {
    "duration": 7,
    "start_time": "2021-11-13T14:18:55.596Z"
   },
   {
    "duration": 9,
    "start_time": "2021-11-13T14:18:57.572Z"
   },
   {
    "duration": 186,
    "start_time": "2021-11-13T14:19:07.708Z"
   },
   {
    "duration": 10,
    "start_time": "2021-11-13T14:19:32.701Z"
   },
   {
    "duration": 9,
    "start_time": "2021-11-13T14:19:33.534Z"
   },
   {
    "duration": 9,
    "start_time": "2021-11-13T14:19:51.518Z"
   },
   {
    "duration": 3,
    "start_time": "2021-11-13T14:20:24.286Z"
   },
   {
    "duration": 7,
    "start_time": "2021-11-13T14:20:24.846Z"
   },
   {
    "duration": 8,
    "start_time": "2021-11-13T14:20:25.310Z"
   },
   {
    "duration": 8,
    "start_time": "2021-11-13T14:20:25.854Z"
   },
   {
    "duration": 4,
    "start_time": "2021-11-13T14:20:26.766Z"
   },
   {
    "duration": 8,
    "start_time": "2021-11-13T14:20:31.934Z"
   },
   {
    "duration": 4,
    "start_time": "2021-11-13T14:21:08.654Z"
   },
   {
    "duration": 9,
    "start_time": "2021-11-13T14:23:06.066Z"
   },
   {
    "duration": 4,
    "start_time": "2021-11-13T14:24:23.250Z"
   },
   {
    "duration": 61,
    "start_time": "2021-11-13T14:27:58.019Z"
   },
   {
    "duration": 3,
    "start_time": "2021-11-13T14:28:03.251Z"
   },
   {
    "duration": 5,
    "start_time": "2021-11-13T14:30:56.294Z"
   },
   {
    "duration": 9,
    "start_time": "2021-11-13T14:30:57.163Z"
   },
   {
    "duration": 7,
    "start_time": "2021-11-13T14:31:26.007Z"
   },
   {
    "duration": 6,
    "start_time": "2021-11-13T14:31:34.838Z"
   },
   {
    "duration": 8,
    "start_time": "2021-11-13T14:36:31.339Z"
   },
   {
    "duration": 6,
    "start_time": "2021-11-13T14:36:31.840Z"
   },
   {
    "duration": 9,
    "start_time": "2021-11-13T14:36:32.617Z"
   },
   {
    "duration": 4,
    "start_time": "2021-11-13T14:36:33.353Z"
   },
   {
    "duration": 8,
    "start_time": "2021-11-13T14:36:43.385Z"
   },
   {
    "duration": 6,
    "start_time": "2021-11-13T14:37:18.714Z"
   },
   {
    "duration": 4,
    "start_time": "2021-11-13T14:46:48.721Z"
   },
   {
    "duration": 16,
    "start_time": "2021-11-13T14:54:37.766Z"
   },
   {
    "duration": 7,
    "start_time": "2021-11-13T14:55:26.712Z"
   },
   {
    "duration": 9,
    "start_time": "2021-11-13T14:55:27.239Z"
   },
   {
    "duration": 4,
    "start_time": "2021-11-13T14:55:27.960Z"
   },
   {
    "duration": 9,
    "start_time": "2021-11-13T14:55:28.567Z"
   },
   {
    "duration": 15,
    "start_time": "2021-11-13T14:55:30.110Z"
   },
   {
    "duration": 8,
    "start_time": "2021-11-13T14:56:37.582Z"
   },
   {
    "duration": 4,
    "start_time": "2021-11-13T14:56:48.968Z"
   },
   {
    "duration": 7,
    "start_time": "2021-11-13T14:56:51.736Z"
   },
   {
    "duration": 204,
    "start_time": "2021-11-13T15:44:22.347Z"
   },
   {
    "duration": 9,
    "start_time": "2021-11-13T15:44:31.163Z"
   },
   {
    "duration": 9,
    "start_time": "2021-11-13T15:47:00.156Z"
   },
   {
    "duration": 64,
    "start_time": "2021-11-13T15:47:17.724Z"
   },
   {
    "duration": 59,
    "start_time": "2021-11-13T15:47:23.677Z"
   },
   {
    "duration": 4,
    "start_time": "2021-11-13T15:47:27.517Z"
   },
   {
    "duration": 9,
    "start_time": "2021-11-13T15:48:46.926Z"
   },
   {
    "duration": 177,
    "start_time": "2021-11-13T15:50:18.031Z"
   },
   {
    "duration": 3,
    "start_time": "2021-11-13T15:52:29.968Z"
   },
   {
    "duration": 12,
    "start_time": "2021-11-13T15:53:12.896Z"
   },
   {
    "duration": 5,
    "start_time": "2021-11-13T15:53:28.866Z"
   },
   {
    "duration": 5,
    "start_time": "2021-11-13T15:53:43.330Z"
   },
   {
    "duration": 3,
    "start_time": "2021-11-13T15:54:13.089Z"
   },
   {
    "duration": 14,
    "start_time": "2021-11-13T15:54:13.633Z"
   },
   {
    "duration": 6,
    "start_time": "2021-11-13T15:54:14.081Z"
   },
   {
    "duration": 3,
    "start_time": "2021-11-13T15:54:58.450Z"
   },
   {
    "duration": 14,
    "start_time": "2021-11-13T15:54:58.905Z"
   },
   {
    "duration": 6,
    "start_time": "2021-11-13T15:54:59.305Z"
   },
   {
    "duration": 13,
    "start_time": "2021-11-13T15:55:12.642Z"
   },
   {
    "duration": 14,
    "start_time": "2021-11-13T15:55:13.233Z"
   },
   {
    "duration": 6,
    "start_time": "2021-11-13T15:55:13.891Z"
   },
   {
    "duration": 3,
    "start_time": "2021-11-13T15:56:02.723Z"
   },
   {
    "duration": 12,
    "start_time": "2021-11-13T15:56:03.139Z"
   },
   {
    "duration": 6,
    "start_time": "2021-11-13T15:56:03.634Z"
   },
   {
    "duration": 3,
    "start_time": "2021-11-13T15:57:02.148Z"
   },
   {
    "duration": 13,
    "start_time": "2021-11-13T15:57:02.739Z"
   },
   {
    "duration": 7,
    "start_time": "2021-11-13T15:57:03.139Z"
   },
   {
    "duration": 3,
    "start_time": "2021-11-13T15:57:46.837Z"
   },
   {
    "duration": 13,
    "start_time": "2021-11-13T15:57:47.364Z"
   },
   {
    "duration": 6,
    "start_time": "2021-11-13T15:57:47.908Z"
   },
   {
    "duration": 3,
    "start_time": "2021-11-13T15:58:09.652Z"
   },
   {
    "duration": 3,
    "start_time": "2021-11-13T15:58:15.924Z"
   },
   {
    "duration": 14,
    "start_time": "2021-11-13T15:58:16.404Z"
   },
   {
    "duration": 7,
    "start_time": "2021-11-13T15:58:16.868Z"
   },
   {
    "duration": 4,
    "start_time": "2021-11-13T15:59:00.153Z"
   },
   {
    "duration": 15,
    "start_time": "2021-11-13T15:59:00.612Z"
   },
   {
    "duration": 6,
    "start_time": "2021-11-13T15:59:01.140Z"
   },
   {
    "duration": 3,
    "start_time": "2021-11-13T15:59:39.014Z"
   },
   {
    "duration": 14,
    "start_time": "2021-11-13T15:59:39.573Z"
   },
   {
    "duration": 6,
    "start_time": "2021-11-13T15:59:40.022Z"
   },
   {
    "duration": 4,
    "start_time": "2021-11-13T16:00:01.669Z"
   },
   {
    "duration": 14,
    "start_time": "2021-11-13T16:00:02.326Z"
   },
   {
    "duration": 6,
    "start_time": "2021-11-13T16:00:02.790Z"
   },
   {
    "duration": 5,
    "start_time": "2021-11-13T16:02:54.185Z"
   },
   {
    "duration": 7,
    "start_time": "2021-11-13T16:03:05.400Z"
   },
   {
    "duration": 11,
    "start_time": "2021-11-13T16:03:07.304Z"
   },
   {
    "duration": 6,
    "start_time": "2021-11-13T16:03:25.179Z"
   },
   {
    "duration": 10,
    "start_time": "2021-11-13T16:03:26.376Z"
   },
   {
    "duration": 16,
    "start_time": "2021-11-13T16:03:35.992Z"
   },
   {
    "duration": 11,
    "start_time": "2021-11-13T16:03:36.440Z"
   },
   {
    "duration": 5,
    "start_time": "2021-11-13T16:03:36.888Z"
   },
   {
    "duration": 7,
    "start_time": "2021-11-13T16:04:09.240Z"
   },
   {
    "duration": 8,
    "start_time": "2021-11-13T16:04:09.721Z"
   },
   {
    "duration": 4,
    "start_time": "2021-11-13T16:04:10.328Z"
   },
   {
    "duration": 8,
    "start_time": "2021-11-13T16:04:16.744Z"
   },
   {
    "duration": 457,
    "start_time": "2021-11-13T16:05:16.186Z"
   },
   {
    "duration": 466,
    "start_time": "2021-11-13T16:07:56.685Z"
   },
   {
    "duration": 188,
    "start_time": "2021-11-13T16:07:57.372Z"
   },
   {
    "duration": 193,
    "start_time": "2021-11-13T16:49:24.441Z"
   },
   {
    "duration": 596,
    "start_time": "2021-11-13T16:49:35.273Z"
   },
   {
    "duration": 204,
    "start_time": "2021-11-13T17:30:17.719Z"
   },
   {
    "duration": 255,
    "start_time": "2021-11-13T17:30:29.799Z"
   },
   {
    "duration": 345,
    "start_time": "2021-11-13T17:31:32.344Z"
   },
   {
    "duration": 186,
    "start_time": "2021-11-13T17:33:06.922Z"
   },
   {
    "duration": 1247,
    "start_time": "2021-11-13T17:33:20.488Z"
   },
   {
    "duration": 218,
    "start_time": "2021-11-13T17:33:38.089Z"
   },
   {
    "duration": 189,
    "start_time": "2021-11-13T17:33:46.937Z"
   },
   {
    "duration": 1273,
    "start_time": "2021-11-13T17:34:08.334Z"
   },
   {
    "duration": 8,
    "start_time": "2021-11-13T17:34:43.401Z"
   },
   {
    "duration": 1049,
    "start_time": "2021-11-13T17:34:57.466Z"
   },
   {
    "duration": 57,
    "start_time": "2021-11-13T17:35:58.796Z"
   },
   {
    "duration": 933,
    "start_time": "2021-11-13T17:36:05.242Z"
   },
   {
    "duration": 115382,
    "start_time": "2021-11-13T17:36:21.579Z"
   },
   {
    "duration": 3,
    "start_time": "2021-11-13T21:38:42.842Z"
   },
   {
    "duration": 51,
    "start_time": "2021-11-13T21:38:43.207Z"
   },
   {
    "duration": 13,
    "start_time": "2021-11-13T21:38:43.600Z"
   },
   {
    "duration": 16,
    "start_time": "2021-11-13T21:38:44.200Z"
   },
   {
    "duration": 14,
    "start_time": "2021-11-13T21:38:46.728Z"
   },
   {
    "duration": 11,
    "start_time": "2021-11-13T21:38:47.176Z"
   },
   {
    "duration": 6,
    "start_time": "2021-11-13T21:38:47.656Z"
   },
   {
    "duration": 6,
    "start_time": "2021-11-13T21:39:43.695Z"
   },
   {
    "duration": 6,
    "start_time": "2021-11-13T21:39:51.929Z"
   },
   {
    "duration": 7,
    "start_time": "2021-11-13T21:40:11.209Z"
   },
   {
    "duration": 188,
    "start_time": "2021-11-13T21:40:25.321Z"
   },
   {
    "duration": 214,
    "start_time": "2021-11-13T21:40:39.497Z"
   },
   {
    "duration": 39779,
    "start_time": "2021-11-13T21:40:56.457Z"
   },
   {
    "duration": 193,
    "start_time": "2021-11-13T21:41:42.298Z"
   },
   {
    "duration": 2198,
    "start_time": "2021-11-13T21:41:45.418Z"
   },
   {
    "duration": 181,
    "start_time": "2021-11-13T21:42:20.971Z"
   },
   {
    "duration": 185,
    "start_time": "2021-11-13T21:42:24.044Z"
   },
   {
    "duration": 79323,
    "start_time": "2021-11-13T21:42:41.723Z"
   },
   {
    "duration": 891,
    "start_time": "2021-11-13T21:44:00.159Z"
   },
   {
    "duration": 2,
    "start_time": "2021-11-13T21:44:10.076Z"
   },
   {
    "duration": 51,
    "start_time": "2021-11-13T21:44:10.396Z"
   },
   {
    "duration": 13,
    "start_time": "2021-11-13T21:44:10.755Z"
   },
   {
    "duration": 10,
    "start_time": "2021-11-13T21:44:11.148Z"
   },
   {
    "duration": 10,
    "start_time": "2021-11-13T21:44:13.243Z"
   },
   {
    "duration": 9,
    "start_time": "2021-11-13T21:44:13.692Z"
   },
   {
    "duration": 6,
    "start_time": "2021-11-13T21:44:14.139Z"
   },
   {
    "duration": 6,
    "start_time": "2021-11-13T21:44:15.259Z"
   },
   {
    "duration": 7,
    "start_time": "2021-11-13T21:44:16.157Z"
   },
   {
    "duration": 7,
    "start_time": "2021-11-13T21:44:32.317Z"
   },
   {
    "duration": 6,
    "start_time": "2021-11-13T21:44:34.461Z"
   },
   {
    "duration": 6,
    "start_time": "2021-11-13T21:44:53.533Z"
   },
   {
    "duration": 7,
    "start_time": "2021-11-13T21:44:57.709Z"
   },
   {
    "duration": 6,
    "start_time": "2021-11-13T21:45:25.197Z"
   },
   {
    "duration": 20,
    "start_time": "2021-11-13T21:47:36.015Z"
   },
   {
    "duration": 25,
    "start_time": "2021-11-13T21:47:47.327Z"
   },
   {
    "duration": 224,
    "start_time": "2021-11-13T21:48:10.175Z"
   },
   {
    "duration": 66,
    "start_time": "2021-11-13T21:48:54.719Z"
   },
   {
    "duration": 26,
    "start_time": "2021-11-13T21:49:22.464Z"
   },
   {
    "duration": 24,
    "start_time": "2021-11-13T21:50:59.201Z"
   },
   {
    "duration": 26,
    "start_time": "2021-11-13T21:51:12.017Z"
   },
   {
    "duration": 8,
    "start_time": "2021-11-13T21:52:02.465Z"
   },
   {
    "duration": 6,
    "start_time": "2021-11-13T21:53:02.761Z"
   },
   {
    "duration": 7,
    "start_time": "2021-11-13T21:53:20.819Z"
   },
   {
    "duration": 14,
    "start_time": "2021-11-13T21:53:57.492Z"
   },
   {
    "duration": 13,
    "start_time": "2021-11-13T21:54:29.924Z"
   },
   {
    "duration": 12,
    "start_time": "2021-11-13T21:54:47.813Z"
   },
   {
    "duration": 13,
    "start_time": "2021-11-13T21:55:09.157Z"
   },
   {
    "duration": 13,
    "start_time": "2021-11-13T21:55:36.292Z"
   },
   {
    "duration": 6,
    "start_time": "2021-11-13T21:56:01.143Z"
   },
   {
    "duration": 32,
    "start_time": "2021-11-13T21:58:21.111Z"
   },
   {
    "duration": 64,
    "start_time": "2021-11-13T22:03:00.459Z"
   },
   {
    "duration": 14,
    "start_time": "2021-11-13T22:05:35.709Z"
   },
   {
    "duration": 20,
    "start_time": "2021-11-13T22:16:18.643Z"
   },
   {
    "duration": 22,
    "start_time": "2021-11-13T22:16:21.203Z"
   },
   {
    "duration": 7,
    "start_time": "2021-11-13T22:17:42.612Z"
   },
   {
    "duration": 20,
    "start_time": "2021-11-13T22:20:58.766Z"
   },
   {
    "duration": 8,
    "start_time": "2021-11-13T22:21:49.449Z"
   },
   {
    "duration": 50,
    "start_time": "2021-11-13T22:23:44.697Z"
   },
   {
    "duration": 12,
    "start_time": "2021-11-13T22:24:02.857Z"
   },
   {
    "duration": 10,
    "start_time": "2021-11-13T22:37:30.163Z"
   },
   {
    "duration": 7,
    "start_time": "2021-11-13T22:46:13.306Z"
   },
   {
    "duration": 8,
    "start_time": "2021-11-13T22:55:12.862Z"
   },
   {
    "duration": 4,
    "start_time": "2021-11-13T22:58:21.666Z"
   },
   {
    "duration": 12,
    "start_time": "2021-11-13T22:58:22.402Z"
   },
   {
    "duration": 8,
    "start_time": "2021-11-13T22:58:23.041Z"
   },
   {
    "duration": 9,
    "start_time": "2021-11-13T22:58:45.953Z"
   },
   {
    "duration": 4,
    "start_time": "2021-11-13T22:58:46.440Z"
   },
   {
    "duration": 4,
    "start_time": "2021-11-13T22:58:47.026Z"
   },
   {
    "duration": 8,
    "start_time": "2021-11-13T22:58:47.634Z"
   },
   {
    "duration": 8,
    "start_time": "2021-11-13T22:58:55.426Z"
   },
   {
    "duration": 10,
    "start_time": "2021-11-13T22:58:57.329Z"
   },
   {
    "duration": 9,
    "start_time": "2021-11-13T22:59:08.438Z"
   },
   {
    "duration": 4,
    "start_time": "2021-11-13T22:59:08.898Z"
   },
   {
    "duration": 4,
    "start_time": "2021-11-13T22:59:09.282Z"
   },
   {
    "duration": 8,
    "start_time": "2021-11-13T22:59:09.762Z"
   },
   {
    "duration": 3,
    "start_time": "2021-11-13T23:04:43.735Z"
   },
   {
    "duration": 8,
    "start_time": "2021-11-13T23:04:50.951Z"
   },
   {
    "duration": 4,
    "start_time": "2021-11-13T23:05:55.127Z"
   },
   {
    "duration": 5652,
    "start_time": "2021-11-13T23:09:24.618Z"
   },
   {
    "duration": 6579,
    "start_time": "2021-11-13T23:10:01.180Z"
   },
   {
    "duration": 7,
    "start_time": "2021-11-13T23:10:37.905Z"
   },
   {
    "duration": 4643,
    "start_time": "2021-11-13T23:10:41.242Z"
   },
   {
    "duration": 5436,
    "start_time": "2021-11-13T23:11:07.915Z"
   },
   {
    "duration": 5559,
    "start_time": "2021-11-13T23:11:33.339Z"
   },
   {
    "duration": 4888,
    "start_time": "2021-11-13T23:12:07.852Z"
   },
   {
    "duration": 5,
    "start_time": "2021-11-13T23:12:19.515Z"
   },
   {
    "duration": 193,
    "start_time": "2021-11-13T23:13:04.781Z"
   },
   {
    "duration": 338,
    "start_time": "2021-11-13T23:13:15.699Z"
   },
   {
    "duration": 9,
    "start_time": "2021-11-13T23:13:48.348Z"
   },
   {
    "duration": 5,
    "start_time": "2021-11-13T23:14:05.885Z"
   },
   {
    "duration": 5,
    "start_time": "2021-11-13T23:14:27.165Z"
   },
   {
    "duration": 6,
    "start_time": "2021-11-13T23:14:47.886Z"
   },
   {
    "duration": 1341,
    "start_time": "2021-11-13T23:15:20.862Z"
   },
   {
    "duration": 4,
    "start_time": "2021-11-13T23:16:04.847Z"
   },
   {
    "duration": 4,
    "start_time": "2021-11-13T23:16:28.382Z"
   },
   {
    "duration": 5,
    "start_time": "2021-11-13T23:16:32.350Z"
   },
   {
    "duration": 5,
    "start_time": "2021-11-13T23:17:34.883Z"
   },
   {
    "duration": 3,
    "start_time": "2021-11-14T14:11:35.449Z"
   },
   {
    "duration": 51,
    "start_time": "2021-11-14T14:11:40.882Z"
   },
   {
    "duration": 13,
    "start_time": "2021-11-14T14:11:43.241Z"
   },
   {
    "duration": 2,
    "start_time": "2021-11-14T14:14:03.707Z"
   },
   {
    "duration": 3,
    "start_time": "2021-11-14T14:14:23.588Z"
   },
   {
    "duration": 3,
    "start_time": "2021-11-14T14:14:33.781Z"
   },
   {
    "duration": 2,
    "start_time": "2021-11-14T14:14:44.997Z"
   },
   {
    "duration": 50,
    "start_time": "2021-11-14T14:14:45.606Z"
   },
   {
    "duration": 13,
    "start_time": "2021-11-14T14:14:46.453Z"
   },
   {
    "duration": 11,
    "start_time": "2021-11-14T14:15:05.637Z"
   },
   {
    "duration": 7,
    "start_time": "2021-11-14T15:24:51.245Z"
   },
   {
    "duration": 7,
    "start_time": "2021-11-14T15:25:20.629Z"
   },
   {
    "duration": 35,
    "start_time": "2021-11-14T15:27:06.506Z"
   },
   {
    "duration": 12,
    "start_time": "2021-11-14T15:28:28.882Z"
   },
   {
    "duration": 3,
    "start_time": "2021-11-14T15:29:28.282Z"
   },
   {
    "duration": 3,
    "start_time": "2021-11-14T15:29:35.434Z"
   },
   {
    "duration": 2,
    "start_time": "2021-11-14T15:30:14.459Z"
   },
   {
    "duration": 21,
    "start_time": "2021-11-14T15:30:43.787Z"
   },
   {
    "duration": 5,
    "start_time": "2021-11-14T15:32:14.476Z"
   },
   {
    "duration": 11,
    "start_time": "2021-11-14T15:34:16.829Z"
   },
   {
    "duration": 8,
    "start_time": "2021-11-14T15:34:17.759Z"
   },
   {
    "duration": 367,
    "start_time": "2021-11-14T15:34:19.277Z"
   },
   {
    "duration": 468,
    "start_time": "2021-11-14T15:35:38.447Z"
   },
   {
    "duration": 13,
    "start_time": "2021-11-14T15:38:22.753Z"
   },
   {
    "duration": 13,
    "start_time": "2021-11-14T15:38:43.841Z"
   },
   {
    "duration": 15,
    "start_time": "2021-11-14T15:38:44.193Z"
   },
   {
    "duration": 12,
    "start_time": "2021-11-14T15:38:44.577Z"
   },
   {
    "duration": 12,
    "start_time": "2021-11-14T15:38:46.306Z"
   },
   {
    "duration": 13,
    "start_time": "2021-11-14T15:39:54.946Z"
   },
   {
    "duration": 13,
    "start_time": "2021-11-14T15:40:39.267Z"
   },
   {
    "duration": 11,
    "start_time": "2021-11-14T15:40:43.411Z"
   },
   {
    "duration": 203,
    "start_time": "2021-11-14T15:41:17.970Z"
   },
   {
    "duration": 22,
    "start_time": "2021-11-14T15:41:46.915Z"
   },
   {
    "duration": 8,
    "start_time": "2021-11-14T15:41:48.803Z"
   },
   {
    "duration": 3,
    "start_time": "2021-11-14T15:42:25.923Z"
   },
   {
    "duration": 4,
    "start_time": "2021-11-14T15:42:51.108Z"
   },
   {
    "duration": 22,
    "start_time": "2021-11-14T15:42:55.924Z"
   },
   {
    "duration": 9,
    "start_time": "2021-11-14T15:43:00.373Z"
   },
   {
    "duration": 14,
    "start_time": "2021-11-14T15:43:09.268Z"
   },
   {
    "duration": 51,
    "start_time": "2021-11-14T15:43:27.668Z"
   },
   {
    "duration": 73,
    "start_time": "2021-11-14T15:43:36.372Z"
   },
   {
    "duration": 13,
    "start_time": "2021-11-14T15:43:43.765Z"
   },
   {
    "duration": 14,
    "start_time": "2021-11-14T15:43:51.717Z"
   },
   {
    "duration": 10,
    "start_time": "2021-11-14T15:43:56.420Z"
   },
   {
    "duration": 7,
    "start_time": "2021-11-14T15:44:07.157Z"
   },
   {
    "duration": 7,
    "start_time": "2021-11-14T15:44:54.998Z"
   },
   {
    "duration": 8,
    "start_time": "2021-11-14T15:45:15.541Z"
   },
   {
    "duration": 11,
    "start_time": "2021-11-14T15:45:18.998Z"
   },
   {
    "duration": 8,
    "start_time": "2021-11-14T15:45:20.182Z"
   },
   {
    "duration": 11,
    "start_time": "2021-11-14T16:03:25.188Z"
   },
   {
    "duration": 11,
    "start_time": "2021-11-14T16:03:27.587Z"
   },
   {
    "duration": 3,
    "start_time": "2021-11-14T16:12:42.746Z"
   },
   {
    "duration": 3,
    "start_time": "2021-11-14T16:12:48.201Z"
   },
   {
    "duration": 3,
    "start_time": "2021-11-14T16:13:07.690Z"
   },
   {
    "duration": 3593,
    "start_time": "2021-11-14T16:13:11.802Z"
   },
   {
    "duration": 33,
    "start_time": "2021-11-14T16:13:15.398Z"
   },
   {
    "duration": 3,
    "start_time": "2021-11-14T16:13:28.475Z"
   },
   {
    "duration": 3,
    "start_time": "2021-11-14T16:13:32.572Z"
   },
   {
    "duration": 34,
    "start_time": "2021-11-14T16:13:33.689Z"
   },
   {
    "duration": 14,
    "start_time": "2021-11-14T16:13:34.544Z"
   },
   {
    "duration": 8,
    "start_time": "2021-11-14T16:13:46.154Z"
   },
   {
    "duration": 20,
    "start_time": "2021-11-14T16:13:46.698Z"
   },
   {
    "duration": 20,
    "start_time": "2021-11-14T16:13:57.738Z"
   },
   {
    "duration": 3,
    "start_time": "2021-11-14T16:17:57.741Z"
   },
   {
    "duration": 7,
    "start_time": "2021-11-14T16:17:58.606Z"
   },
   {
    "duration": 3,
    "start_time": "2021-11-14T16:31:26.176Z"
   },
   {
    "duration": 54,
    "start_time": "2021-11-14T16:31:26.746Z"
   },
   {
    "duration": 14,
    "start_time": "2021-11-14T16:31:27.227Z"
   },
   {
    "duration": 12,
    "start_time": "2021-11-14T16:31:27.706Z"
   },
   {
    "duration": 11,
    "start_time": "2021-11-14T16:31:29.994Z"
   },
   {
    "duration": 9,
    "start_time": "2021-11-14T16:31:30.492Z"
   },
   {
    "duration": 7,
    "start_time": "2021-11-14T16:31:30.938Z"
   },
   {
    "duration": 35,
    "start_time": "2021-11-14T16:31:31.866Z"
   },
   {
    "duration": 13,
    "start_time": "2021-11-14T16:31:32.858Z"
   },
   {
    "duration": 3,
    "start_time": "2021-11-14T16:31:33.786Z"
   },
   {
    "duration": 3,
    "start_time": "2021-11-14T16:31:34.219Z"
   },
   {
    "duration": 19,
    "start_time": "2021-11-14T16:31:34.699Z"
   },
   {
    "duration": 198,
    "start_time": "2021-11-14T16:31:35.578Z"
   },
   {
    "duration": 191,
    "start_time": "2021-11-14T16:31:36.139Z"
   },
   {
    "duration": 6,
    "start_time": "2021-11-14T16:31:37.098Z"
   },
   {
    "duration": 10,
    "start_time": "2021-11-14T16:31:37.627Z"
   },
   {
    "duration": 8,
    "start_time": "2021-11-14T16:31:38.170Z"
   },
   {
    "duration": 8974,
    "start_time": "2021-11-14T16:31:39.210Z"
   },
   {
    "duration": 437,
    "start_time": "2021-11-14T16:31:49.306Z"
   },
   {
    "duration": 13,
    "start_time": "2021-11-14T16:31:52.395Z"
   },
   {
    "duration": 14,
    "start_time": "2021-11-14T16:31:52.955Z"
   },
   {
    "duration": 12,
    "start_time": "2021-11-14T16:31:53.515Z"
   },
   {
    "duration": 12,
    "start_time": "2021-11-14T16:31:54.027Z"
   },
   {
    "duration": 191,
    "start_time": "2021-11-14T16:31:55.547Z"
   },
   {
    "duration": 21,
    "start_time": "2021-11-14T16:31:56.842Z"
   },
   {
    "duration": 7,
    "start_time": "2021-11-14T16:31:57.435Z"
   },
   {
    "duration": 4,
    "start_time": "2021-11-14T16:31:58.923Z"
   },
   {
    "duration": 21,
    "start_time": "2021-11-14T16:31:59.371Z"
   },
   {
    "duration": 7,
    "start_time": "2021-11-14T16:31:59.835Z"
   },
   {
    "duration": 14,
    "start_time": "2021-11-14T16:32:00.875Z"
   },
   {
    "duration": 53,
    "start_time": "2021-11-14T16:32:01.355Z"
   },
   {
    "duration": 13,
    "start_time": "2021-11-14T16:32:01.819Z"
   },
   {
    "duration": 10,
    "start_time": "2021-11-14T16:32:02.267Z"
   },
   {
    "duration": 8,
    "start_time": "2021-11-14T16:32:03.194Z"
   },
   {
    "duration": 6,
    "start_time": "2021-11-14T16:32:04.123Z"
   },
   {
    "duration": 8,
    "start_time": "2021-11-14T16:32:05.035Z"
   },
   {
    "duration": 11,
    "start_time": "2021-11-14T16:32:05.499Z"
   },
   {
    "duration": 9,
    "start_time": "2021-11-14T16:32:05.947Z"
   },
   {
    "duration": 4,
    "start_time": "2021-11-14T16:32:08.474Z"
   },
   {
    "duration": 11,
    "start_time": "2021-11-14T16:32:08.955Z"
   },
   {
    "duration": 17,
    "start_time": "2021-11-14T16:32:11.019Z"
   },
   {
    "duration": 33,
    "start_time": "2021-11-14T16:32:11.532Z"
   },
   {
    "duration": 7,
    "start_time": "2021-11-14T16:32:12.172Z"
   },
   {
    "duration": 3,
    "start_time": "2021-11-14T16:32:15.563Z"
   },
   {
    "duration": 3,
    "start_time": "2021-11-14T16:32:16.091Z"
   },
   {
    "duration": 3531,
    "start_time": "2021-11-14T16:32:16.619Z"
   },
   {
    "duration": 25,
    "start_time": "2021-11-14T16:32:20.152Z"
   },
   {
    "duration": 32,
    "start_time": "2021-11-14T16:32:20.179Z"
   },
   {
    "duration": 3,
    "start_time": "2021-11-14T16:32:21.068Z"
   },
   {
    "duration": 21,
    "start_time": "2021-11-14T16:32:21.724Z"
   },
   {
    "duration": 12,
    "start_time": "2021-11-14T16:32:22.380Z"
   },
   {
    "duration": 8,
    "start_time": "2021-11-14T16:32:23.515Z"
   },
   {
    "duration": 18,
    "start_time": "2021-11-14T16:32:24.732Z"
   },
   {
    "duration": 20,
    "start_time": "2021-11-14T16:32:25.611Z"
   },
   {
    "duration": 9,
    "start_time": "2021-11-14T16:32:28.186Z"
   },
   {
    "duration": 7,
    "start_time": "2021-11-14T16:32:28.651Z"
   },
   {
    "duration": 7,
    "start_time": "2021-11-14T16:32:29.147Z"
   },
   {
    "duration": 7,
    "start_time": "2021-11-14T16:32:29.739Z"
   },
   {
    "duration": 13,
    "start_time": "2021-11-14T16:32:30.794Z"
   },
   {
    "duration": 4,
    "start_time": "2021-11-14T16:32:31.436Z"
   },
   {
    "duration": 12,
    "start_time": "2021-11-14T16:32:32.234Z"
   },
   {
    "duration": 9,
    "start_time": "2021-11-14T16:32:32.843Z"
   },
   {
    "duration": 11,
    "start_time": "2021-11-14T16:32:34.011Z"
   },
   {
    "duration": 11,
    "start_time": "2021-11-14T16:32:34.523Z"
   },
   {
    "duration": 8,
    "start_time": "2021-11-14T16:32:37.148Z"
   },
   {
    "duration": 4,
    "start_time": "2021-11-14T16:32:38.234Z"
   },
   {
    "duration": 12,
    "start_time": "2021-11-14T16:32:38.763Z"
   },
   {
    "duration": 12,
    "start_time": "2021-11-14T16:32:39.307Z"
   },
   {
    "duration": 6,
    "start_time": "2021-11-14T16:32:39.803Z"
   },
   {
    "duration": 5,
    "start_time": "2021-11-14T16:32:40.379Z"
   },
   {
    "duration": 11,
    "start_time": "2021-11-14T16:32:40.859Z"
   },
   {
    "duration": 7,
    "start_time": "2021-11-14T16:32:42.842Z"
   },
   {
    "duration": 4,
    "start_time": "2021-11-14T16:32:43.339Z"
   },
   {
    "duration": 4,
    "start_time": "2021-11-14T16:32:43.835Z"
   },
   {
    "duration": 8,
    "start_time": "2021-11-14T16:32:44.331Z"
   },
   {
    "duration": 7,
    "start_time": "2021-11-14T16:32:44.860Z"
   },
   {
    "duration": 9,
    "start_time": "2021-11-14T16:32:46.827Z"
   },
   {
    "duration": 4,
    "start_time": "2021-11-14T16:32:47.275Z"
   },
   {
    "duration": 4,
    "start_time": "2021-11-14T16:32:47.787Z"
   },
   {
    "duration": 8,
    "start_time": "2021-11-14T16:32:48.251Z"
   },
   {
    "duration": 7,
    "start_time": "2021-11-14T16:32:50.187Z"
   },
   {
    "duration": 4,
    "start_time": "2021-11-14T16:32:50.683Z"
   },
   {
    "duration": 4,
    "start_time": "2021-11-14T16:32:51.180Z"
   },
   {
    "duration": 8,
    "start_time": "2021-11-14T16:32:51.659Z"
   },
   {
    "duration": 5,
    "start_time": "2021-11-14T16:32:52.603Z"
   },
   {
    "duration": 2148,
    "start_time": "2021-11-15T09:05:24.481Z"
   },
   {
    "duration": 90,
    "start_time": "2021-11-15T09:05:26.632Z"
   },
   {
    "duration": 33,
    "start_time": "2021-11-15T09:05:26.726Z"
   },
   {
    "duration": 40,
    "start_time": "2021-11-15T09:05:26.762Z"
   },
   {
    "duration": 18,
    "start_time": "2021-11-15T09:05:26.805Z"
   },
   {
    "duration": 23,
    "start_time": "2021-11-15T09:05:26.826Z"
   },
   {
    "duration": 11,
    "start_time": "2021-11-15T09:05:26.852Z"
   },
   {
    "duration": 83,
    "start_time": "2021-11-15T09:05:26.867Z"
   },
   {
    "duration": 61,
    "start_time": "2021-11-15T09:05:26.953Z"
   },
   {
    "duration": 12,
    "start_time": "2021-11-15T09:05:27.017Z"
   },
   {
    "duration": 16,
    "start_time": "2021-11-15T09:05:27.031Z"
   },
   {
    "duration": 76,
    "start_time": "2021-11-15T09:05:27.050Z"
   },
   {
    "duration": 471,
    "start_time": "2021-11-15T09:05:27.129Z"
   },
   {
    "duration": 407,
    "start_time": "2021-11-15T09:05:27.602Z"
   },
   {
    "duration": 9,
    "start_time": "2021-11-15T09:05:28.012Z"
   },
   {
    "duration": 18,
    "start_time": "2021-11-15T09:05:28.024Z"
   },
   {
    "duration": 11,
    "start_time": "2021-11-15T09:05:28.045Z"
   },
   {
    "duration": 530,
    "start_time": "2021-11-15T09:05:28.058Z"
   },
   {
    "duration": 696,
    "start_time": "2021-11-15T09:05:28.590Z"
   },
   {
    "duration": 27,
    "start_time": "2021-11-15T09:05:29.288Z"
   },
   {
    "duration": 27,
    "start_time": "2021-11-15T09:05:29.317Z"
   },
   {
    "duration": 15,
    "start_time": "2021-11-15T09:05:29.347Z"
   },
   {
    "duration": 41,
    "start_time": "2021-11-15T09:05:29.368Z"
   },
   {
    "duration": 423,
    "start_time": "2021-11-15T09:05:29.414Z"
   },
   {
    "duration": -89,
    "start_time": "2021-11-15T09:05:29.930Z"
   },
   {
    "duration": -95,
    "start_time": "2021-11-15T09:05:29.937Z"
   },
   {
    "duration": -97,
    "start_time": "2021-11-15T09:05:29.941Z"
   },
   {
    "duration": -100,
    "start_time": "2021-11-15T09:05:29.945Z"
   },
   {
    "duration": -103,
    "start_time": "2021-11-15T09:05:29.949Z"
   },
   {
    "duration": -106,
    "start_time": "2021-11-15T09:05:29.954Z"
   },
   {
    "duration": -108,
    "start_time": "2021-11-15T09:05:29.957Z"
   },
   {
    "duration": -118,
    "start_time": "2021-11-15T09:05:29.969Z"
   },
   {
    "duration": -119,
    "start_time": "2021-11-15T09:05:29.972Z"
   },
   {
    "duration": -122,
    "start_time": "2021-11-15T09:05:29.976Z"
   },
   {
    "duration": -123,
    "start_time": "2021-11-15T09:05:29.979Z"
   },
   {
    "duration": -125,
    "start_time": "2021-11-15T09:05:29.982Z"
   },
   {
    "duration": -125,
    "start_time": "2021-11-15T09:05:29.984Z"
   },
   {
    "duration": -128,
    "start_time": "2021-11-15T09:05:29.988Z"
   },
   {
    "duration": -130,
    "start_time": "2021-11-15T09:05:29.991Z"
   },
   {
    "duration": -131,
    "start_time": "2021-11-15T09:05:29.994Z"
   },
   {
    "duration": -132,
    "start_time": "2021-11-15T09:05:29.997Z"
   },
   {
    "duration": -133,
    "start_time": "2021-11-15T09:05:30.000Z"
   },
   {
    "duration": -135,
    "start_time": "2021-11-15T09:05:30.003Z"
   },
   {
    "duration": -137,
    "start_time": "2021-11-15T09:05:30.006Z"
   },
   {
    "duration": -138,
    "start_time": "2021-11-15T09:05:30.009Z"
   },
   {
    "duration": -144,
    "start_time": "2021-11-15T09:05:30.019Z"
   },
   {
    "duration": -145,
    "start_time": "2021-11-15T09:05:30.022Z"
   },
   {
    "duration": -147,
    "start_time": "2021-11-15T09:05:30.025Z"
   },
   {
    "duration": -127,
    "start_time": "2021-11-15T09:05:30.028Z"
   },
   {
    "duration": -130,
    "start_time": "2021-11-15T09:05:30.032Z"
   },
   {
    "duration": -131,
    "start_time": "2021-11-15T09:05:30.035Z"
   },
   {
    "duration": -132,
    "start_time": "2021-11-15T09:05:30.038Z"
   },
   {
    "duration": -192,
    "start_time": "2021-11-15T09:05:30.100Z"
   },
   {
    "duration": -334,
    "start_time": "2021-11-15T09:05:30.243Z"
   },
   {
    "duration": -403,
    "start_time": "2021-11-15T09:05:30.315Z"
   },
   {
    "duration": -405,
    "start_time": "2021-11-15T09:05:30.318Z"
   },
   {
    "duration": -405,
    "start_time": "2021-11-15T09:05:30.320Z"
   },
   {
    "duration": -408,
    "start_time": "2021-11-15T09:05:30.324Z"
   },
   {
    "duration": -409,
    "start_time": "2021-11-15T09:05:30.327Z"
   },
   {
    "duration": -410,
    "start_time": "2021-11-15T09:05:30.330Z"
   },
   {
    "duration": -414,
    "start_time": "2021-11-15T09:05:30.335Z"
   },
   {
    "duration": -415,
    "start_time": "2021-11-15T09:05:30.338Z"
   },
   {
    "duration": -417,
    "start_time": "2021-11-15T09:05:30.341Z"
   },
   {
    "duration": -419,
    "start_time": "2021-11-15T09:05:30.344Z"
   },
   {
    "duration": -420,
    "start_time": "2021-11-15T09:05:30.347Z"
   },
   {
    "duration": -422,
    "start_time": "2021-11-15T09:05:30.350Z"
   },
   {
    "duration": -422,
    "start_time": "2021-11-15T09:05:30.352Z"
   },
   {
    "duration": -425,
    "start_time": "2021-11-15T09:05:30.356Z"
   },
   {
    "duration": -425,
    "start_time": "2021-11-15T09:05:30.358Z"
   },
   {
    "duration": -469,
    "start_time": "2021-11-15T09:05:30.403Z"
   },
   {
    "duration": -510,
    "start_time": "2021-11-15T09:05:30.446Z"
   },
   {
    "duration": -511,
    "start_time": "2021-11-15T09:05:30.449Z"
   },
   {
    "duration": -513,
    "start_time": "2021-11-15T09:05:30.452Z"
   },
   {
    "duration": -515,
    "start_time": "2021-11-15T09:05:30.455Z"
   },
   {
    "duration": -517,
    "start_time": "2021-11-15T09:05:30.458Z"
   },
   {
    "duration": -519,
    "start_time": "2021-11-15T09:05:30.461Z"
   },
   {
    "duration": -464,
    "start_time": "2021-11-15T09:05:30.464Z"
   },
   {
    "duration": -466,
    "start_time": "2021-11-15T09:05:30.467Z"
   },
   {
    "duration": -467,
    "start_time": "2021-11-15T09:05:30.470Z"
   },
   {
    "duration": -469,
    "start_time": "2021-11-15T09:05:30.473Z"
   },
   {
    "duration": -470,
    "start_time": "2021-11-15T09:05:30.475Z"
   },
   {
    "duration": -471,
    "start_time": "2021-11-15T09:05:30.478Z"
   },
   {
    "duration": -480,
    "start_time": "2021-11-15T09:05:30.488Z"
   },
   {
    "duration": -482,
    "start_time": "2021-11-15T09:05:30.491Z"
   },
   {
    "duration": -483,
    "start_time": "2021-11-15T09:05:30.494Z"
   },
   {
    "duration": 36,
    "start_time": "2021-11-15T09:06:43.263Z"
   },
   {
    "duration": 12,
    "start_time": "2021-11-15T09:06:43.303Z"
   },
   {
    "duration": 6,
    "start_time": "2021-11-15T09:06:43.319Z"
   },
   {
    "duration": 84,
    "start_time": "2021-11-15T09:06:43.328Z"
   },
   {
    "duration": 11,
    "start_time": "2021-11-15T09:06:43.414Z"
   },
   {
    "duration": 22,
    "start_time": "2021-11-15T09:06:43.428Z"
   },
   {
    "duration": 127,
    "start_time": "2021-11-15T09:06:43.453Z"
   },
   {
    "duration": 28,
    "start_time": "2021-11-15T09:06:43.584Z"
   },
   {
    "duration": 18,
    "start_time": "2021-11-15T09:06:43.616Z"
   },
   {
    "duration": 9,
    "start_time": "2021-11-15T09:06:43.636Z"
   },
   {
    "duration": 9,
    "start_time": "2021-11-15T09:06:43.648Z"
   },
   {
    "duration": 46,
    "start_time": "2021-11-15T09:06:43.660Z"
   },
   {
    "duration": 19,
    "start_time": "2021-11-15T09:06:43.710Z"
   },
   {
    "duration": 15,
    "start_time": "2021-11-15T09:06:43.731Z"
   },
   {
    "duration": 7,
    "start_time": "2021-11-15T09:06:43.749Z"
   },
   {
    "duration": 55,
    "start_time": "2021-11-15T09:06:43.758Z"
   },
   {
    "duration": 26,
    "start_time": "2021-11-15T09:06:43.815Z"
   },
   {
    "duration": 82,
    "start_time": "2021-11-15T09:06:43.843Z"
   },
   {
    "duration": 11,
    "start_time": "2021-11-15T09:06:43.928Z"
   },
   {
    "duration": 6,
    "start_time": "2021-11-15T09:06:43.942Z"
   },
   {
    "duration": 14,
    "start_time": "2021-11-15T09:06:43.951Z"
   },
   {
    "duration": 5194,
    "start_time": "2021-11-15T09:06:43.968Z"
   },
   {
    "duration": 51,
    "start_time": "2021-11-15T09:06:49.170Z"
   },
   {
    "duration": 7,
    "start_time": "2021-11-15T09:06:49.225Z"
   },
   {
    "duration": 9,
    "start_time": "2021-11-15T09:06:49.234Z"
   },
   {
    "duration": 54,
    "start_time": "2021-11-15T09:06:49.246Z"
   },
   {
    "duration": 18,
    "start_time": "2021-11-15T09:06:49.302Z"
   },
   {
    "duration": 11,
    "start_time": "2021-11-15T09:06:49.323Z"
   },
   {
    "duration": 33,
    "start_time": "2021-11-15T09:06:49.336Z"
   },
   {
    "duration": 53,
    "start_time": "2021-11-15T09:06:49.372Z"
   },
   {
    "duration": 12,
    "start_time": "2021-11-15T09:06:49.428Z"
   },
   {
    "duration": 9,
    "start_time": "2021-11-15T09:06:49.443Z"
   },
   {
    "duration": 45,
    "start_time": "2021-11-15T09:06:49.455Z"
   },
   {
    "duration": 10,
    "start_time": "2021-11-15T09:06:49.504Z"
   },
   {
    "duration": 15,
    "start_time": "2021-11-15T09:06:49.517Z"
   },
   {
    "duration": 6,
    "start_time": "2021-11-15T09:06:49.535Z"
   },
   {
    "duration": 64,
    "start_time": "2021-11-15T09:06:49.543Z"
   },
   {
    "duration": 10,
    "start_time": "2021-11-15T09:06:49.610Z"
   },
   {
    "duration": 11,
    "start_time": "2021-11-15T09:06:49.622Z"
   },
   {
    "duration": 20,
    "start_time": "2021-11-15T09:06:49.635Z"
   },
   {
    "duration": 44,
    "start_time": "2021-11-15T09:06:49.658Z"
   },
   {
    "duration": 4,
    "start_time": "2021-11-15T09:06:49.704Z"
   },
   {
    "duration": 19,
    "start_time": "2021-11-15T09:06:49.711Z"
   },
   {
    "duration": 15,
    "start_time": "2021-11-15T09:06:49.733Z"
   },
   {
    "duration": 5,
    "start_time": "2021-11-15T09:06:49.751Z"
   },
   {
    "duration": 7,
    "start_time": "2021-11-15T09:06:49.759Z"
   },
   {
    "duration": 41,
    "start_time": "2021-11-15T09:06:49.768Z"
   },
   {
    "duration": 8,
    "start_time": "2021-11-15T09:06:49.812Z"
   },
   {
    "duration": 4,
    "start_time": "2021-11-15T09:06:49.823Z"
   },
   {
    "duration": 13,
    "start_time": "2021-11-15T09:06:49.829Z"
   },
   {
    "duration": 14,
    "start_time": "2021-11-15T09:06:49.844Z"
   },
   {
    "duration": 42,
    "start_time": "2021-11-15T09:06:49.860Z"
   },
   {
    "duration": 13,
    "start_time": "2021-11-15T09:06:49.905Z"
   },
   {
    "duration": 5,
    "start_time": "2021-11-15T09:06:49.920Z"
   },
   {
    "duration": 14,
    "start_time": "2021-11-15T09:06:49.928Z"
   },
   {
    "duration": 15,
    "start_time": "2021-11-15T09:06:49.945Z"
   },
   {
    "duration": 40,
    "start_time": "2021-11-15T09:06:49.962Z"
   },
   {
    "duration": 5,
    "start_time": "2021-11-15T09:06:50.005Z"
   },
   {
    "duration": 12,
    "start_time": "2021-11-15T09:06:50.013Z"
   },
   {
    "duration": 19,
    "start_time": "2021-11-15T09:06:50.028Z"
   },
   {
    "duration": 12,
    "start_time": "2021-11-15T09:06:50.049Z"
   },
   {
    "duration": 94,
    "start_time": "2021-11-15T11:35:37.435Z"
   },
   {
    "duration": 7598,
    "start_time": "2021-11-15T11:38:50.951Z"
   },
   {
    "duration": 38,
    "start_time": "2021-11-15T11:39:17.710Z"
   },
   {
    "duration": 3672,
    "start_time": "2021-11-15T11:40:24.851Z"
   },
   {
    "duration": 1119,
    "start_time": "2021-11-15T12:13:49.142Z"
   },
   {
    "duration": 49,
    "start_time": "2021-11-15T12:13:51.976Z"
   },
   {
    "duration": 17,
    "start_time": "2021-11-15T12:13:52.648Z"
   },
   {
    "duration": 11,
    "start_time": "2021-11-15T12:13:54.249Z"
   },
   {
    "duration": 11,
    "start_time": "2021-11-15T12:13:57.510Z"
   },
   {
    "duration": 10,
    "start_time": "2021-11-15T12:13:58.278Z"
   },
   {
    "duration": 7,
    "start_time": "2021-11-15T12:13:58.919Z"
   },
   {
    "duration": 40,
    "start_time": "2021-11-15T12:14:01.111Z"
   },
   {
    "duration": 12,
    "start_time": "2021-11-15T12:14:11.160Z"
   },
   {
    "duration": 3,
    "start_time": "2021-11-15T12:14:15.512Z"
   },
   {
    "duration": 3,
    "start_time": "2021-11-15T12:14:16.167Z"
   },
   {
    "duration": 20,
    "start_time": "2021-11-15T12:14:17.960Z"
   },
   {
    "duration": 702,
    "start_time": "2021-11-15T12:16:20.922Z"
   },
   {
    "duration": 222,
    "start_time": "2021-11-15T12:16:41.744Z"
   },
   {
    "duration": 222,
    "start_time": "2021-11-15T12:21:35.934Z"
   },
   {
    "duration": 216,
    "start_time": "2021-11-15T12:21:50.158Z"
   },
   {
    "duration": 224,
    "start_time": "2021-11-15T12:22:31.902Z"
   },
   {
    "duration": 4,
    "start_time": "2021-11-15T12:22:36.398Z"
   },
   {
    "duration": 276,
    "start_time": "2021-11-15T12:23:15.679Z"
   },
   {
    "duration": 221,
    "start_time": "2021-11-15T12:23:46.415Z"
   },
   {
    "duration": 189,
    "start_time": "2021-11-15T21:36:23.957Z"
   },
   {
    "duration": 192,
    "start_time": "2021-11-15T21:37:00.373Z"
   },
   {
    "duration": 177,
    "start_time": "2021-11-15T21:37:30.613Z"
   },
   {
    "duration": 365,
    "start_time": "2021-11-15T21:41:25.575Z"
   },
   {
    "duration": 370,
    "start_time": "2021-11-15T21:41:55.081Z"
   },
   {
    "duration": 9,
    "start_time": "2021-11-15T21:42:32.937Z"
   },
   {
    "duration": 2508,
    "start_time": "2021-11-15T21:42:59.993Z"
   },
   {
    "duration": 2517,
    "start_time": "2021-11-15T21:43:05.337Z"
   },
   {
    "duration": 12,
    "start_time": "2021-11-15T21:43:20.665Z"
   },
   {
    "duration": 14,
    "start_time": "2021-11-15T21:43:50.793Z"
   },
   {
    "duration": 16,
    "start_time": "2021-11-15T21:44:04.490Z"
   },
   {
    "duration": 34,
    "start_time": "2021-11-15T21:44:48.874Z"
   },
   {
    "duration": 378,
    "start_time": "2021-11-15T21:48:29.100Z"
   },
   {
    "duration": 34,
    "start_time": "2021-11-15T21:49:43.791Z"
   },
   {
    "duration": 21,
    "start_time": "2021-11-15T21:49:52.390Z"
   },
   {
    "duration": 7,
    "start_time": "2021-11-15T21:50:38.205Z"
   },
   {
    "duration": 58,
    "start_time": "2021-11-15T21:52:42.832Z"
   },
   {
    "duration": 7,
    "start_time": "2021-11-15T21:53:04.143Z"
   },
   {
    "duration": 12,
    "start_time": "2021-11-15T21:54:00.063Z"
   },
   {
    "duration": 12,
    "start_time": "2021-11-15T21:54:04.943Z"
   },
   {
    "duration": 114,
    "start_time": "2021-11-15T21:55:48.082Z"
   },
   {
    "duration": 127,
    "start_time": "2021-11-15T21:56:25.393Z"
   },
   {
    "duration": 180,
    "start_time": "2021-11-15T21:56:32.834Z"
   },
   {
    "duration": 148,
    "start_time": "2021-11-15T21:57:11.474Z"
   },
   {
    "duration": 385,
    "start_time": "2021-11-15T21:58:02.163Z"
   },
   {
    "duration": 3,
    "start_time": "2021-11-15T21:58:20.242Z"
   },
   {
    "duration": 50,
    "start_time": "2021-11-15T21:58:20.834Z"
   },
   {
    "duration": 17,
    "start_time": "2021-11-15T21:58:21.363Z"
   },
   {
    "duration": 10,
    "start_time": "2021-11-15T21:58:21.939Z"
   },
   {
    "duration": 10,
    "start_time": "2021-11-15T21:58:25.697Z"
   },
   {
    "duration": 10,
    "start_time": "2021-11-15T21:58:26.386Z"
   },
   {
    "duration": 13,
    "start_time": "2021-11-15T21:58:26.994Z"
   },
   {
    "duration": 34,
    "start_time": "2021-11-15T21:58:28.305Z"
   },
   {
    "duration": 12,
    "start_time": "2021-11-15T21:58:30.354Z"
   },
   {
    "duration": 3,
    "start_time": "2021-11-15T21:58:37.602Z"
   },
   {
    "duration": 3,
    "start_time": "2021-11-15T21:58:38.563Z"
   },
   {
    "duration": 20,
    "start_time": "2021-11-15T21:58:39.314Z"
   },
   {
    "duration": 193,
    "start_time": "2021-11-15T21:58:40.931Z"
   },
   {
    "duration": 177,
    "start_time": "2021-11-15T21:58:46.546Z"
   },
   {
    "duration": 5,
    "start_time": "2021-11-15T21:58:49.106Z"
   },
   {
    "duration": 9,
    "start_time": "2021-11-15T21:58:50.115Z"
   },
   {
    "duration": 7,
    "start_time": "2021-11-15T21:58:51.394Z"
   },
   {
    "duration": 339,
    "start_time": "2021-11-15T21:58:53.507Z"
   },
   {
    "duration": 323,
    "start_time": "2021-11-15T21:59:17.315Z"
   },
   {
    "duration": 344,
    "start_time": "2021-11-15T21:59:40.164Z"
   },
   {
    "duration": 419,
    "start_time": "2021-11-15T21:59:56.196Z"
   },
   {
    "duration": 368,
    "start_time": "2021-11-15T22:01:14.869Z"
   },
   {
    "duration": 3,
    "start_time": "2021-11-15T22:04:11.462Z"
   },
   {
    "duration": 50,
    "start_time": "2021-11-15T22:04:11.894Z"
   },
   {
    "duration": 12,
    "start_time": "2021-11-15T22:04:12.348Z"
   },
   {
    "duration": 12,
    "start_time": "2021-11-15T22:04:12.759Z"
   },
   {
    "duration": 11,
    "start_time": "2021-11-15T22:04:14.421Z"
   },
   {
    "duration": 11,
    "start_time": "2021-11-15T22:04:14.566Z"
   },
   {
    "duration": 7,
    "start_time": "2021-11-15T22:04:14.780Z"
   },
   {
    "duration": 33,
    "start_time": "2021-11-15T22:04:15.141Z"
   },
   {
    "duration": 12,
    "start_time": "2021-11-15T22:04:15.670Z"
   },
   {
    "duration": 3,
    "start_time": "2021-11-15T22:04:16.086Z"
   },
   {
    "duration": 3,
    "start_time": "2021-11-15T22:04:16.294Z"
   },
   {
    "duration": 20,
    "start_time": "2021-11-15T22:04:16.694Z"
   },
   {
    "duration": 202,
    "start_time": "2021-11-15T22:04:17.495Z"
   },
   {
    "duration": 285,
    "start_time": "2021-11-15T22:04:18.917Z"
   },
   {
    "duration": 5,
    "start_time": "2021-11-15T22:04:20.598Z"
   },
   {
    "duration": 12,
    "start_time": "2021-11-15T22:04:21.126Z"
   },
   {
    "duration": 10,
    "start_time": "2021-11-15T22:04:21.717Z"
   },
   {
    "duration": 365,
    "start_time": "2021-11-15T22:04:22.710Z"
   },
   {
    "duration": 467,
    "start_time": "2021-11-15T22:05:25.592Z"
   },
   {
    "duration": 2,
    "start_time": "2021-11-15T22:05:33.591Z"
   },
   {
    "duration": 3,
    "start_time": "2021-11-15T22:05:34.087Z"
   },
   {
    "duration": 33,
    "start_time": "2021-11-15T22:05:34.727Z"
   },
   {
    "duration": 59,
    "start_time": "2021-11-15T22:05:35.287Z"
   },
   {
    "duration": 11,
    "start_time": "2021-11-15T22:05:35.863Z"
   },
   {
    "duration": 12,
    "start_time": "2021-11-15T22:05:36.438Z"
   },
   {
    "duration": 190,
    "start_time": "2021-11-15T22:06:01.047Z"
   },
   {
    "duration": 21,
    "start_time": "2021-11-15T22:06:05.687Z"
   },
   {
    "duration": 7,
    "start_time": "2021-11-15T22:06:06.616Z"
   },
   {
    "duration": 4,
    "start_time": "2021-11-15T22:06:08.455Z"
   },
   {
    "duration": 21,
    "start_time": "2021-11-15T22:06:10.776Z"
   },
   {
    "duration": 8,
    "start_time": "2021-11-15T22:06:12.408Z"
   },
   {
    "duration": 13,
    "start_time": "2021-11-15T22:06:15.160Z"
   },
   {
    "duration": 52,
    "start_time": "2021-11-15T22:06:16.679Z"
   },
   {
    "duration": 12,
    "start_time": "2021-11-15T22:06:17.656Z"
   },
   {
    "duration": 11,
    "start_time": "2021-11-15T22:06:18.519Z"
   },
   {
    "duration": 7,
    "start_time": "2021-11-15T22:06:20.298Z"
   },
   {
    "duration": 7,
    "start_time": "2021-11-15T22:06:23.319Z"
   },
   {
    "duration": 7,
    "start_time": "2021-11-15T22:06:25.256Z"
   },
   {
    "duration": 11,
    "start_time": "2021-11-15T22:06:26.313Z"
   },
   {
    "duration": 10,
    "start_time": "2021-11-15T22:06:27.735Z"
   },
   {
    "duration": 5,
    "start_time": "2021-11-15T22:06:32.231Z"
   },
   {
    "duration": 4,
    "start_time": "2021-11-15T22:06:33.160Z"
   },
   {
    "duration": 14,
    "start_time": "2021-11-15T22:06:37.208Z"
   },
   {
    "duration": 176,
    "start_time": "2021-11-15T22:08:37.929Z"
   },
   {
    "duration": 18,
    "start_time": "2021-11-15T22:08:43.832Z"
   },
   {
    "duration": 33,
    "start_time": "2021-11-15T22:08:44.831Z"
   },
   {
    "duration": 8,
    "start_time": "2021-11-15T22:08:45.801Z"
   },
   {
    "duration": 3,
    "start_time": "2021-11-15T22:08:53.609Z"
   },
   {
    "duration": 3389,
    "start_time": "2021-11-15T22:10:33.018Z"
   },
   {
    "duration": 27,
    "start_time": "2021-11-15T22:11:48.252Z"
   },
   {
    "duration": 2,
    "start_time": "2021-11-15T22:11:50.909Z"
   },
   {
    "duration": 4,
    "start_time": "2021-11-15T22:11:51.515Z"
   },
   {
    "duration": 19,
    "start_time": "2021-11-15T22:11:52.318Z"
   },
   {
    "duration": 11,
    "start_time": "2021-11-15T22:11:54.723Z"
   },
   {
    "duration": 7,
    "start_time": "2021-11-15T22:11:55.836Z"
   },
   {
    "duration": 17,
    "start_time": "2021-11-15T22:12:02.252Z"
   },
   {
    "duration": 19,
    "start_time": "2021-11-15T22:12:03.052Z"
   },
   {
    "duration": 8,
    "start_time": "2021-11-15T22:12:12.411Z"
   },
   {
    "duration": 6,
    "start_time": "2021-11-15T22:12:12.828Z"
   },
   {
    "duration": 8,
    "start_time": "2021-11-15T22:12:13.979Z"
   },
   {
    "duration": 7,
    "start_time": "2021-11-15T22:12:14.827Z"
   },
   {
    "duration": 9,
    "start_time": "2021-11-15T22:12:18.219Z"
   },
   {
    "duration": 182,
    "start_time": "2021-11-15T22:19:25.857Z"
   },
   {
    "duration": 10131,
    "start_time": "2021-11-15T22:20:10.018Z"
   },
   {
    "duration": 949,
    "start_time": "2021-11-15T22:20:19.202Z"
   },
   {
    "duration": 944,
    "start_time": "2021-11-15T22:20:19.207Z"
   },
   {
    "duration": 4,
    "start_time": "2021-11-15T22:20:22.386Z"
   },
   {
    "duration": 9,
    "start_time": "2021-11-15T22:20:23.091Z"
   },
   {
    "duration": 8,
    "start_time": "2021-11-15T22:20:25.441Z"
   },
   {
    "duration": 8,
    "start_time": "2021-11-15T22:20:28.866Z"
   },
   {
    "duration": 10,
    "start_time": "2021-11-15T22:20:32.754Z"
   },
   {
    "duration": 6,
    "start_time": "2021-11-15T22:20:58.338Z"
   },
   {
    "duration": 3,
    "start_time": "2021-11-15T22:20:59.409Z"
   },
   {
    "duration": 8,
    "start_time": "2021-11-15T22:21:02.898Z"
   },
   {
    "duration": 1053,
    "start_time": "2021-11-15T22:25:23.095Z"
   },
   {
    "duration": 4,
    "start_time": "2021-11-15T22:26:04.888Z"
   },
   {
    "duration": 16,
    "start_time": "2021-11-15T22:26:29.031Z"
   },
   {
    "duration": 12,
    "start_time": "2021-11-15T22:26:59.624Z"
   },
   {
    "duration": 14,
    "start_time": "2021-11-15T22:27:35.480Z"
   },
   {
    "duration": 13,
    "start_time": "2021-11-15T22:28:21.817Z"
   },
   {
    "duration": 394,
    "start_time": "2021-11-15T22:28:43.465Z"
   },
   {
    "duration": 9,
    "start_time": "2021-11-15T22:28:53.631Z"
   },
   {
    "duration": 13,
    "start_time": "2021-11-15T22:29:01.386Z"
   },
   {
    "duration": 5,
    "start_time": "2021-11-15T22:29:05.945Z"
   },
   {
    "duration": 135,
    "start_time": "2021-11-15T22:30:59.850Z"
   },
   {
    "duration": 3,
    "start_time": "2021-11-15T22:33:52.262Z"
   },
   {
    "duration": 49,
    "start_time": "2021-11-15T22:33:52.719Z"
   },
   {
    "duration": 11,
    "start_time": "2021-11-15T22:33:55.536Z"
   },
   {
    "duration": 14,
    "start_time": "2021-11-15T22:33:57.039Z"
   },
   {
    "duration": 3,
    "start_time": "2021-11-15T22:36:46.313Z"
   },
   {
    "duration": 58,
    "start_time": "2021-11-15T22:36:51.283Z"
   },
   {
    "duration": 12,
    "start_time": "2021-11-15T22:36:52.344Z"
   },
   {
    "duration": 12,
    "start_time": "2021-11-15T22:36:53.361Z"
   },
   {
    "duration": 10,
    "start_time": "2021-11-15T22:36:57.952Z"
   },
   {
    "duration": 12,
    "start_time": "2021-11-15T22:36:59.682Z"
   },
   {
    "duration": 7,
    "start_time": "2021-11-15T22:37:00.545Z"
   },
   {
    "duration": 36,
    "start_time": "2021-11-15T22:37:09.970Z"
   },
   {
    "duration": 12,
    "start_time": "2021-11-15T22:37:23.762Z"
   },
   {
    "duration": 2,
    "start_time": "2021-11-15T22:37:26.418Z"
   },
   {
    "duration": 3,
    "start_time": "2021-11-15T22:37:29.922Z"
   },
   {
    "duration": 19,
    "start_time": "2021-11-15T22:37:30.562Z"
   },
   {
    "duration": 271,
    "start_time": "2021-11-15T22:37:34.881Z"
   },
   {
    "duration": 179,
    "start_time": "2021-11-15T22:37:47.506Z"
   },
   {
    "duration": 4,
    "start_time": "2021-11-15T22:37:55.506Z"
   },
   {
    "duration": 10,
    "start_time": "2021-11-15T22:37:56.339Z"
   },
   {
    "duration": 8,
    "start_time": "2021-11-15T22:37:57.058Z"
   },
   {
    "duration": 431,
    "start_time": "2021-11-15T22:38:08.946Z"
   },
   {
    "duration": 467,
    "start_time": "2021-11-15T22:38:12.642Z"
   },
   {
    "duration": 2,
    "start_time": "2021-11-15T22:38:21.955Z"
   },
   {
    "duration": 2,
    "start_time": "2021-11-15T22:38:22.467Z"
   },
   {
    "duration": 39,
    "start_time": "2021-11-15T22:39:15.364Z"
   },
   {
    "duration": 58,
    "start_time": "2021-11-15T22:39:16.276Z"
   },
   {
    "duration": 12,
    "start_time": "2021-11-15T22:39:17.091Z"
   },
   {
    "duration": 11,
    "start_time": "2021-11-15T22:39:20.756Z"
   },
   {
    "duration": 8,
    "start_time": "2021-11-15T22:40:42.772Z"
   },
   {
    "duration": 3,
    "start_time": "2021-11-15T22:41:29.148Z"
   },
   {
    "duration": 49,
    "start_time": "2021-11-15T22:41:29.573Z"
   },
   {
    "duration": 13,
    "start_time": "2021-11-15T22:41:29.957Z"
   },
   {
    "duration": 11,
    "start_time": "2021-11-15T22:41:30.326Z"
   },
   {
    "duration": 10,
    "start_time": "2021-11-15T22:41:32.917Z"
   },
   {
    "duration": 10,
    "start_time": "2021-11-15T22:41:33.365Z"
   },
   {
    "duration": 7,
    "start_time": "2021-11-15T22:41:33.876Z"
   },
   {
    "duration": 35,
    "start_time": "2021-11-15T22:41:34.709Z"
   },
   {
    "duration": 13,
    "start_time": "2021-11-15T22:41:36.229Z"
   },
   {
    "duration": 3,
    "start_time": "2021-11-15T22:41:43.185Z"
   },
   {
    "duration": 5,
    "start_time": "2021-11-15T22:41:43.190Z"
   },
   {
    "duration": 20,
    "start_time": "2021-11-15T22:41:43.797Z"
   },
   {
    "duration": 192,
    "start_time": "2021-11-15T22:41:45.652Z"
   },
   {
    "duration": 186,
    "start_time": "2021-11-15T22:41:50.309Z"
   },
   {
    "duration": 5,
    "start_time": "2021-11-15T22:41:51.732Z"
   },
   {
    "duration": 10,
    "start_time": "2021-11-15T22:41:52.116Z"
   },
   {
    "duration": 9,
    "start_time": "2021-11-15T22:41:52.948Z"
   },
   {
    "duration": 376,
    "start_time": "2021-11-15T22:41:55.908Z"
   },
   {
    "duration": 511,
    "start_time": "2021-11-15T22:41:57.141Z"
   },
   {
    "duration": 7,
    "start_time": "2021-11-15T22:42:04.694Z"
   },
   {
    "duration": 34,
    "start_time": "2021-11-15T22:42:10.198Z"
   },
   {
    "duration": 58,
    "start_time": "2021-11-15T22:42:10.805Z"
   },
   {
    "duration": 13,
    "start_time": "2021-11-15T22:42:19.013Z"
   },
   {
    "duration": 11,
    "start_time": "2021-11-15T22:42:22.294Z"
   },
   {
    "duration": 2,
    "start_time": "2021-11-15T22:43:13.814Z"
   },
   {
    "duration": 49,
    "start_time": "2021-11-15T22:43:14.262Z"
   },
   {
    "duration": 12,
    "start_time": "2021-11-15T22:43:14.727Z"
   },
   {
    "duration": 11,
    "start_time": "2021-11-15T22:43:15.238Z"
   },
   {
    "duration": 10,
    "start_time": "2021-11-15T22:43:17.973Z"
   },
   {
    "duration": 14,
    "start_time": "2021-11-15T22:43:18.486Z"
   },
   {
    "duration": 7,
    "start_time": "2021-11-15T22:43:18.806Z"
   },
   {
    "duration": 39,
    "start_time": "2021-11-15T22:43:19.173Z"
   },
   {
    "duration": 12,
    "start_time": "2021-11-15T22:43:19.942Z"
   },
   {
    "duration": 4,
    "start_time": "2021-11-15T22:43:20.565Z"
   },
   {
    "duration": 3,
    "start_time": "2021-11-15T22:43:20.886Z"
   },
   {
    "duration": 21,
    "start_time": "2021-11-15T22:43:21.190Z"
   },
   {
    "duration": 192,
    "start_time": "2021-11-15T22:43:21.717Z"
   },
   {
    "duration": 178,
    "start_time": "2021-11-15T22:43:22.645Z"
   },
   {
    "duration": 5,
    "start_time": "2021-11-15T22:43:23.318Z"
   },
   {
    "duration": 10,
    "start_time": "2021-11-15T22:43:23.574Z"
   },
   {
    "duration": 8,
    "start_time": "2021-11-15T22:43:23.782Z"
   },
   {
    "duration": 371,
    "start_time": "2021-11-15T22:43:24.182Z"
   },
   {
    "duration": 520,
    "start_time": "2021-11-15T22:43:24.742Z"
   },
   {
    "duration": 2,
    "start_time": "2021-11-15T22:43:25.430Z"
   },
   {
    "duration": 3,
    "start_time": "2021-11-15T22:43:26.374Z"
   },
   {
    "duration": 35,
    "start_time": "2021-11-15T22:43:26.839Z"
   },
   {
    "duration": 68,
    "start_time": "2021-11-15T22:43:27.526Z"
   },
   {
    "duration": 2,
    "start_time": "2021-11-15T22:43:28.327Z"
   },
   {
    "duration": 12,
    "start_time": "2021-11-15T22:43:29.190Z"
   },
   {
    "duration": 183,
    "start_time": "2021-11-15T22:43:43.148Z"
   },
   {
    "duration": 266,
    "start_time": "2021-11-15T22:44:09.911Z"
   },
   {
    "duration": 189,
    "start_time": "2021-11-15T22:44:54.487Z"
   },
   {
    "duration": 191,
    "start_time": "2021-11-15T22:45:07.977Z"
   },
   {
    "duration": 187,
    "start_time": "2021-11-15T22:45:13.784Z"
   },
   {
    "duration": 339,
    "start_time": "2021-11-15T22:45:30.138Z"
   },
   {
    "duration": 3812,
    "start_time": "2021-11-15T22:45:54.888Z"
   },
   {
    "duration": 182,
    "start_time": "2021-11-15T22:46:32.233Z"
   },
   {
    "duration": 364,
    "start_time": "2021-11-15T22:46:54.713Z"
   },
   {
    "duration": 352,
    "start_time": "2021-11-15T22:47:08.826Z"
   },
   {
    "duration": 178,
    "start_time": "2021-11-15T22:47:17.658Z"
   },
   {
    "duration": 181,
    "start_time": "2021-11-15T22:47:31.354Z"
   },
   {
    "duration": 181,
    "start_time": "2021-11-15T22:47:39.434Z"
   },
   {
    "duration": 20,
    "start_time": "2021-11-15T22:47:55.066Z"
   },
   {
    "duration": 7,
    "start_time": "2021-11-15T22:47:56.009Z"
   },
   {
    "duration": 3,
    "start_time": "2021-11-15T22:47:57.880Z"
   },
   {
    "duration": 20,
    "start_time": "2021-11-15T22:47:59.200Z"
   },
   {
    "duration": 10,
    "start_time": "2021-11-15T22:48:01.035Z"
   },
   {
    "duration": 13,
    "start_time": "2021-11-15T22:48:02.985Z"
   },
   {
    "duration": 77,
    "start_time": "2021-11-15T22:48:03.625Z"
   },
   {
    "duration": 12,
    "start_time": "2021-11-15T22:48:04.330Z"
   },
   {
    "duration": 11,
    "start_time": "2021-11-15T22:48:05.529Z"
   },
   {
    "duration": 8,
    "start_time": "2021-11-15T22:48:08.281Z"
   },
   {
    "duration": 6,
    "start_time": "2021-11-15T22:48:10.985Z"
   },
   {
    "duration": 8,
    "start_time": "2021-11-15T22:48:13.369Z"
   },
   {
    "duration": 12,
    "start_time": "2021-11-15T22:48:14.105Z"
   },
   {
    "duration": 8,
    "start_time": "2021-11-15T22:48:15.689Z"
   },
   {
    "duration": 4,
    "start_time": "2021-11-15T22:48:22.313Z"
   },
   {
    "duration": 5,
    "start_time": "2021-11-15T22:48:23.689Z"
   },
   {
    "duration": 13,
    "start_time": "2021-11-15T22:48:26.393Z"
   },
   {
    "duration": 17,
    "start_time": "2021-11-15T22:49:00.202Z"
   },
   {
    "duration": 33,
    "start_time": "2021-11-15T22:49:01.034Z"
   },
   {
    "duration": 7,
    "start_time": "2021-11-15T22:49:02.027Z"
   },
   {
    "duration": 28,
    "start_time": "2021-11-15T22:49:09.001Z"
   },
   {
    "duration": 2,
    "start_time": "2021-11-15T22:49:12.778Z"
   },
   {
    "duration": 3,
    "start_time": "2021-11-15T22:49:13.306Z"
   },
   {
    "duration": 3811,
    "start_time": "2021-11-15T22:49:13.994Z"
   },
   {
    "duration": 27,
    "start_time": "2021-11-15T22:49:21.034Z"
   },
   {
    "duration": 3,
    "start_time": "2021-11-15T22:49:21.834Z"
   },
   {
    "duration": 3,
    "start_time": "2021-11-15T22:49:22.683Z"
   },
   {
    "duration": 20,
    "start_time": "2021-11-15T22:49:25.642Z"
   },
   {
    "duration": 11,
    "start_time": "2021-11-15T22:49:26.714Z"
   },
   {
    "duration": 8,
    "start_time": "2021-11-15T22:49:27.642Z"
   },
   {
    "duration": 17,
    "start_time": "2021-11-15T22:49:28.538Z"
   },
   {
    "duration": 22,
    "start_time": "2021-11-15T22:49:29.674Z"
   },
   {
    "duration": 8,
    "start_time": "2021-11-15T22:49:33.498Z"
   },
   {
    "duration": 6,
    "start_time": "2021-11-15T22:49:34.106Z"
   },
   {
    "duration": 7,
    "start_time": "2021-11-15T22:49:34.810Z"
   },
   {
    "duration": 6,
    "start_time": "2021-11-15T22:49:35.546Z"
   },
   {
    "duration": 9,
    "start_time": "2021-11-15T22:49:37.066Z"
   },
   {
    "duration": 3,
    "start_time": "2021-11-15T22:49:39.227Z"
   },
   {
    "duration": 10,
    "start_time": "2021-11-15T22:49:40.139Z"
   },
   {
    "duration": 7,
    "start_time": "2021-11-15T22:49:56.842Z"
   },
   {
    "duration": 8,
    "start_time": "2021-11-15T22:49:58.923Z"
   },
   {
    "duration": 10,
    "start_time": "2021-11-15T22:49:59.675Z"
   },
   {
    "duration": 6,
    "start_time": "2021-11-15T22:50:04.394Z"
   },
   {
    "duration": 3,
    "start_time": "2021-11-15T22:50:08.283Z"
   },
   {
    "duration": 8,
    "start_time": "2021-11-15T22:50:09.178Z"
   },
   {
    "duration": 4,
    "start_time": "2021-11-15T22:50:15.100Z"
   },
   {
    "duration": 10,
    "start_time": "2021-11-15T22:50:29.755Z"
   },
   {
    "duration": 8,
    "start_time": "2021-11-15T22:50:33.835Z"
   },
   {
    "duration": 7,
    "start_time": "2021-11-15T22:50:52.124Z"
   },
   {
    "duration": 7,
    "start_time": "2021-11-15T22:50:56.652Z"
   },
   {
    "duration": 6,
    "start_time": "2021-11-15T22:51:08.539Z"
   },
   {
    "duration": 9,
    "start_time": "2021-11-15T22:51:27.581Z"
   },
   {
    "duration": 8,
    "start_time": "2021-11-15T22:51:32.427Z"
   },
   {
    "duration": 9,
    "start_time": "2021-11-15T22:51:44.620Z"
   },
   {
    "duration": 8,
    "start_time": "2021-11-15T22:51:48.252Z"
   },
   {
    "duration": 6,
    "start_time": "2021-11-15T22:51:51.372Z"
   },
   {
    "duration": 1045,
    "start_time": "2021-11-16T13:44:46.564Z"
   },
   {
    "duration": 44,
    "start_time": "2021-11-16T13:44:47.611Z"
   },
   {
    "duration": 13,
    "start_time": "2021-11-16T13:44:47.657Z"
   },
   {
    "duration": 14,
    "start_time": "2021-11-16T13:44:47.672Z"
   },
   {
    "duration": 7,
    "start_time": "2021-11-16T13:44:47.687Z"
   },
   {
    "duration": 8,
    "start_time": "2021-11-16T13:44:47.696Z"
   },
   {
    "duration": 6,
    "start_time": "2021-11-16T13:44:47.705Z"
   },
   {
    "duration": 29,
    "start_time": "2021-11-16T13:44:47.713Z"
   },
   {
    "duration": 47,
    "start_time": "2021-11-16T13:44:47.744Z"
   },
   {
    "duration": 2,
    "start_time": "2021-11-16T13:44:47.793Z"
   },
   {
    "duration": 4,
    "start_time": "2021-11-16T13:44:47.797Z"
   },
   {
    "duration": 23,
    "start_time": "2021-11-16T13:44:47.802Z"
   },
   {
    "duration": 193,
    "start_time": "2021-11-16T13:44:47.827Z"
   },
   {
    "duration": 176,
    "start_time": "2021-11-16T13:44:48.021Z"
   },
   {
    "duration": 5,
    "start_time": "2021-11-16T13:44:48.198Z"
   },
   {
    "duration": 17,
    "start_time": "2021-11-16T13:44:48.204Z"
   },
   {
    "duration": 7,
    "start_time": "2021-11-16T13:44:48.223Z"
   },
   {
    "duration": 341,
    "start_time": "2021-11-16T13:44:48.231Z"
   },
   {
    "duration": 431,
    "start_time": "2021-11-16T13:44:48.574Z"
   },
   {
    "duration": 2,
    "start_time": "2021-11-16T13:44:49.007Z"
   },
   {
    "duration": 14,
    "start_time": "2021-11-16T13:44:49.011Z"
   },
   {
    "duration": 34,
    "start_time": "2021-11-16T13:44:49.027Z"
   },
   {
    "duration": 63,
    "start_time": "2021-11-16T13:44:49.065Z"
   },
   {
    "duration": 2,
    "start_time": "2021-11-16T13:44:49.131Z"
   },
   {
    "duration": 17,
    "start_time": "2021-11-16T13:44:49.135Z"
   },
   {
    "duration": 172,
    "start_time": "2021-11-16T13:44:49.153Z"
   },
   {
    "duration": 17,
    "start_time": "2021-11-16T13:44:49.327Z"
   },
   {
    "duration": 5,
    "start_time": "2021-11-16T13:44:49.346Z"
   },
   {
    "duration": 6,
    "start_time": "2021-11-16T13:44:49.352Z"
   },
   {
    "duration": 36,
    "start_time": "2021-11-16T13:44:49.360Z"
   },
   {
    "duration": 6,
    "start_time": "2021-11-16T13:44:49.397Z"
   },
   {
    "duration": 17,
    "start_time": "2021-11-16T13:44:49.405Z"
   },
   {
    "duration": 48,
    "start_time": "2021-11-16T13:44:49.423Z"
   },
   {
    "duration": 24,
    "start_time": "2021-11-16T13:44:49.473Z"
   },
   {
    "duration": 11,
    "start_time": "2021-11-16T13:44:49.499Z"
   },
   {
    "duration": 11,
    "start_time": "2021-11-16T13:44:49.512Z"
   },
   {
    "duration": 13,
    "start_time": "2021-11-16T13:44:49.525Z"
   },
   {
    "duration": 9,
    "start_time": "2021-11-16T13:44:49.539Z"
   },
   {
    "duration": 19,
    "start_time": "2021-11-16T13:44:49.550Z"
   },
   {
    "duration": 20,
    "start_time": "2021-11-16T13:44:49.571Z"
   },
   {
    "duration": 3,
    "start_time": "2021-11-16T13:44:49.593Z"
   },
   {
    "duration": 7,
    "start_time": "2021-11-16T13:44:49.598Z"
   },
   {
    "duration": 15,
    "start_time": "2021-11-16T13:44:49.607Z"
   },
   {
    "duration": 13,
    "start_time": "2021-11-16T13:44:49.623Z"
   },
   {
    "duration": 27,
    "start_time": "2021-11-16T13:44:49.638Z"
   },
   {
    "duration": 23,
    "start_time": "2021-11-16T13:44:49.666Z"
   },
   {
    "duration": 11,
    "start_time": "2021-11-16T13:44:49.691Z"
   },
   {
    "duration": 5,
    "start_time": "2021-11-16T13:44:49.703Z"
   },
   {
    "duration": 10,
    "start_time": "2021-11-16T13:44:49.710Z"
   },
   {
    "duration": 3148,
    "start_time": "2021-11-16T13:44:49.721Z"
   },
   {
    "duration": 31,
    "start_time": "2021-11-16T13:44:52.870Z"
   },
   {
    "duration": 5,
    "start_time": "2021-11-16T13:44:52.902Z"
   },
   {
    "duration": 5,
    "start_time": "2021-11-16T13:44:52.909Z"
   },
   {
    "duration": 18,
    "start_time": "2021-11-16T13:44:52.915Z"
   },
   {
    "duration": 17,
    "start_time": "2021-11-16T13:44:52.934Z"
   },
   {
    "duration": 8,
    "start_time": "2021-11-16T13:44:52.952Z"
   },
   {
    "duration": 29,
    "start_time": "2021-11-16T13:44:52.962Z"
   },
   {
    "duration": 16,
    "start_time": "2021-11-16T13:44:52.993Z"
   },
   {
    "duration": 7,
    "start_time": "2021-11-16T13:44:53.011Z"
   },
   {
    "duration": 9,
    "start_time": "2021-11-16T13:44:53.019Z"
   },
   {
    "duration": 11,
    "start_time": "2021-11-16T13:44:53.029Z"
   },
   {
    "duration": 6,
    "start_time": "2021-11-16T13:44:53.042Z"
   },
   {
    "duration": 8,
    "start_time": "2021-11-16T13:44:53.050Z"
   },
   {
    "duration": 3,
    "start_time": "2021-11-16T13:44:53.088Z"
   },
   {
    "duration": 17,
    "start_time": "2021-11-16T13:44:53.093Z"
   },
   {
    "duration": 11,
    "start_time": "2021-11-16T13:44:53.112Z"
   },
   {
    "duration": 6,
    "start_time": "2021-11-16T13:44:53.125Z"
   },
   {
    "duration": 9,
    "start_time": "2021-11-16T13:44:53.136Z"
   },
   {
    "duration": 7,
    "start_time": "2021-11-16T13:44:53.146Z"
   },
   {
    "duration": 4,
    "start_time": "2021-11-16T13:44:53.155Z"
   },
   {
    "duration": 9,
    "start_time": "2021-11-16T13:44:53.160Z"
   },
   {
    "duration": 6,
    "start_time": "2021-11-16T13:44:53.170Z"
   },
   {
    "duration": 18,
    "start_time": "2021-11-16T13:44:53.177Z"
   },
   {
    "duration": 2,
    "start_time": "2021-11-16T13:44:53.196Z"
   },
   {
    "duration": 14,
    "start_time": "2021-11-16T13:44:53.199Z"
   },
   {
    "duration": 9,
    "start_time": "2021-11-16T13:44:53.214Z"
   },
   {
    "duration": 10,
    "start_time": "2021-11-16T13:44:53.225Z"
   },
   {
    "duration": 10,
    "start_time": "2021-11-16T13:44:53.237Z"
   },
   {
    "duration": 2,
    "start_time": "2021-11-16T13:44:53.248Z"
   },
   {
    "duration": 6,
    "start_time": "2021-11-16T13:44:53.251Z"
   },
   {
    "duration": 8,
    "start_time": "2021-11-16T13:44:53.258Z"
   },
   {
    "duration": 12,
    "start_time": "2021-11-16T13:44:53.267Z"
   },
   {
    "duration": 10,
    "start_time": "2021-11-16T13:44:53.281Z"
   },
   {
    "duration": 10,
    "start_time": "2021-11-16T13:44:53.292Z"
   },
   {
    "duration": 2,
    "start_time": "2021-11-16T13:44:53.303Z"
   },
   {
    "duration": 5,
    "start_time": "2021-11-16T13:44:53.307Z"
   },
   {
    "duration": 10,
    "start_time": "2021-11-16T13:44:53.313Z"
   },
   {
    "duration": 10,
    "start_time": "2021-11-16T13:44:53.324Z"
   },
   {
    "duration": 10,
    "start_time": "2021-11-16T13:44:53.336Z"
   },
   {
    "duration": 3,
    "start_time": "2021-11-16T13:44:53.347Z"
   },
   {
    "duration": 5,
    "start_time": "2021-11-16T13:44:53.352Z"
   },
   {
    "duration": 9,
    "start_time": "2021-11-16T13:44:53.358Z"
   },
   {
    "duration": 22,
    "start_time": "2021-11-16T13:44:53.368Z"
   },
   {
    "duration": 5,
    "start_time": "2021-11-16T13:44:53.392Z"
   },
   {
    "duration": 176,
    "start_time": "2021-11-16T13:46:19.356Z"
   },
   {
    "duration": 3,
    "start_time": "2021-11-16T14:08:35.924Z"
   },
   {
    "duration": 336,
    "start_time": "2021-11-16T14:08:47.240Z"
   },
   {
    "duration": 10,
    "start_time": "2021-11-16T14:09:04.649Z"
   }
  ],
  "kernelspec": {
   "display_name": "Python 3 (ipykernel)",
   "language": "python",
   "name": "python3"
  },
  "language_info": {
   "codemirror_mode": {
    "name": "ipython",
    "version": 3
   },
   "file_extension": ".py",
   "mimetype": "text/x-python",
   "name": "python",
   "nbconvert_exporter": "python",
   "pygments_lexer": "ipython3",
   "version": "3.8.10"
  },
  "toc": {
   "base_numbering": 1,
   "nav_menu": {},
   "number_sections": true,
   "sideBar": true,
   "skip_h1_title": true,
   "title_cell": "Table of Contents",
   "title_sidebar": "Contents",
   "toc_cell": false,
   "toc_position": {},
   "toc_section_display": true,
   "toc_window_display": false
  }
 },
 "nbformat": 4,
 "nbformat_minor": 2
}
